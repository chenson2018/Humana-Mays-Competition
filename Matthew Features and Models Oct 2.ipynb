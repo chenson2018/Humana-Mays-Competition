{
 "cells": [
  {
   "cell_type": "code",
   "execution_count": 1,
   "metadata": {},
   "outputs": [
    {
     "name": "stderr",
     "output_type": "stream",
     "text": [
      "Using TensorFlow backend.\n"
     ]
    }
   ],
   "source": [
    "%matplotlib inline\n",
    "import pandas as pd\n",
    "import numpy as np\n",
    "import matplotlib.pyplot as plt\n",
    "from sklearn.model_selection import train_test_split\n",
    "\n",
    "from sklearn.linear_model import LogisticRegression\n",
    "from sklearn.metrics import accuracy_score\n",
    "from sklearn.metrics import roc_auc_score\n",
    "from sklearn.ensemble import RandomForestClassifier\n",
    "from sklearn.model_selection import cross_validate\n",
    "from sklearn.model_selection import GridSearchCV\n",
    "from sklearn.neighbors import KNeighborsClassifier\n",
    "from sklearn.model_selection import cross_validate\n",
    "\n",
    "from sklearn.decomposition import PCA\n",
    "import tensorflow as tf\n",
    "from tensorflow import keras\n",
    "from sklearn.preprocessing import MinMaxScaler\n",
    "from sklearn.preprocessing import StandardScaler\n",
    "from keras import Sequential\n",
    "from keras.layers import Dense\n",
    "from keras.callbacks import EarlyStopping\n",
    "from keras.callbacks import ModelCheckpoint\n",
    "from keras.models import load_model\n",
    "\n",
    "pd.set_option('display.width', 1000)\n",
    "pd.set_option('display.max_rows', 1000)"
   ]
  },
  {
   "cell_type": "markdown",
   "metadata": {},
   "source": [
    "## Summary\n",
    "\n",
    "#### Added a few variables to 'features_matthew_v2.csv'\n",
    "1. 'total_costs_on_day_0'\n",
    "2. 'total_net_payment_on_day_0'\n",
    "3. 'net_payment_portion_on_day_0'\n",
    "4. 'opioid_cost_portion_on_day_0'\n",
    "5. 'np_portion_SUPPLY_day_0'\n",
    "6. 'op_portion_times_SUPPLY_day_0'\n",
    "\n",
    "#### some interaction terms with SUPPLY_CNT_on_day0\n",
    "7. 'MME_times_SUPPLY_day_0'\n",
    "8. 'total_cost_divide_SUPPLY_day_0' = 'total_costs_on_day_0'/'SUPPLY_CNT_on_day0'\n",
    "9. 'total_net_payment_divide_on_day_0' = 'total_net_payment_on_day_0'/'SUPPLY_CNT_on_day0'\n",
    "10. 'np_portion_divide_SUPPLY_day_0' = 'net_payment_portion_on_day_0'/'SUPPLY_CNT_on_day0'\n",
    "11. 'oc_portion_divide_SUPPLY_day_0' = 'opioid_cost_portion_on_day_0'/'SUPPLY_CNT_on_day0'\n",
    "12. 'max_MME_prior_divide_SUPPLY_day_0' = 'max_MME_prior'/'SUPPLY_CNT_on_day0'\n",
    "13. 'avg_MME_prior_divide_SUPPLY_day_0' = 'avg_MME_prior'/'SUPPLY_CNT_on_day0'\n",
    "14. 'tsc_prior_divide_SUPPLY_day_0' = 'total_SUPPLY_CNT_prior'/'SUPPLY_CNT_on_day0'\n",
    "15. 'tpa_prior_divide_SUPPLY_day_0' = 'total_PAYABLE_QTY_prior'/'SUPPLY_CNT_on_day0'\n",
    "16. 'oc_day_0_divide_SUPPLY_day_0' = 'opioid_cost_on_day_0'/'SUPPLY_CNT_on_day0'\n",
    "17. 'np_day_0_divide_SUPPLY_day_0' = 'opioid_net_payment_on_day_0'/'SUPPLY_CNT_on_day0'\n",
    "\n",
    "\n",
    "#### Tuned models: I suggest let's just use the tuned parameters (to save model-running time)\n",
    "1. RF\n",
    "2. NN\n",
    "3. LGB\n",
    "\n",
    "#### Conclusion: Turned out adding variables contributed more than tuning models\n",
    "\n",
    "\n",
    "##### ====================ignore below=============================\n",
    "\n",
    "#### Some notes on data\n",
    "1. In hold_out set, there are [16] ppl has no supply_day. How should we treat them?\n",
    "2. In train data, we have 129 problematic ppl: \n",
    "3. 18 of them have no supply_day data when day >= 0\n",
    "4. 34 of them have no supply_day data through out all period\n",
    "5. 68 of them have no supply_day data when day > 0\n",
    "6. 9 of them have no diagnosis data (but have supply_day data)\n",
    "\n",
    "#### Others\n",
    "1. Make sure make probability prediction when calculating roc_auc_score.\n",
    "2. Ref: https://scikit-learn.org/stable/modules/generated/sklearn.metrics.roc_auc_score.html\n"
   ]
  },
  {
   "cell_type": "markdown",
   "metadata": {},
   "source": [
    "## Process input and outpur"
   ]
  },
  {
   "cell_type": "code",
   "execution_count": 2,
   "metadata": {},
   "outputs": [
    {
     "name": "stderr",
     "output_type": "stream",
     "text": [
      "<string>:2: DtypeWarning: Columns (8) have mixed types. Specify dtype option on import or set low_memory=False.\n"
     ]
    },
    {
     "name": "stdout",
     "output_type": "stream",
     "text": [
      "Wall time: 14 s\n"
     ]
    }
   ],
   "source": [
    "%%time\n",
    "df = pd.read_csv('C:/Users/spong/Desktop/Humana/HMAHCC_COMP.csv')\n",
    "\n",
    "rx_paid = df[df['event_descr']=='RX Claim - Paid']\n",
    "\n",
    "rx_paid = rx_paid.drop(['event_attr2',\n",
    "                        'event_attr7'],\n",
    "                         axis = 1)\n",
    "\n",
    "rx_paid.columns = ['id',\n",
    "                   'event_descr',\n",
    "                   'gpi_drug_class_description',\n",
    "                   'rx_cost',\n",
    "                   'net_paid_amount',\n",
    "                   'brand_name',\n",
    "                   'drug_group_description',\n",
    "                   'generic_name',\n",
    "                   'member_responsible_amount',\n",
    "                   'gpi_drug_group8_id',\n",
    "                   'Days',\n",
    "                   'PAY_DAY_SUPPLY_CNT',\n",
    "                   'PAYABLE_QTY',\n",
    "                   'MME',\n",
    "                   'DRUG_TYPE',\n",
    "                   'Specialty',\n",
    "                   'Specialty2',\n",
    "                   'Specialty3']\n",
    "\n",
    "opioid_col = ['id',\n",
    "              'gpi_drug_class_description',\n",
    "              'brand_name',\n",
    "              'drug_group_description',\n",
    "              'generic_name',\n",
    "              'gpi_drug_group8_id',\n",
    "              'PAY_DAY_SUPPLY_CNT',\n",
    "              'PAYABLE_QTY',\n",
    "              'MME',\n",
    "              'DRUG_TYPE',\n",
    "              'Specialty',\n",
    "              'Specialty2',\n",
    "              'Specialty3',\n",
    "              'Days']\n",
    "\n",
    "opioid = rx_paid[(rx_paid['PAY_DAY_SUPPLY_CNT'].notnull())&(rx_paid['Days']<=0)][opioid_col]"
   ]
  },
  {
   "cell_type": "markdown",
   "metadata": {},
   "source": [
    "## Fill missing values on supply_CNT and MME\n",
    "Supply_CNT means opoid, but opioid doesn't mean it has supply_CNT data\n",
    "Use generic_name"
   ]
  },
  {
   "cell_type": "code",
   "execution_count": 3,
   "metadata": {},
   "outputs": [],
   "source": [
    "# opioid_all_time is data that w/ generic_name and not null PAY_DAY_SUPPLY_CNT  \n",
    "opioid_all_time = rx_paid[rx_paid['PAY_DAY_SUPPLY_CNT'].notnull()]['generic_name'].value_counts()\n",
    "\n",
    "mask = rx_paid['generic_name'].map(lambda x: x in opioid_all_time.index.values)\n",
    "\n",
    "# true_opioid: rx_paid data filtered by generic_names is in opioid_all_time\n",
    "true_opioid = rx_paid[mask]"
   ]
  },
  {
   "cell_type": "code",
   "execution_count": null,
   "metadata": {},
   "outputs": [],
   "source": [
    "# # Exploratory\n",
    "\n",
    "# # true_opioid without Supply_CNT\n",
    "# true_opioid_Supply_CNT = rx_paid[mask][rx_paid[mask]['PAY_DAY_SUPPLY_CNT'].notnull()]\n",
    "# # true_opioid without Supply_CNT\n",
    "# true_opioid_no_Supply_CNT = rx_paid[mask][rx_paid[mask]['PAY_DAY_SUPPLY_CNT'].isnull()]"
   ]
  },
  {
   "cell_type": "markdown",
   "metadata": {},
   "source": [
    "#### Missing values in PAY_DAY_SUPPLY_CNT\n",
    "2.05% of opioid drug data don't have PAY_DAY_SUPPLY_CNT data"
   ]
  },
  {
   "cell_type": "code",
   "execution_count": 22,
   "metadata": {},
   "outputs": [
    {
     "data": {
      "text/plain": [
       "0.02052119576794717"
      ]
     },
     "execution_count": 22,
     "metadata": {},
     "output_type": "execute_result"
    }
   ],
   "source": [
    "# all_counts = true_opioid_Supply_CNT[true_opioid_Supply_CNT['Days']==0].shape[0]\n",
    "# missing_counts = true_opioid_no_Supply_CNT[true_opioid_no_Supply_CNT['Days']==0].shape[0]\n",
    "\n",
    "# missing_counts/all_counts"
   ]
  },
  {
   "cell_type": "code",
   "execution_count": 20,
   "metadata": {},
   "outputs": [
    {
     "data": {
      "text/plain": [
       "['TRAMADOL HCL TAB 50 MG',\n",
       " 'OXYCODONE W/ ACETAMINOPHEN TAB 5-325 MG',\n",
       " 'OXYCODONE HCL TAB 10 MG',\n",
       " 'HYDROCODONE-ACETAMINOPHEN TAB 5-325 MG',\n",
       " 'HYDROCODONE-ACETAMINOPHEN TAB 10-325 MG']"
      ]
     },
     "execution_count": 20,
     "metadata": {},
     "output_type": "execute_result"
    }
   ],
   "source": [
    "# tos_gn = true_opioid_Supply_CNT[true_opioid_Supply_CNT['Days']==0]['generic_name'].drop_duplicates()\n",
    "# tons_gn = true_opioid_no_Supply_CNT[true_opioid_no_Supply_CNT['Days']==0]['generic_name'].drop_duplicates()\n",
    "\n",
    "# [x for x in tos_gn.values if x in tons_gn.values][:5]"
   ]
  },
  {
   "cell_type": "code",
   "execution_count": 33,
   "metadata": {},
   "outputs": [
    {
     "data": {
      "text/plain": [
       "0    30.0\n",
       "dtype: float64"
      ]
     },
     "execution_count": 33,
     "metadata": {},
     "output_type": "execute_result"
    }
   ],
   "source": [
    "# mask2 = (true_opioid['generic_name'] == 'HYDROCODONE-ACETAMINOPHEN TAB 10-325 MG')&(true_opioid['Days']<=0)\n",
    "# true_opioid[mask2]['PAY_DAY_SUPPLY_CNT'].mode()"
   ]
  },
  {
   "cell_type": "markdown",
   "metadata": {},
   "source": [
    "#### IDs with missing value in PAY_DAY_SUPPLY_CNT\n",
    "85 ppl or 0.6% of ppl had opioid drugs of day<=0 but without PAY_DAY_SUPPLY_CNT data"
   ]
  },
  {
   "cell_type": "code",
   "execution_count": 15,
   "metadata": {},
   "outputs": [
    {
     "data": {
      "text/plain": [
       "85"
      ]
     },
     "execution_count": 15,
     "metadata": {},
     "output_type": "execute_result"
    }
   ],
   "source": [
    "# tos_id = true_opioid_Supply_CNT[true_opioid_Supply_CNT['Days']<=0]['id'].drop_duplicates()\n",
    "# tons_id = true_opioid_no_Supply_CNT[true_opioid_no_Supply_CNT['Days']<=0]['id'].drop_duplicates()\n",
    "\n",
    "# len([x for x in tons_id.values if x not in tos_id.values])\n",
    "# # 85 people have opioid data but no supply_day data on day<=0"
   ]
  },
  {
   "cell_type": "code",
   "execution_count": 35,
   "metadata": {},
   "outputs": [
    {
     "data": {
      "text/plain": [
       "0.006071428571428571"
      ]
     },
     "execution_count": 35,
     "metadata": {},
     "output_type": "execute_result"
    }
   ],
   "source": [
    "# 85/14000"
   ]
  },
  {
   "cell_type": "markdown",
   "metadata": {},
   "source": [
    "17 ppl have no opioid drugs data"
   ]
  },
  {
   "cell_type": "code",
   "execution_count": 66,
   "metadata": {},
   "outputs": [
    {
     "name": "stdout",
     "output_type": "stream",
     "text": [
      "17\n",
      "['ID13362382498', 'ID14698922966', 'ID15002303111', 'ID19738321946', 'ID21430468895', 'ID27220994153', 'ID30313395070', 'ID36354083119', 'ID53521180550', 'ID55796310983', 'ID59083521579', 'ID62579261726', 'ID63293388003', 'ID77890885331', 'ID86806699161', 'ID96200812839', 'ID98715617553']\n"
     ]
    }
   ],
   "source": [
    "# df_id = df['id'].drop_duplicates() \n",
    "# true_opioid_id = true_opioid[true_opioid['Days']<=0]['id'].drop_duplicates() \n",
    "\n",
    "# nouseppl = [x for x in df_id.values if x not in true_opioid_id.values]\n",
    "# print(len(nouseppl))\n",
    "# print(nouseppl)\n",
    "# # These people have no opioid drugs data"
   ]
  },
  {
   "cell_type": "markdown",
   "metadata": {},
   "source": [
    "#### Why brand_name is not good filter:\n",
    "Some brand_name contains non opioid drugs"
   ]
  },
  {
   "cell_type": "code",
   "execution_count": 482,
   "metadata": {},
   "outputs": [
    {
     "name": "stdout",
     "output_type": "stream",
     "text": [
      "total numbers of opioid generic_name 77\n"
     ]
    }
   ],
   "source": [
    "# opioid_all_time = rx_paid[rx_paid['PAY_DAY_SUPPLY_CNT'].notnull()]['brand_name'].value_counts()\n",
    "# print('total numbers of opioid generic_name', len(opioid_all_time))\n",
    "# mask = rx_paid['brand_name'].map(lambda x: x in opioid_all_time.index.values)\n",
    "# true_opioid_filtered_by_brand_name = rx_paid[mask]"
   ]
  },
  {
   "cell_type": "code",
   "execution_count": 487,
   "metadata": {},
   "outputs": [
    {
     "data": {
      "text/plain": [
       "['BUTALBITAL-ACETAMINOPHEN-CAFFEINE TAB 50-325-40 MG',\n",
       " 'BUTALBITAL-ASPIRIN-CAFFEINE CAP 50-325-40 MG',\n",
       " 'BUTALBITAL-ACETAMINOPHEN-CAFFEINE CAP 50-325-40 MG',\n",
       " 'BUTALBITAL-ACETAMINOPHEN-CAFFEINE CAP 50-300-40 MG',\n",
       " 'MORPHINE SULFATE INJ 10 MG/ML',\n",
       " 'HYDROMORPHONE HCL PRESERVATIVE FREE (PF) INJ 10 MG/ML',\n",
       " 'MORPHINE SULFATE IV SOLN PF 10 MG/ML',\n",
       " 'MORPHINE SULFATE POWDER',\n",
       " 'NALTREXONE HCL (BULK) POWDER',\n",
       " 'HYDROMORPHONE HCL POWDER',\n",
       " 'BUTALBITAL-ASPIRIN-CAFFEINE TAB 50-325-40 MG',\n",
       " 'FENTANYL SUBLINGUAL SPRAY 400 MCG',\n",
       " 'TRAMADOL HCL (BULK) POWDER']"
      ]
     },
     "execution_count": 487,
     "metadata": {},
     "output_type": "execute_result"
    }
   ],
   "source": [
    "# true_opioid_gn = true_opioid['generic_name'].drop_duplicates()\n",
    "# true_opioid_filtered_by_brand_name_gn = true_opioid_filtered_by_brand_name['generic_name'].drop_duplicates()\n",
    "# [x for x in true_opioid_filtered_by_brand_name_gn.values if x not in true_opioid_gn.values]"
   ]
  },
  {
   "cell_type": "markdown",
   "metadata": {},
   "source": [
    "Other info"
   ]
  },
  {
   "cell_type": "code",
   "execution_count": null,
   "metadata": {},
   "outputs": [],
   "source": [
    "# # some special brands\n",
    "\n",
    "# 'OPIUM' # only one data point\n",
    "\n",
    "# ['MOVANTIK', # Opioid receptor antagonists\n",
    "#  'RELISTOR', # Opioid receptor antagonists\n",
    "#  'FENTANYL CITRATE', # OPIOID AGONISTS\n",
    "#  'HYDROMORPHONE HCL DOSETTE', # OPIOID AGONISTS\n",
    "#  'SYMPROIC'] # PERIPHERAL OPIOID RECEPTOR ANTAGONISTS"
   ]
  },
  {
   "cell_type": "markdown",
   "metadata": {},
   "source": [
    "#### Why should  I use true_opioid but not opioid?\n",
    "Because I can retain data of 85 more ppl"
   ]
  },
  {
   "cell_type": "code",
   "execution_count": 38,
   "metadata": {},
   "outputs": [
    {
     "name": "stdout",
     "output_type": "stream",
     "text": [
      "Wall time: 1.19 s\n"
     ]
    },
    {
     "data": {
      "text/plain": [
       "rx_cost                  0\n",
       "PAY_DAY_SUPPLY_CNT    5348\n",
       "PAYABLE_QTY           5348\n",
       "MME                   6489\n",
       "generic_name             0\n",
       "dtype: int64"
      ]
     },
     "execution_count": 38,
     "metadata": {},
     "output_type": "execute_result"
    }
   ],
   "source": [
    "# %%time\n",
    "# rx_paid['rx_cost'] = rx_paid['rx_cost'].map(lambda x: float(x))\n",
    "# true_opioid[['rx_cost','PAY_DAY_SUPPLY_CNT', 'PAYABLE_QTY', 'MME', 'generic_name']].isnull().apply(sum)"
   ]
  },
  {
   "cell_type": "code",
   "execution_count": 40,
   "metadata": {},
   "outputs": [
    {
     "data": {
      "text/plain": [
       "PAY_DAY_SUPPLY_CNT      0\n",
       "PAYABLE_QTY             0\n",
       "MME                   499\n",
       "generic_name            0\n",
       "dtype: int64"
      ]
     },
     "execution_count": 40,
     "metadata": {},
     "output_type": "execute_result"
    }
   ],
   "source": [
    "# opioid[['PAY_DAY_SUPPLY_CNT', 'PAYABLE_QTY', 'MME', 'generic_name']].isnull().apply(sum)"
   ]
  },
  {
   "cell_type": "code",
   "execution_count": 41,
   "metadata": {},
   "outputs": [
    {
     "data": {
      "text/plain": [
       "13898"
      ]
     },
     "execution_count": 41,
     "metadata": {},
     "output_type": "execute_result"
    }
   ],
   "source": [
    "# len(opioid['id'].drop_duplicates())"
   ]
  },
  {
   "cell_type": "code",
   "execution_count": 50,
   "metadata": {},
   "outputs": [
    {
     "data": {
      "text/plain": [
       "13983"
      ]
     },
     "execution_count": 50,
     "metadata": {},
     "output_type": "execute_result"
    }
   ],
   "source": [
    "# len(true_opioid[true_opioid['Days']<=0]['id'].drop_duplicates())"
   ]
  },
  {
   "cell_type": "code",
   "execution_count": 52,
   "metadata": {},
   "outputs": [
    {
     "data": {
      "text/plain": [
       "85"
      ]
     },
     "execution_count": 52,
     "metadata": {},
     "output_type": "execute_result"
    }
   ],
   "source": [
    "# 13983-13898"
   ]
  },
  {
   "cell_type": "markdown",
   "metadata": {},
   "source": [
    "## How should I fill missing values?"
   ]
  },
  {
   "cell_type": "code",
   "execution_count": 520,
   "metadata": {},
   "outputs": [
    {
     "name": "stdout",
     "output_type": "stream",
     "text": [
      "mode 0    30.0\n",
      "dtype: float64\n",
      "mean 27.071109609505704\n",
      "median 30.0\n"
     ]
    }
   ],
   "source": [
    "# print('mode', true_opioid['PAY_DAY_SUPPLY_CNT'].mode())\n",
    "# print('mean',true_opioid['PAY_DAY_SUPPLY_CNT'].mean())\n",
    "# print('median',true_opioid['PAY_DAY_SUPPLY_CNT'].median())"
   ]
  },
  {
   "cell_type": "code",
   "execution_count": 527,
   "metadata": {},
   "outputs": [
    {
     "name": "stdout",
     "output_type": "stream",
     "text": [
      "mode 0    60.0\n",
      "dtype: float64\n",
      "mean 85.83430146175859\n",
      "median 90.0\n"
     ]
    }
   ],
   "source": [
    "# print('mode', true_opioid['PAYABLE_QTY'].mode())\n",
    "# print('mean',true_opioid['PAYABLE_QTY'].mean())\n",
    "# print('median',true_opioid['PAYABLE_QTY'].median())"
   ]
  },
  {
   "cell_type": "code",
   "execution_count": 526,
   "metadata": {},
   "outputs": [
    {
     "name": "stdout",
     "output_type": "stream",
     "text": [
      "mode 0    30.0\n",
      "dtype: float64\n",
      "mean 43.84522635140777\n",
      "median 30.0\n"
     ]
    }
   ],
   "source": [
    "# print('mode', true_opioid['MME'].mode())\n",
    "# print('mean',true_opioid['MME'].mean())\n",
    "# print('median',true_opioid['MME'].median())"
   ]
  },
  {
   "cell_type": "markdown",
   "metadata": {},
   "source": [
    "#### Fill PAY_DAY_SUPPLY_CNT with mode"
   ]
  },
  {
   "cell_type": "code",
   "execution_count": 4,
   "metadata": {},
   "outputs": [
    {
     "name": "stderr",
     "output_type": "stream",
     "text": [
      "C:\\Users\\spong\\Anaconda3\\envs\\test\\lib\\site-packages\\ipykernel_launcher.py:3: SettingWithCopyWarning: \n",
      "A value is trying to be set on a copy of a slice from a DataFrame\n",
      "\n",
      "See the caveats in the documentation: http://pandas.pydata.org/pandas-docs/stable/indexing.html#indexing-view-versus-copy\n",
      "  This is separate from the ipykernel package so we can avoid doing imports until\n",
      "C:\\Users\\spong\\Anaconda3\\envs\\test\\lib\\site-packages\\pandas\\core\\generic.py:8682: SettingWithCopyWarning: \n",
      "A value is trying to be set on a copy of a slice from a DataFrame\n",
      "\n",
      "See the caveats in the documentation: http://pandas.pydata.org/pandas-docs/stable/indexing.html#indexing-view-versus-copy\n",
      "  self._update_inplace(new_data)\n",
      "C:\\Users\\spong\\Anaconda3\\envs\\test\\lib\\site-packages\\IPython\\core\\interactiveshell.py:3325: SettingWithCopyWarning: \n",
      "A value is trying to be set on a copy of a slice from a DataFrame\n",
      "\n",
      "See the caveats in the documentation: http://pandas.pydata.org/pandas-docs/stable/indexing.html#indexing-view-versus-copy\n",
      "  exec(code_obj, self.user_global_ns, self.user_ns)\n"
     ]
    },
    {
     "data": {
      "text/html": [
       "<div>\n",
       "<style scoped>\n",
       "    .dataframe tbody tr th:only-of-type {\n",
       "        vertical-align: middle;\n",
       "    }\n",
       "\n",
       "    .dataframe tbody tr th {\n",
       "        vertical-align: top;\n",
       "    }\n",
       "\n",
       "    .dataframe thead th {\n",
       "        text-align: right;\n",
       "    }\n",
       "</style>\n",
       "<table border=\"1\" class=\"dataframe\">\n",
       "  <thead>\n",
       "    <tr style=\"text-align: right;\">\n",
       "      <th></th>\n",
       "      <th>id</th>\n",
       "      <th>event_descr</th>\n",
       "      <th>gpi_drug_class_description</th>\n",
       "      <th>rx_cost</th>\n",
       "      <th>net_paid_amount</th>\n",
       "      <th>brand_name</th>\n",
       "      <th>drug_group_description</th>\n",
       "      <th>generic_name</th>\n",
       "      <th>member_responsible_amount</th>\n",
       "      <th>gpi_drug_group8_id</th>\n",
       "      <th>Days</th>\n",
       "      <th>PAY_DAY_SUPPLY_CNT</th>\n",
       "      <th>PAYABLE_QTY</th>\n",
       "      <th>MME</th>\n",
       "      <th>DRUG_TYPE</th>\n",
       "      <th>Specialty</th>\n",
       "      <th>Specialty2</th>\n",
       "      <th>Specialty3</th>\n",
       "    </tr>\n",
       "  </thead>\n",
       "  <tbody>\n",
       "    <tr>\n",
       "      <th>1386</th>\n",
       "      <td>ID1002482139</td>\n",
       "      <td>RX Claim - Paid</td>\n",
       "      <td>OPIOID AGONISTS</td>\n",
       "      <td>13.7</td>\n",
       "      <td>13.7</td>\n",
       "      <td>OXYCODONE HCL</td>\n",
       "      <td>PAIN</td>\n",
       "      <td>OXYCODONE HCL TAB 10 MG</td>\n",
       "      <td>0.00</td>\n",
       "      <td>65100075.0</td>\n",
       "      <td>472</td>\n",
       "      <td>30.0</td>\n",
       "      <td>NaN</td>\n",
       "      <td>NaN</td>\n",
       "      <td>NaN</td>\n",
       "      <td>NaN</td>\n",
       "      <td>NaN</td>\n",
       "      <td>NaN</td>\n",
       "    </tr>\n",
       "    <tr>\n",
       "      <th>3082</th>\n",
       "      <td>ID10074598346</td>\n",
       "      <td>RX Claim - Paid</td>\n",
       "      <td>OPIOID COMBINATIONS</td>\n",
       "      <td>13.1</td>\n",
       "      <td>11.13</td>\n",
       "      <td>HYDROCODONE/ACETAMINOPHEN</td>\n",
       "      <td>PAIN</td>\n",
       "      <td>HYDROCODONE-ACETAMINOPHEN TAB 7.5-325 MG</td>\n",
       "      <td>1.97</td>\n",
       "      <td>65991702.0</td>\n",
       "      <td>347</td>\n",
       "      <td>30.0</td>\n",
       "      <td>NaN</td>\n",
       "      <td>NaN</td>\n",
       "      <td>NaN</td>\n",
       "      <td>NaN</td>\n",
       "      <td>NaN</td>\n",
       "      <td>NaN</td>\n",
       "    </tr>\n",
       "    <tr>\n",
       "      <th>3107</th>\n",
       "      <td>ID10074598346</td>\n",
       "      <td>RX Claim - Paid</td>\n",
       "      <td>OPIOID COMBINATIONS</td>\n",
       "      <td>13.1</td>\n",
       "      <td>11.13</td>\n",
       "      <td>HYDROCODONE/ACETAMINOPHEN</td>\n",
       "      <td>PAIN</td>\n",
       "      <td>HYDROCODONE-ACETAMINOPHEN TAB 7.5-325 MG</td>\n",
       "      <td>1.97</td>\n",
       "      <td>65991702.0</td>\n",
       "      <td>379</td>\n",
       "      <td>30.0</td>\n",
       "      <td>NaN</td>\n",
       "      <td>NaN</td>\n",
       "      <td>NaN</td>\n",
       "      <td>NaN</td>\n",
       "      <td>NaN</td>\n",
       "      <td>NaN</td>\n",
       "    </tr>\n",
       "    <tr>\n",
       "      <th>3135</th>\n",
       "      <td>ID10074598346</td>\n",
       "      <td>RX Claim - Paid</td>\n",
       "      <td>OPIOID COMBINATIONS</td>\n",
       "      <td>13.1</td>\n",
       "      <td>0</td>\n",
       "      <td>HYDROCODONE/ACETAMINOPHEN</td>\n",
       "      <td>PAIN</td>\n",
       "      <td>HYDROCODONE-ACETAMINOPHEN TAB 7.5-325 MG</td>\n",
       "      <td>13.10</td>\n",
       "      <td>65991702.0</td>\n",
       "      <td>416</td>\n",
       "      <td>30.0</td>\n",
       "      <td>NaN</td>\n",
       "      <td>NaN</td>\n",
       "      <td>NaN</td>\n",
       "      <td>NaN</td>\n",
       "      <td>NaN</td>\n",
       "      <td>NaN</td>\n",
       "    </tr>\n",
       "    <tr>\n",
       "      <th>3159</th>\n",
       "      <td>ID10074598346</td>\n",
       "      <td>RX Claim - Paid</td>\n",
       "      <td>OPIOID COMBINATIONS</td>\n",
       "      <td>13.1</td>\n",
       "      <td>0</td>\n",
       "      <td>HYDROCODONE/ACETAMINOPHEN</td>\n",
       "      <td>PAIN</td>\n",
       "      <td>HYDROCODONE-ACETAMINOPHEN TAB 7.5-325 MG</td>\n",
       "      <td>13.10</td>\n",
       "      <td>65991702.0</td>\n",
       "      <td>445</td>\n",
       "      <td>30.0</td>\n",
       "      <td>NaN</td>\n",
       "      <td>NaN</td>\n",
       "      <td>NaN</td>\n",
       "      <td>NaN</td>\n",
       "      <td>NaN</td>\n",
       "      <td>NaN</td>\n",
       "    </tr>\n",
       "  </tbody>\n",
       "</table>\n",
       "</div>"
      ],
      "text/plain": [
       "                 id      event_descr gpi_drug_class_description rx_cost net_paid_amount                 brand_name drug_group_description                              generic_name  member_responsible_amount  gpi_drug_group8_id  Days  PAY_DAY_SUPPLY_CNT  PAYABLE_QTY  MME DRUG_TYPE Specialty Specialty2 Specialty3\n",
       "1386   ID1002482139  RX Claim - Paid            OPIOID AGONISTS    13.7            13.7              OXYCODONE HCL                   PAIN                   OXYCODONE HCL TAB 10 MG                       0.00          65100075.0   472                30.0          NaN  NaN       NaN       NaN        NaN        NaN\n",
       "3082  ID10074598346  RX Claim - Paid        OPIOID COMBINATIONS    13.1           11.13  HYDROCODONE/ACETAMINOPHEN                   PAIN  HYDROCODONE-ACETAMINOPHEN TAB 7.5-325 MG                       1.97          65991702.0   347                30.0          NaN  NaN       NaN       NaN        NaN        NaN\n",
       "3107  ID10074598346  RX Claim - Paid        OPIOID COMBINATIONS    13.1           11.13  HYDROCODONE/ACETAMINOPHEN                   PAIN  HYDROCODONE-ACETAMINOPHEN TAB 7.5-325 MG                       1.97          65991702.0   379                30.0          NaN  NaN       NaN       NaN        NaN        NaN\n",
       "3135  ID10074598346  RX Claim - Paid        OPIOID COMBINATIONS    13.1               0  HYDROCODONE/ACETAMINOPHEN                   PAIN  HYDROCODONE-ACETAMINOPHEN TAB 7.5-325 MG                      13.10          65991702.0   416                30.0          NaN  NaN       NaN       NaN        NaN        NaN\n",
       "3159  ID10074598346  RX Claim - Paid        OPIOID COMBINATIONS    13.1               0  HYDROCODONE/ACETAMINOPHEN                   PAIN  HYDROCODONE-ACETAMINOPHEN TAB 7.5-325 MG                      13.10          65991702.0   445                30.0          NaN  NaN       NaN       NaN        NaN        NaN"
      ]
     },
     "execution_count": 4,
     "metadata": {},
     "output_type": "execute_result"
    }
   ],
   "source": [
    "mask_to_fill = true_opioid['PAY_DAY_SUPPLY_CNT'].isnull()\n",
    "mode = true_opioid['PAY_DAY_SUPPLY_CNT'][~mask_to_fill].mode()\n",
    "true_opioid['PAY_DAY_SUPPLY_CNT'][mask_to_fill] = [mode]*sum(mask_to_fill)\n",
    "true_opioid[mask_to_fill].head()"
   ]
  },
  {
   "cell_type": "markdown",
   "metadata": {},
   "source": [
    "#### Fill PAYABLE_QTY with mean"
   ]
  },
  {
   "cell_type": "code",
   "execution_count": 5,
   "metadata": {},
   "outputs": [
    {
     "name": "stderr",
     "output_type": "stream",
     "text": [
      "C:\\Users\\spong\\Anaconda3\\envs\\test\\lib\\site-packages\\ipykernel_launcher.py:3: SettingWithCopyWarning: \n",
      "A value is trying to be set on a copy of a slice from a DataFrame\n",
      "\n",
      "See the caveats in the documentation: http://pandas.pydata.org/pandas-docs/stable/indexing.html#indexing-view-versus-copy\n",
      "  This is separate from the ipykernel package so we can avoid doing imports until\n"
     ]
    },
    {
     "data": {
      "text/html": [
       "<div>\n",
       "<style scoped>\n",
       "    .dataframe tbody tr th:only-of-type {\n",
       "        vertical-align: middle;\n",
       "    }\n",
       "\n",
       "    .dataframe tbody tr th {\n",
       "        vertical-align: top;\n",
       "    }\n",
       "\n",
       "    .dataframe thead th {\n",
       "        text-align: right;\n",
       "    }\n",
       "</style>\n",
       "<table border=\"1\" class=\"dataframe\">\n",
       "  <thead>\n",
       "    <tr style=\"text-align: right;\">\n",
       "      <th></th>\n",
       "      <th>id</th>\n",
       "      <th>event_descr</th>\n",
       "      <th>gpi_drug_class_description</th>\n",
       "      <th>rx_cost</th>\n",
       "      <th>net_paid_amount</th>\n",
       "      <th>brand_name</th>\n",
       "      <th>drug_group_description</th>\n",
       "      <th>generic_name</th>\n",
       "      <th>member_responsible_amount</th>\n",
       "      <th>gpi_drug_group8_id</th>\n",
       "      <th>Days</th>\n",
       "      <th>PAY_DAY_SUPPLY_CNT</th>\n",
       "      <th>PAYABLE_QTY</th>\n",
       "      <th>MME</th>\n",
       "      <th>DRUG_TYPE</th>\n",
       "      <th>Specialty</th>\n",
       "      <th>Specialty2</th>\n",
       "      <th>Specialty3</th>\n",
       "    </tr>\n",
       "  </thead>\n",
       "  <tbody>\n",
       "    <tr>\n",
       "      <th>1386</th>\n",
       "      <td>ID1002482139</td>\n",
       "      <td>RX Claim - Paid</td>\n",
       "      <td>OPIOID AGONISTS</td>\n",
       "      <td>13.7</td>\n",
       "      <td>13.7</td>\n",
       "      <td>OXYCODONE HCL</td>\n",
       "      <td>PAIN</td>\n",
       "      <td>OXYCODONE HCL TAB 10 MG</td>\n",
       "      <td>0.00</td>\n",
       "      <td>65100075.0</td>\n",
       "      <td>472</td>\n",
       "      <td>30.0</td>\n",
       "      <td>85.834301</td>\n",
       "      <td>NaN</td>\n",
       "      <td>NaN</td>\n",
       "      <td>NaN</td>\n",
       "      <td>NaN</td>\n",
       "      <td>NaN</td>\n",
       "    </tr>\n",
       "    <tr>\n",
       "      <th>3082</th>\n",
       "      <td>ID10074598346</td>\n",
       "      <td>RX Claim - Paid</td>\n",
       "      <td>OPIOID COMBINATIONS</td>\n",
       "      <td>13.1</td>\n",
       "      <td>11.13</td>\n",
       "      <td>HYDROCODONE/ACETAMINOPHEN</td>\n",
       "      <td>PAIN</td>\n",
       "      <td>HYDROCODONE-ACETAMINOPHEN TAB 7.5-325 MG</td>\n",
       "      <td>1.97</td>\n",
       "      <td>65991702.0</td>\n",
       "      <td>347</td>\n",
       "      <td>30.0</td>\n",
       "      <td>85.834301</td>\n",
       "      <td>NaN</td>\n",
       "      <td>NaN</td>\n",
       "      <td>NaN</td>\n",
       "      <td>NaN</td>\n",
       "      <td>NaN</td>\n",
       "    </tr>\n",
       "    <tr>\n",
       "      <th>3107</th>\n",
       "      <td>ID10074598346</td>\n",
       "      <td>RX Claim - Paid</td>\n",
       "      <td>OPIOID COMBINATIONS</td>\n",
       "      <td>13.1</td>\n",
       "      <td>11.13</td>\n",
       "      <td>HYDROCODONE/ACETAMINOPHEN</td>\n",
       "      <td>PAIN</td>\n",
       "      <td>HYDROCODONE-ACETAMINOPHEN TAB 7.5-325 MG</td>\n",
       "      <td>1.97</td>\n",
       "      <td>65991702.0</td>\n",
       "      <td>379</td>\n",
       "      <td>30.0</td>\n",
       "      <td>85.834301</td>\n",
       "      <td>NaN</td>\n",
       "      <td>NaN</td>\n",
       "      <td>NaN</td>\n",
       "      <td>NaN</td>\n",
       "      <td>NaN</td>\n",
       "    </tr>\n",
       "    <tr>\n",
       "      <th>3135</th>\n",
       "      <td>ID10074598346</td>\n",
       "      <td>RX Claim - Paid</td>\n",
       "      <td>OPIOID COMBINATIONS</td>\n",
       "      <td>13.1</td>\n",
       "      <td>0</td>\n",
       "      <td>HYDROCODONE/ACETAMINOPHEN</td>\n",
       "      <td>PAIN</td>\n",
       "      <td>HYDROCODONE-ACETAMINOPHEN TAB 7.5-325 MG</td>\n",
       "      <td>13.10</td>\n",
       "      <td>65991702.0</td>\n",
       "      <td>416</td>\n",
       "      <td>30.0</td>\n",
       "      <td>85.834301</td>\n",
       "      <td>NaN</td>\n",
       "      <td>NaN</td>\n",
       "      <td>NaN</td>\n",
       "      <td>NaN</td>\n",
       "      <td>NaN</td>\n",
       "    </tr>\n",
       "    <tr>\n",
       "      <th>3159</th>\n",
       "      <td>ID10074598346</td>\n",
       "      <td>RX Claim - Paid</td>\n",
       "      <td>OPIOID COMBINATIONS</td>\n",
       "      <td>13.1</td>\n",
       "      <td>0</td>\n",
       "      <td>HYDROCODONE/ACETAMINOPHEN</td>\n",
       "      <td>PAIN</td>\n",
       "      <td>HYDROCODONE-ACETAMINOPHEN TAB 7.5-325 MG</td>\n",
       "      <td>13.10</td>\n",
       "      <td>65991702.0</td>\n",
       "      <td>445</td>\n",
       "      <td>30.0</td>\n",
       "      <td>85.834301</td>\n",
       "      <td>NaN</td>\n",
       "      <td>NaN</td>\n",
       "      <td>NaN</td>\n",
       "      <td>NaN</td>\n",
       "      <td>NaN</td>\n",
       "    </tr>\n",
       "  </tbody>\n",
       "</table>\n",
       "</div>"
      ],
      "text/plain": [
       "                 id      event_descr gpi_drug_class_description rx_cost net_paid_amount                 brand_name drug_group_description                              generic_name  member_responsible_amount  gpi_drug_group8_id  Days  PAY_DAY_SUPPLY_CNT  PAYABLE_QTY  MME DRUG_TYPE Specialty Specialty2 Specialty3\n",
       "1386   ID1002482139  RX Claim - Paid            OPIOID AGONISTS    13.7            13.7              OXYCODONE HCL                   PAIN                   OXYCODONE HCL TAB 10 MG                       0.00          65100075.0   472                30.0    85.834301  NaN       NaN       NaN        NaN        NaN\n",
       "3082  ID10074598346  RX Claim - Paid        OPIOID COMBINATIONS    13.1           11.13  HYDROCODONE/ACETAMINOPHEN                   PAIN  HYDROCODONE-ACETAMINOPHEN TAB 7.5-325 MG                       1.97          65991702.0   347                30.0    85.834301  NaN       NaN       NaN        NaN        NaN\n",
       "3107  ID10074598346  RX Claim - Paid        OPIOID COMBINATIONS    13.1           11.13  HYDROCODONE/ACETAMINOPHEN                   PAIN  HYDROCODONE-ACETAMINOPHEN TAB 7.5-325 MG                       1.97          65991702.0   379                30.0    85.834301  NaN       NaN       NaN        NaN        NaN\n",
       "3135  ID10074598346  RX Claim - Paid        OPIOID COMBINATIONS    13.1               0  HYDROCODONE/ACETAMINOPHEN                   PAIN  HYDROCODONE-ACETAMINOPHEN TAB 7.5-325 MG                      13.10          65991702.0   416                30.0    85.834301  NaN       NaN       NaN        NaN        NaN\n",
       "3159  ID10074598346  RX Claim - Paid        OPIOID COMBINATIONS    13.1               0  HYDROCODONE/ACETAMINOPHEN                   PAIN  HYDROCODONE-ACETAMINOPHEN TAB 7.5-325 MG                      13.10          65991702.0   445                30.0    85.834301  NaN       NaN       NaN        NaN        NaN"
      ]
     },
     "execution_count": 5,
     "metadata": {},
     "output_type": "execute_result"
    }
   ],
   "source": [
    "mask_to_fill = true_opioid['PAYABLE_QTY'].isnull()\n",
    "mode = true_opioid['PAYABLE_QTY'][~mask_to_fill].mean()\n",
    "true_opioid['PAYABLE_QTY'][mask_to_fill] = [mode]*sum(mask_to_fill)\n",
    "true_opioid[mask_to_fill].head()"
   ]
  },
  {
   "cell_type": "markdown",
   "metadata": {},
   "source": [
    "#### Fill MME with mode"
   ]
  },
  {
   "cell_type": "code",
   "execution_count": 6,
   "metadata": {},
   "outputs": [
    {
     "name": "stderr",
     "output_type": "stream",
     "text": [
      "C:\\Users\\spong\\Anaconda3\\envs\\test\\lib\\site-packages\\ipykernel_launcher.py:3: SettingWithCopyWarning: \n",
      "A value is trying to be set on a copy of a slice from a DataFrame\n",
      "\n",
      "See the caveats in the documentation: http://pandas.pydata.org/pandas-docs/stable/indexing.html#indexing-view-versus-copy\n",
      "  This is separate from the ipykernel package so we can avoid doing imports until\n"
     ]
    },
    {
     "data": {
      "text/html": [
       "<div>\n",
       "<style scoped>\n",
       "    .dataframe tbody tr th:only-of-type {\n",
       "        vertical-align: middle;\n",
       "    }\n",
       "\n",
       "    .dataframe tbody tr th {\n",
       "        vertical-align: top;\n",
       "    }\n",
       "\n",
       "    .dataframe thead th {\n",
       "        text-align: right;\n",
       "    }\n",
       "</style>\n",
       "<table border=\"1\" class=\"dataframe\">\n",
       "  <thead>\n",
       "    <tr style=\"text-align: right;\">\n",
       "      <th></th>\n",
       "      <th>id</th>\n",
       "      <th>event_descr</th>\n",
       "      <th>gpi_drug_class_description</th>\n",
       "      <th>rx_cost</th>\n",
       "      <th>net_paid_amount</th>\n",
       "      <th>brand_name</th>\n",
       "      <th>drug_group_description</th>\n",
       "      <th>generic_name</th>\n",
       "      <th>member_responsible_amount</th>\n",
       "      <th>gpi_drug_group8_id</th>\n",
       "      <th>Days</th>\n",
       "      <th>PAY_DAY_SUPPLY_CNT</th>\n",
       "      <th>PAYABLE_QTY</th>\n",
       "      <th>MME</th>\n",
       "      <th>DRUG_TYPE</th>\n",
       "      <th>Specialty</th>\n",
       "      <th>Specialty2</th>\n",
       "      <th>Specialty3</th>\n",
       "    </tr>\n",
       "  </thead>\n",
       "  <tbody>\n",
       "    <tr>\n",
       "      <th>1386</th>\n",
       "      <td>ID1002482139</td>\n",
       "      <td>RX Claim - Paid</td>\n",
       "      <td>OPIOID AGONISTS</td>\n",
       "      <td>13.7</td>\n",
       "      <td>13.7</td>\n",
       "      <td>OXYCODONE HCL</td>\n",
       "      <td>PAIN</td>\n",
       "      <td>OXYCODONE HCL TAB 10 MG</td>\n",
       "      <td>0.00</td>\n",
       "      <td>65100075.0</td>\n",
       "      <td>472</td>\n",
       "      <td>30.0</td>\n",
       "      <td>85.834301</td>\n",
       "      <td>30.0</td>\n",
       "      <td>NaN</td>\n",
       "      <td>NaN</td>\n",
       "      <td>NaN</td>\n",
       "      <td>NaN</td>\n",
       "    </tr>\n",
       "    <tr>\n",
       "      <th>3082</th>\n",
       "      <td>ID10074598346</td>\n",
       "      <td>RX Claim - Paid</td>\n",
       "      <td>OPIOID COMBINATIONS</td>\n",
       "      <td>13.1</td>\n",
       "      <td>11.13</td>\n",
       "      <td>HYDROCODONE/ACETAMINOPHEN</td>\n",
       "      <td>PAIN</td>\n",
       "      <td>HYDROCODONE-ACETAMINOPHEN TAB 7.5-325 MG</td>\n",
       "      <td>1.97</td>\n",
       "      <td>65991702.0</td>\n",
       "      <td>347</td>\n",
       "      <td>30.0</td>\n",
       "      <td>85.834301</td>\n",
       "      <td>30.0</td>\n",
       "      <td>NaN</td>\n",
       "      <td>NaN</td>\n",
       "      <td>NaN</td>\n",
       "      <td>NaN</td>\n",
       "    </tr>\n",
       "    <tr>\n",
       "      <th>3107</th>\n",
       "      <td>ID10074598346</td>\n",
       "      <td>RX Claim - Paid</td>\n",
       "      <td>OPIOID COMBINATIONS</td>\n",
       "      <td>13.1</td>\n",
       "      <td>11.13</td>\n",
       "      <td>HYDROCODONE/ACETAMINOPHEN</td>\n",
       "      <td>PAIN</td>\n",
       "      <td>HYDROCODONE-ACETAMINOPHEN TAB 7.5-325 MG</td>\n",
       "      <td>1.97</td>\n",
       "      <td>65991702.0</td>\n",
       "      <td>379</td>\n",
       "      <td>30.0</td>\n",
       "      <td>85.834301</td>\n",
       "      <td>30.0</td>\n",
       "      <td>NaN</td>\n",
       "      <td>NaN</td>\n",
       "      <td>NaN</td>\n",
       "      <td>NaN</td>\n",
       "    </tr>\n",
       "    <tr>\n",
       "      <th>3135</th>\n",
       "      <td>ID10074598346</td>\n",
       "      <td>RX Claim - Paid</td>\n",
       "      <td>OPIOID COMBINATIONS</td>\n",
       "      <td>13.1</td>\n",
       "      <td>0</td>\n",
       "      <td>HYDROCODONE/ACETAMINOPHEN</td>\n",
       "      <td>PAIN</td>\n",
       "      <td>HYDROCODONE-ACETAMINOPHEN TAB 7.5-325 MG</td>\n",
       "      <td>13.10</td>\n",
       "      <td>65991702.0</td>\n",
       "      <td>416</td>\n",
       "      <td>30.0</td>\n",
       "      <td>85.834301</td>\n",
       "      <td>30.0</td>\n",
       "      <td>NaN</td>\n",
       "      <td>NaN</td>\n",
       "      <td>NaN</td>\n",
       "      <td>NaN</td>\n",
       "    </tr>\n",
       "    <tr>\n",
       "      <th>3159</th>\n",
       "      <td>ID10074598346</td>\n",
       "      <td>RX Claim - Paid</td>\n",
       "      <td>OPIOID COMBINATIONS</td>\n",
       "      <td>13.1</td>\n",
       "      <td>0</td>\n",
       "      <td>HYDROCODONE/ACETAMINOPHEN</td>\n",
       "      <td>PAIN</td>\n",
       "      <td>HYDROCODONE-ACETAMINOPHEN TAB 7.5-325 MG</td>\n",
       "      <td>13.10</td>\n",
       "      <td>65991702.0</td>\n",
       "      <td>445</td>\n",
       "      <td>30.0</td>\n",
       "      <td>85.834301</td>\n",
       "      <td>30.0</td>\n",
       "      <td>NaN</td>\n",
       "      <td>NaN</td>\n",
       "      <td>NaN</td>\n",
       "      <td>NaN</td>\n",
       "    </tr>\n",
       "  </tbody>\n",
       "</table>\n",
       "</div>"
      ],
      "text/plain": [
       "                 id      event_descr gpi_drug_class_description rx_cost net_paid_amount                 brand_name drug_group_description                              generic_name  member_responsible_amount  gpi_drug_group8_id  Days  PAY_DAY_SUPPLY_CNT  PAYABLE_QTY   MME DRUG_TYPE Specialty Specialty2 Specialty3\n",
       "1386   ID1002482139  RX Claim - Paid            OPIOID AGONISTS    13.7            13.7              OXYCODONE HCL                   PAIN                   OXYCODONE HCL TAB 10 MG                       0.00          65100075.0   472                30.0    85.834301  30.0       NaN       NaN        NaN        NaN\n",
       "3082  ID10074598346  RX Claim - Paid        OPIOID COMBINATIONS    13.1           11.13  HYDROCODONE/ACETAMINOPHEN                   PAIN  HYDROCODONE-ACETAMINOPHEN TAB 7.5-325 MG                       1.97          65991702.0   347                30.0    85.834301  30.0       NaN       NaN        NaN        NaN\n",
       "3107  ID10074598346  RX Claim - Paid        OPIOID COMBINATIONS    13.1           11.13  HYDROCODONE/ACETAMINOPHEN                   PAIN  HYDROCODONE-ACETAMINOPHEN TAB 7.5-325 MG                       1.97          65991702.0   379                30.0    85.834301  30.0       NaN       NaN        NaN        NaN\n",
       "3135  ID10074598346  RX Claim - Paid        OPIOID COMBINATIONS    13.1               0  HYDROCODONE/ACETAMINOPHEN                   PAIN  HYDROCODONE-ACETAMINOPHEN TAB 7.5-325 MG                      13.10          65991702.0   416                30.0    85.834301  30.0       NaN       NaN        NaN        NaN\n",
       "3159  ID10074598346  RX Claim - Paid        OPIOID COMBINATIONS    13.1               0  HYDROCODONE/ACETAMINOPHEN                   PAIN  HYDROCODONE-ACETAMINOPHEN TAB 7.5-325 MG                      13.10          65991702.0   445                30.0    85.834301  30.0       NaN       NaN        NaN        NaN"
      ]
     },
     "execution_count": 6,
     "metadata": {},
     "output_type": "execute_result"
    }
   ],
   "source": [
    "mask_to_fill = true_opioid['MME'].isnull()\n",
    "mode = true_opioid['MME'][~mask_to_fill].mode()\n",
    "true_opioid['MME'][mask_to_fill] = [mode]*sum(mask_to_fill)\n",
    "true_opioid[mask_to_fill].head()"
   ]
  },
  {
   "cell_type": "code",
   "execution_count": 525,
   "metadata": {
    "collapsed": true
   },
   "outputs": [
    {
     "ename": "PatsyError",
     "evalue": "Error evaluating factor: NameError: no data named 'brand_HYDROMORPHONE HCL TAB 2 MG' found\n    constant ~rx_cost*Q(\"brand_ACETAMINOPHEN W/ CODEINE SOLN 120-12 MG/5ML\") + rx_cost*Q(\"brand_ACETAMINOPHEN W/ CODEINE TAB 300-15 MG\") + rx_cost*Q(\"brand_ACETAMINOPHEN W/ CODEINE TAB 300-30 MG\") + rx_cost*Q(\"brand_ACETAMINOPHEN W/ CODEINE TAB 300-60 MG\") + rx_cost*Q(\"brand_ACETAMINOPHEN-CAFFEINE-DIHYDROCODEINE CAP 320.5-30-16 MG\") + rx_cost*Q(\"brand_BUPRENORPHINE HCL BUCCAL FILM 150 MCG (BASE EQUIVALENT)\") + rx_cost*Q(\"brand_BUPRENORPHINE HCL BUCCAL FILM 300 MCG (BASE EQUIVALENT)\") + rx_cost*Q(\"brand_BUPRENORPHINE HCL BUCCAL FILM 450 MCG (BASE EQUIVALENT)\") + rx_cost*Q(\"brand_BUPRENORPHINE HCL BUCCAL FILM 600 MCG (BASE EQUIVALENT)\") + rx_cost*Q(\"brand_BUPRENORPHINE HCL BUCCAL FILM 75 MCG (BASE EQUIVALENT)\") + rx_cost*Q(\"brand_BUPRENORPHINE HCL BUCCAL FILM 750 MCG (BASE EQUIVALENT)\") + rx_cost*Q(\"brand_BUPRENORPHINE HCL BUCCAL FILM 900 MCG (BASE EQUIVALENT)\") + rx_cost*Q(\"brand_BUPRENORPHINE HCL SL TAB 2 MG (BASE EQUIV)\") + rx_cost*Q(\"brand_BUPRENORPHINE HCL SL TAB 8 MG (BASE EQUIV)\") + rx_cost*Q(\"brand_BUPRENORPHINE HCL-NALOXONE HCL SL FILM 12-3 MG (BASE EQUIV)\") + rx_cost*Q(\"brand_BUPRENORPHINE HCL-NALOXONE HCL SL FILM 2-0.5 MG (BASE EQUIV)\") + rx_cost*Q(\"brand_BUPRENORPHINE HCL-NALOXONE HCL SL FILM 4-1 MG (BASE EQUIV)\") + rx_cost*Q(\"brand_BUPRENORPHINE HCL-NALOXONE HCL SL FILM 8-2 MG (BASE EQUIV)\") + rx_cost*Q(\"brand_BUPRENORPHINE HCL-NALOXONE HCL SL TAB 0.7-0.18 MG (BASE EQ)\") + rx_cost*Q(\"brand_BUPRENORPHINE HCL-NALOXONE HCL SL TAB 1.4-0.36 MG (BASE EQ)\") + rx_cost*Q(\"brand_BUPRENORPHINE HCL-NALOXONE HCL SL TAB 2-0.5 MG (BASE EQUIV)\") + rx_cost*Q(\"brand_BUPRENORPHINE HCL-NALOXONE HCL SL TAB 2.9-0.71 MG (BASE EQ)\") + rx_cost*Q(\"brand_BUPRENORPHINE HCL-NALOXONE HCL SL TAB 5.7-1.4 MG (BASE EQ)\") + rx_cost*Q(\"brand_BUPRENORPHINE HCL-NALOXONE HCL SL TAB 8-2 MG (BASE EQUIV)\") + rx_cost*Q(\"brand_BUPRENORPHINE HCL-NALOXONE HCL SL TAB 8.6-2.1 MG (BASE EQ)\") + rx_cost*Q(\"brand_BUPRENORPHINE TD PATCH WEEKLY 10 MCG/HR\") + rx_cost*Q(\"brand_BUPRENORPHINE TD PATCH WEEKLY 15 MCG/HR\") + rx_cost*Q(\"brand_BUPRENORPHINE TD PATCH WEEKLY 20 MCG/HR\") + rx_cost*Q(\"brand_BUPRENORPHINE TD PATCH WEEKLY 5 MCG/HR\") + rx_cost*Q(\"brand_BUPRENORPHINE TD PATCH WEEKLY 7.5 MCG/HR\") + rx_cost*Q(\"brand_BUTALBITAL-ACETAMINOPHEN-CAFF W/ COD CAP 50-300-40-30 MG\") + rx_cost*Q(\"brand_BUTALBITAL-ACETAMINOPHEN-CAFF W/ COD CAP 50-325-40-30 MG\") + rx_cost*Q(\"brand_BUTALBITAL-ASPIRIN-CAFF W/ CODEINE CAP 50-325-40-30 MG\") + rx_cost*Q(\"brand_BUTORPHANOL TARTRATE NASAL SOLN 10 MG/ML\") + rx_cost*Q(\"brand_CODEINE SULFATE TAB 15 MG\") + rx_cost*Q(\"brand_CODEINE SULFATE TAB 30 MG\") + rx_cost*Q(\"brand_CODEINE SULFATE TAB 60 MG\") + rx_cost*Q(\"brand_FENTANYL SUBLINGUAL SPRAY 100 MCG\") + rx_cost*Q(\"brand_FENTANYL SUBLINGUAL SPRAY 1200 MCG (600 MCG X 2)\") + rx_cost*Q(\"brand_FENTANYL SUBLINGUAL SPRAY 200 MCG\") + rx_cost*Q(\"brand_FENTANYL SUBLINGUAL SPRAY 600 MCG\") + rx_cost*Q(\"brand_FENTANYL SUBLINGUAL SPRAY 800 MCG\") + rx_cost*Q(\"brand_FENTANYL TD PATCH 72HR 100 MCG/HR\") + rx_cost*Q(\"brand_FENTANYL TD PATCH 72HR 12 MCG/HR\") + rx_cost*Q(\"brand_FENTANYL TD PATCH 72HR 25 MCG/HR\") + rx_cost*Q(\"brand_FENTANYL TD PATCH 72HR 37.5 MCG/HR\") + rx_cost*Q(\"brand_FENTANYL TD PATCH 72HR 50 MCG/HR\") + rx_cost*Q(\"brand_FENTANYL TD PATCH 72HR 75 MCG/HR\") + rx_cost*Q(\"brand_FENTANYL TD PATCH 72HR 87.5 MCG/HR\") + rx_cost*Q(\"brand_HYDROCODONE BITARTRATE CAP ER 12HR ABUSE-DETERRENT 10 MG\") + rx_cost*Q(\"brand_HYDROCODONE BITARTRATE CAP ER 12HR ABUSE-DETERRENT 15 MG\") + rx_cost*Q(\"brand_HYDROCODONE BITARTRATE CAP ER 12HR ABUSE-DETERRENT 30 MG\") + rx_cost*Q(\"brand_HYDROCODONE BITARTRATE CAP SR 12HR 20 MG\") + rx_cost*Q(\"brand_HYDROCODONE BITARTRATE CAP SR 12HR ABUSE-DETERRENT 50 MG\") + rx_cost*Q(\"brand_HYDROCODONE BITARTRATE TAB ER 24HR DETER 20 MG\") + rx_cost*Q(\"brand_HYDROCODONE BITARTRATE TAB ER 24HR DETER 30 MG\") + rx_cost*Q(\"brand_HYDROCODONE BITARTRATE TAB ER 24HR DETER 40 MG\") + rx_cost*Q(\"brand_HYDROCODONE BITARTRATE TAB ER 24HR DETER 60 MG\") + rx_cost*Q(\"brand_HYDROCODONE BITARTRATE TAB ER 24HR DETER 80 MG\") + rx_cost*Q(\"brand_HYDROCODONE-ACETAMINOPHEN SOLN 10-300 MG/15ML\") + rx_cost*Q(\"brand_HYDROCODONE-ACETAMINOPHEN SOLN 7.5-325 MG/15ML\") + rx_cost*Q(\"brand_HYDROCODONE-ACETAMINOPHEN TAB 10-300 MG\") + rx_cost*Q(\"brand_HYDROCODONE-ACETAMINOPHEN TAB 10-325 MG\") + rx_cost*Q(\"brand_HYDROCODONE-ACETAMINOPHEN TAB 2.5-325 MG\") + rx_cost*Q(\"brand_HYDROCODONE-ACETAMINOPHEN TAB 5-300 MG\") + rx_cost*Q(\"brand_HYDROCODONE-ACETAMINOPHEN TAB 5-325 MG\") + rx_cost*Q(\"brand_HYDROCODONE-ACETAMINOPHEN TAB 5-500 MG\") + rx_cost*Q(\"brand_HYDROCODONE-ACETAMINOPHEN TAB 7.5-300 MG\") + rx_cost*Q(\"brand_HYDROCODONE-ACETAMINOPHEN TAB 7.5-325 MG\") + rx_cost*Q(\"brand_HYDROCODONE-IBUPROFEN TAB 10-200 MG\") + rx_cost*Q(\"brand_HYDROCODONE-IBUPROFEN TAB 5-200 MG\") + rx_cost*Q(\"brand_HYDROCODONE-IBUPROFEN TAB 7.5-200 MG\") + rx_cost*Q(\"brand_HYDROMORPHONE HCL LIQD 1 MG/ML\") + rx_cost*Q(\"brand_HYDROMORPHONE HCL TAB 2 MG\") + rx_cost*Q(\"brand_HYDROMORPHONE HCL TAB 4 MG\") + rx_cost*Q(\"brand_HYDROMORPHONE HCL TAB 8 MG\") + rx_cost*Q(\"brand_HYDROMORPHONE HCL TAB ER 24HR DETER 12 MG\") + rx_cost*Q(\"brand_HYDROMORPHONE HCL TAB ER 24HR DETER 16 MG\") + rx_cost*Q(\"brand_HYDROMORPHONE HCL TAB ER 24HR DETER 32 MG\") + rx_cost*Q(\"brand_HYDROMORPHONE HCL TAB ER 24HR DETER 8 MG\") + rx_cost*Q(\"brand_LEVORPHANOL TARTRATE TAB 2 MG\") + rx_cost*Q(\"brand_MEPERIDINE HCL TAB 100 MG\") + rx_cost*Q(\"brand_MEPERIDINE HCL TAB 50 MG\") + rx_cost*Q(\"brand_METHADONE HCL CONC 10 MG/ML\") + rx_cost*Q(\"brand_METHADONE HCL SOLN 10 MG/5ML\") + rx_cost*Q(\"brand_METHADONE HCL SOLN 5 MG/5ML\") + rx_cost*Q(\"brand_METHADONE HCL TAB 10 MG\") + rx_cost*Q(\"brand_METHADONE HCL TAB 5 MG\") + rx_cost*Q(\"brand_MORPHINE SULFATE BEADS CAP ER 24HR 30 MG\") + rx_cost*Q(\"brand_MORPHINE SULFATE BEADS CAP ER 24HR 45 MG\") + rx_cost*Q(\"brand_MORPHINE SULFATE BEADS CAP SR 24HR 30 MG\") + rx_cost*Q(\"brand_MORPHINE SULFATE BEADS CAP SR 24HR 45 MG\") + rx_cost*Q(\"brand_MORPHINE SULFATE BEADS CAP SR 24HR 60 MG\") + rx_cost*Q(\"brand_MORPHINE SULFATE CAP ER 24HR 10 MG\") + rx_cost*Q(\"brand_MORPHINE SULFATE CAP ER 24HR 20 MG\") + rx_cost*Q(\"brand_MORPHINE SULFATE CAP ER 24HR 30 MG\") + rx_cost*Q(\"brand_MORPHINE SULFATE CAP ER 24HR 50 MG\") + rx_cost*Q(\"brand_MORPHINE SULFATE CAP ER 24HR 60 MG\") + rx_cost*Q(\"brand_MORPHINE SULFATE CAP SR 24HR 10 MG\") + rx_cost*Q(\"brand_MORPHINE SULFATE CAP SR 24HR 100 MG\") + rx_cost*Q(\"brand_MORPHINE SULFATE CAP SR 24HR 20 MG\") + rx_cost*Q(\"brand_MORPHINE SULFATE CAP SR 24HR 30 MG\") + rx_cost*Q(\"brand_MORPHINE SULFATE CAP SR 24HR 50 MG\") + rx_cost*Q(\"brand_MORPHINE SULFATE CAP SR 24HR 60 MG\") + rx_cost*Q(\"brand_MORPHINE SULFATE CAP SR 24HR 80 MG\") + rx_cost*Q(\"brand_MORPHINE SULFATE ORAL SOLN 10 MG/5ML\") + rx_cost*Q(\"brand_MORPHINE SULFATE ORAL SOLN 100 MG/5ML (20 MG/ML)\") + rx_cost*Q(\"brand_MORPHINE SULFATE ORAL SOLN 20 MG/5ML\") + rx_cost*Q(\"brand_MORPHINE SULFATE TAB 15 MG\") + rx_cost*Q(\"brand_MORPHINE SULFATE TAB 30 MG\") + rx_cost*Q(\"brand_MORPHINE SULFATE TAB CR 100 MG\") + rx_cost*Q(\"brand_MORPHINE SULFATE TAB CR 15 MG\") + rx_cost*Q(\"brand_MORPHINE SULFATE TAB CR 200 MG\") + rx_cost*Q(\"brand_MORPHINE SULFATE TAB CR 30 MG\") + rx_cost*Q(\"brand_MORPHINE SULFATE TAB CR 60 MG\") + rx_cost*Q(\"brand_MORPHINE SULFATE TAB ER 100 MG\") + rx_cost*Q(\"brand_MORPHINE SULFATE TAB ER 12HR DETER 30 MG\") + rx_cost*Q(\"brand_MORPHINE SULFATE TAB ER 15 MG\") + rx_cost*Q(\"brand_MORPHINE SULFATE TAB ER 200 MG\") + rx_cost*Q(\"brand_MORPHINE SULFATE TAB ER 30 MG\") + rx_cost*Q(\"brand_MORPHINE SULFATE TAB ER 60 MG\") + rx_cost*Q(\"brand_MORPHINE-NALTREXONE CAP CR 20-0.8 MG\") + rx_cost*Q(\"brand_MORPHINE-NALTREXONE CAP CR 30-1.2 MG\") + rx_cost*Q(\"brand_MORPHINE-NALTREXONE CAP ER 20-0.8 MG\") + rx_cost*Q(\"brand_MORPHINE-NALTREXONE CAP ER 30-1.2 MG\") + rx_cost*Q(\"brand_MORPHINE-NALTREXONE CAP ER 50-2 MG\") + rx_cost*Q(\"brand_MORPHINE-NALTREXONE CAP ER 60-2.4 MG\") + rx_cost*Q(\"brand_MORPHINE-NALTREXONE CAP ER 80-3.2 MG\") + rx_cost*Q(\"brand_NALOXONE HCL INJ 0.4 MG/ML\") + rx_cost*Q(\"brand_NALOXONE HCL INJ 1 MG/ML\") + rx_cost*Q(\"brand_NALOXONE HCL NASAL SPRAY 4 MG/0.1ML\") + rx_cost*Q(\"brand_NALOXONE HCL SOLN CARTRIDGE 0.4 MG/ML\") + rx_cost*Q(\"brand_NALOXONE HCL SOLN PREFILLED SYRINGE 2 MG/2ML\") + rx_cost*Q(\"brand_NALOXONE HCL SOLUTION AUTO-INJECTOR 0.4 MG/0.4ML\") + rx_cost*Q(\"brand_NALOXONE HCL SOLUTION AUTO-INJECTOR 2 MG/0.4ML\") + rx_cost*Q(\"brand_NALTREXONE FOR IM EXTENDED RELEASE SUSP 380 MG\") + rx_cost*Q(\"brand_NALTREXONE HCL TAB 50 MG\") + rx_cost*Q(\"brand_OPIUM TINCTURE 1% (10 MG/ML) (MORPHINE EQUIV)\") + rx_cost*Q(\"brand_OXYCODONE CAP ER 12HR ABUSE-DETERRENT 13.5 MG\") + rx_cost*Q(\"brand_OXYCODONE CAP ER 12HR ABUSE-DETERRENT 18 MG\") + rx_cost*Q(\"brand_OXYCODONE CAP ER 12HR ABUSE-DETERRENT 27 MG\") + rx_cost*Q(\"brand_OXYCODONE CAP ER 12HR ABUSE-DETERRENT 36 MG\") + rx_cost*Q(\"brand_OXYCODONE CAP ER 12HR ABUSE-DETERRENT 9 MG\") + rx_cost*Q(\"brand_OXYCODONE HCL CAP 5 MG\") + rx_cost*Q(\"brand_OXYCODONE HCL CONC 100 MG/5ML (20 MG/ML)\") + rx_cost*Q(\"brand_OXYCODONE HCL SOLN 5 MG/5ML\") + rx_cost*Q(\"brand_OXYCODONE HCL TAB 10 MG\") + rx_cost*Q(\"brand_OXYCODONE HCL TAB 15 MG\") + rx_cost*Q(\"brand_OXYCODONE HCL TAB 20 MG\") + rx_cost*Q(\"brand_OXYCODONE HCL TAB 30 MG\") + rx_cost*Q(\"brand_OXYCODONE HCL TAB 5 MG\") + rx_cost*Q(\"brand_OXYCODONE HCL TAB ER 12HR DETER 10 MG\") + rx_cost*Q(\"brand_OXYCODONE HCL TAB ER 12HR DETER 15 MG\") + rx_cost*Q(\"brand_OXYCODONE HCL TAB ER 12HR DETER 20 MG\") + rx_cost*Q(\"brand_OXYCODONE HCL TAB ER 12HR DETER 30 MG\") + rx_cost*Q(\"brand_OXYCODONE HCL TAB ER 12HR DETER 40 MG\") + rx_cost*Q(\"brand_OXYCODONE HCL TAB ER 12HR DETER 60 MG\") + rx_cost*Q(\"brand_OXYCODONE HCL TAB ER 12HR DETER 80 MG\") + rx_cost*Q(\"brand_OXYCODONE W/ ACETAMINOPHEN TAB 10-325 MG\") + rx_cost*Q(\"brand_OXYCODONE W/ ACETAMINOPHEN TAB 2.5-325 MG\") + rx_cost*Q(\"brand_OXYCODONE W/ ACETAMINOPHEN TAB 5-325 MG\") + rx_cost*Q(\"brand_OXYCODONE W/ ACETAMINOPHEN TAB 7.5-325 MG\") + rx_cost*Q(\"brand_OXYCODONE W/ ACETAMINOPHEN TAB CR 7.5-325 MG\") + rx_cost*Q(\"brand_OXYCODONE-ASPIRIN TAB 4.8355-325 MG\") + rx_cost*Q(\"brand_OXYCODONE-IBUPROFEN TAB 5-400 MG\") + rx_cost*Q(\"brand_OXYMORPHONE HCL TAB 10 MG\") + rx_cost*Q(\"brand_OXYMORPHONE HCL TAB 5 MG\") + rx_cost*Q(\"brand_OXYMORPHONE HCL TAB ER 12HR 10 MG\") + rx_cost*Q(\"brand_OXYMORPHONE HCL TAB ER 12HR 15 MG\") + rx_cost*Q(\"brand_OXYMORPHONE HCL TAB ER 12HR 20 MG\") + rx_cost*Q(\"brand_OXYMORPHONE HCL TAB ER 12HR 30 MG\") + rx_cost*Q(\"brand_OXYMORPHONE HCL TAB ER 12HR 40 MG\") + rx_cost*Q(\"brand_OXYMORPHONE HCL TAB ER 12HR 5 MG\") + rx_cost*Q(\"brand_OXYMORPHONE HCL TAB ER 12HR 7.5 MG\") + rx_cost*Q(\"brand_OXYMORPHONE HCL TAB ER 12HR DETER 10 MG\") + rx_cost*Q(\"brand_OXYMORPHONE HCL TAB ER 12HR DETER 15 MG\") + rx_cost*Q(\"brand_OXYMORPHONE HCL TAB ER 12HR DETER 20 MG\") + rx_cost*Q(\"brand_OXYMORPHONE HCL TAB ER 12HR DETER 30 MG\") + rx_cost*Q(\"brand_OXYMORPHONE HCL TAB ER 12HR DETER 40 MG\") + rx_cost*Q(\"brand_OXYMORPHONE HCL TAB ER 12HR DETER 5 MG\") + rx_cost*Q(\"brand_OXYMORPHONE HCL TAB ER 12HR DETER 7.5 MG\") + rx_cost*Q(\"brand_OXYMORPHONE HCL TAB SR 12HR 10 MG\") + rx_cost*Q(\"brand_OXYMORPHONE HCL TAB SR 12HR 15 MG\") + rx_cost*Q(\"brand_OXYMORPHONE HCL TAB SR 12HR 20 MG\") + rx_cost*Q(\"brand_OXYMORPHONE HCL TAB SR 12HR 30 MG\") + rx_cost*Q(\"brand_OXYMORPHONE HCL TAB SR 12HR 40 MG\") + rx_cost*Q(\"brand_OXYMORPHONE HCL TAB SR 12HR 5 MG\") + rx_cost*Q(\"brand_PENTAZOCINE W/ NALOXONE TAB 50-0.5 MG\") + rx_cost*Q(\"brand_TAPENTADOL HCL TAB 100 MG\") + rx_cost*Q(\"brand_TAPENTADOL HCL TAB 50 MG\") + rx_cost*Q(\"brand_TAPENTADOL HCL TAB 75 MG\") + rx_cost*Q(\"brand_TAPENTADOL HCL TAB ER 12HR 100 MG\") + rx_cost*Q(\"brand_TAPENTADOL HCL TAB ER 12HR 150 MG\") + rx_cost*Q(\"brand_TAPENTADOL HCL TAB ER 12HR 200 MG\") + rx_cost*Q(\"brand_TAPENTADOL HCL TAB ER 12HR 50 MG\") + rx_cost*Q(\"brand_TAPENTADOL HCL TAB SR 12HR 100 MG\") + rx_cost*Q(\"brand_TAPENTADOL HCL TAB SR 12HR 150 MG\") + rx_cost*Q(\"brand_TAPENTADOL HCL TAB SR 12HR 50 MG\") + rx_cost*Q(\"brand_TRAMADOL HCL CAP ER 24HR BIPHASIC RELEASE 100 MG\") + rx_cost*Q(\"brand_TRAMADOL HCL CAP ER 24HR BIPHASIC RELEASE 200 MG\") + rx_cost*Q(\"brand_TRAMADOL HCL CAP SR 24HR BIPHASIC RELEASE 100 MG\") + rx_cost*Q(\"brand_TRAMADOL HCL CAP SR 24HR BIPHASIC RELEASE 200 MG\") + rx_cost*Q(\"brand_TRAMADOL HCL TAB 50 MG\") + rx_cost*Q(\"brand_TRAMADOL HCL TAB ER 24HR 100 MG\") + rx_cost*Q(\"brand_TRAMADOL HCL TAB ER 24HR 200 MG\") + rx_cost*Q(\"brand_TRAMADOL HCL TAB ER 24HR 300 MG\") + rx_cost*Q(\"brand_TRAMADOL HCL TAB ER 24HR BIPHASIC RELEASE 100 MG\") + rx_cost*Q(\"brand_TRAMADOL HCL TAB ER 24HR BIPHASIC RELEASE 200 MG\") + rx_cost*Q(\"brand_TRAMADOL HCL TAB ER 24HR BIPHASIC RELEASE 300 MG\") + rx_cost*Q(\"brand_TRAMADOL HCL TAB SR 24HR 100 MG\") + rx_cost*Q(\"brand_TRAMADOL HCL TAB SR 24HR 200 MG\") + rx_cost*Q(\"brand_TRAMADOL HCL TAB SR 24HR 300 MG\") + rx_cost*Q(\"brand_TRAMADOL-ACETAMINOPHEN TAB 37.5-325 MG\")\n                                                                                                                                                                                                                                                                                                                                                                                                                                                                                                                                                                                                                                                                                                                                                                                                                                                                                                                                                                                                                                                                                                                                                                                                                                                                                                                                                                                                                                                                                                                                                                                                                                                                                                                                                                                                                                                                                                                                                                                                                                                                                                                                                                                                                                                                                                                                                                                                                                                                                                                                                                                                                                                                                                                                                                                                                                                                                                                                                                                                                                                                                                                                                                                                                                                                                                                                                                                                                                                                                                                                                                                                                                                                                                                                                                                                                                                                                                                                                                                                                                                                                                                                                                                                                                                                                                                                                                                                                                                                                                                                                                                                                                                                                                                                                                                                                                                                                                                                                                                                                                                                      ^^^^^^^^^^^^^^^^^^^^^^^^^^^^^^^^^^^^^",
     "output_type": "error",
     "traceback": [
      "\u001b[1;31m---------------------------------------------------------------------------\u001b[0m",
      "\u001b[1;31mKeyError\u001b[0m                                  Traceback (most recent call last)",
      "\u001b[1;32m~\\Anaconda3\\envs\\test\\lib\\site-packages\\patsy\\builtins.py\u001b[0m in \u001b[0;36mQ\u001b[1;34m(name)\u001b[0m\n\u001b[0;32m     86\u001b[0m     \u001b[1;32mtry\u001b[0m\u001b[1;33m:\u001b[0m\u001b[1;33m\u001b[0m\u001b[1;33m\u001b[0m\u001b[0m\n\u001b[1;32m---> 87\u001b[1;33m         \u001b[1;32mreturn\u001b[0m \u001b[0menv\u001b[0m\u001b[1;33m.\u001b[0m\u001b[0mnamespace\u001b[0m\u001b[1;33m[\u001b[0m\u001b[0mname\u001b[0m\u001b[1;33m]\u001b[0m\u001b[1;33m\u001b[0m\u001b[1;33m\u001b[0m\u001b[0m\n\u001b[0m\u001b[0;32m     88\u001b[0m     \u001b[1;32mexcept\u001b[0m \u001b[0mKeyError\u001b[0m\u001b[1;33m:\u001b[0m\u001b[1;33m\u001b[0m\u001b[1;33m\u001b[0m\u001b[0m\n",
      "\u001b[1;32m~\\Anaconda3\\envs\\test\\lib\\site-packages\\patsy\\eval.py\u001b[0m in \u001b[0;36m__getitem__\u001b[1;34m(self, key)\u001b[0m\n\u001b[0;32m     50\u001b[0m                 \u001b[1;32mpass\u001b[0m\u001b[1;33m\u001b[0m\u001b[1;33m\u001b[0m\u001b[0m\n\u001b[1;32m---> 51\u001b[1;33m         \u001b[1;32mraise\u001b[0m \u001b[0mKeyError\u001b[0m\u001b[1;33m(\u001b[0m\u001b[0mkey\u001b[0m\u001b[1;33m)\u001b[0m\u001b[1;33m\u001b[0m\u001b[1;33m\u001b[0m\u001b[0m\n\u001b[0m\u001b[0;32m     52\u001b[0m \u001b[1;33m\u001b[0m\u001b[0m\n",
      "\u001b[1;31mKeyError\u001b[0m: 'brand_HYDROMORPHONE HCL TAB 2 MG'",
      "\nDuring handling of the above exception, another exception occurred:\n",
      "\u001b[1;31mNameError\u001b[0m                                 Traceback (most recent call last)",
      "\u001b[1;32m~\\Anaconda3\\envs\\test\\lib\\site-packages\\patsy\\compat.py\u001b[0m in \u001b[0;36mcall_and_wrap_exc\u001b[1;34m(msg, origin, f, *args, **kwargs)\u001b[0m\n\u001b[0;32m     35\u001b[0m     \u001b[1;32mtry\u001b[0m\u001b[1;33m:\u001b[0m\u001b[1;33m\u001b[0m\u001b[1;33m\u001b[0m\u001b[0m\n\u001b[1;32m---> 36\u001b[1;33m         \u001b[1;32mreturn\u001b[0m \u001b[0mf\u001b[0m\u001b[1;33m(\u001b[0m\u001b[1;33m*\u001b[0m\u001b[0margs\u001b[0m\u001b[1;33m,\u001b[0m \u001b[1;33m**\u001b[0m\u001b[0mkwargs\u001b[0m\u001b[1;33m)\u001b[0m\u001b[1;33m\u001b[0m\u001b[1;33m\u001b[0m\u001b[0m\n\u001b[0m\u001b[0;32m     37\u001b[0m     \u001b[1;32mexcept\u001b[0m \u001b[0mException\u001b[0m \u001b[1;32mas\u001b[0m \u001b[0me\u001b[0m\u001b[1;33m:\u001b[0m\u001b[1;33m\u001b[0m\u001b[1;33m\u001b[0m\u001b[0m\n",
      "\u001b[1;32m~\\Anaconda3\\envs\\test\\lib\\site-packages\\patsy\\eval.py\u001b[0m in \u001b[0;36meval\u001b[1;34m(self, expr, source_name, inner_namespace)\u001b[0m\n\u001b[0;32m    165\u001b[0m         return eval(code, {}, VarLookupDict([inner_namespace]\n\u001b[1;32m--> 166\u001b[1;33m                                             + self._namespaces))\n\u001b[0m\u001b[0;32m    167\u001b[0m \u001b[1;33m\u001b[0m\u001b[0m\n",
      "\u001b[1;32m<string>\u001b[0m in \u001b[0;36m<module>\u001b[1;34m\u001b[0m\n",
      "\u001b[1;32m~\\Anaconda3\\envs\\test\\lib\\site-packages\\patsy\\builtins.py\u001b[0m in \u001b[0;36mQ\u001b[1;34m(name)\u001b[0m\n\u001b[0;32m     88\u001b[0m     \u001b[1;32mexcept\u001b[0m \u001b[0mKeyError\u001b[0m\u001b[1;33m:\u001b[0m\u001b[1;33m\u001b[0m\u001b[1;33m\u001b[0m\u001b[0m\n\u001b[1;32m---> 89\u001b[1;33m         \u001b[1;32mraise\u001b[0m \u001b[0mNameError\u001b[0m\u001b[1;33m(\u001b[0m\u001b[1;34m\"no data named %r found\"\u001b[0m \u001b[1;33m%\u001b[0m \u001b[1;33m(\u001b[0m\u001b[0mname\u001b[0m\u001b[1;33m,\u001b[0m\u001b[1;33m)\u001b[0m\u001b[1;33m)\u001b[0m\u001b[1;33m\u001b[0m\u001b[1;33m\u001b[0m\u001b[0m\n\u001b[0m\u001b[0;32m     90\u001b[0m \u001b[1;33m\u001b[0m\u001b[0m\n",
      "\u001b[1;31mNameError\u001b[0m: no data named 'brand_HYDROMORPHONE HCL TAB 2 MG' found",
      "\nThe above exception was the direct cause of the following exception:\n",
      "\u001b[1;31mPatsyError\u001b[0m                                Traceback (most recent call last)",
      "\u001b[1;32m<ipython-input-525-d4609a6e14d0>\u001b[0m in \u001b[0;36m<module>\u001b[1;34m\u001b[0m\n\u001b[0;32m     18\u001b[0m \u001b[1;33m\u001b[0m\u001b[0m\n\u001b[0;32m     19\u001b[0m \u001b[0mformula\u001b[0m \u001b[1;33m=\u001b[0m \u001b[1;34m'constant ~'\u001b[0m \u001b[1;33m+\u001b[0m \u001b[1;34m' '\u001b[0m\u001b[1;33m.\u001b[0m\u001b[0mjoin\u001b[0m\u001b[1;33m(\u001b[0m\u001b[1;33m[\u001b[0m\u001b[1;34m'rx_cost*Q(\"{}\") +'\u001b[0m\u001b[1;33m.\u001b[0m\u001b[0mformat\u001b[0m\u001b[1;33m(\u001b[0m\u001b[0mx\u001b[0m\u001b[1;33m)\u001b[0m \u001b[1;32mfor\u001b[0m \u001b[0mx\u001b[0m \u001b[1;32min\u001b[0m \u001b[0menc\u001b[0m\u001b[1;33m.\u001b[0m\u001b[0mget_feature_names\u001b[0m\u001b[1;33m(\u001b[0m\u001b[1;33m[\u001b[0m\u001b[1;34m'brand'\u001b[0m\u001b[1;33m]\u001b[0m\u001b[1;33m)\u001b[0m\u001b[1;33m.\u001b[0m\u001b[0mtolist\u001b[0m\u001b[1;33m(\u001b[0m\u001b[1;33m)\u001b[0m\u001b[1;33m]\u001b[0m\u001b[1;33m)\u001b[0m\u001b[1;33m[\u001b[0m\u001b[1;33m:\u001b[0m\u001b[1;33m-\u001b[0m\u001b[1;36m1\u001b[0m\u001b[1;33m]\u001b[0m\u001b[1;33m\u001b[0m\u001b[1;33m\u001b[0m\u001b[0m\n\u001b[1;32m---> 20\u001b[1;33m \u001b[0mY\u001b[0m\u001b[1;33m,\u001b[0m \u001b[0mX\u001b[0m \u001b[1;33m=\u001b[0m \u001b[0mdmatrices\u001b[0m\u001b[1;33m(\u001b[0m\u001b[0mformula\u001b[0m\u001b[1;33m,\u001b[0m \u001b[0mdata_for_dmatrice\u001b[0m\u001b[1;33m,\u001b[0m \u001b[0mreturn_type\u001b[0m\u001b[1;33m=\u001b[0m\u001b[1;34m'dataframe'\u001b[0m\u001b[1;33m)\u001b[0m\u001b[1;33m\u001b[0m\u001b[1;33m\u001b[0m\u001b[0m\n\u001b[0m\u001b[0;32m     21\u001b[0m \u001b[1;33m\u001b[0m\u001b[0m\n\u001b[0;32m     22\u001b[0m \u001b[0mtrain\u001b[0m \u001b[1;33m=\u001b[0m \u001b[0mtrue_opioid\u001b[0m\u001b[1;33m[\u001b[0m\u001b[1;34m'PAYABLE_QTY'\u001b[0m\u001b[1;33m]\u001b[0m\u001b[1;33m.\u001b[0m\u001b[0mreset_index\u001b[0m\u001b[1;33m(\u001b[0m\u001b[0mdrop\u001b[0m\u001b[1;33m=\u001b[0m\u001b[1;32mTrue\u001b[0m\u001b[1;33m)\u001b[0m\u001b[1;33m.\u001b[0m\u001b[0mnotnull\u001b[0m\u001b[1;33m(\u001b[0m\u001b[1;33m)\u001b[0m\u001b[1;33m\u001b[0m\u001b[1;33m\u001b[0m\u001b[0m\n",
      "\u001b[1;32m~\\Anaconda3\\envs\\test\\lib\\site-packages\\patsy\\highlevel.py\u001b[0m in \u001b[0;36mdmatrices\u001b[1;34m(formula_like, data, eval_env, NA_action, return_type)\u001b[0m\n\u001b[0;32m    308\u001b[0m     \u001b[0meval_env\u001b[0m \u001b[1;33m=\u001b[0m \u001b[0mEvalEnvironment\u001b[0m\u001b[1;33m.\u001b[0m\u001b[0mcapture\u001b[0m\u001b[1;33m(\u001b[0m\u001b[0meval_env\u001b[0m\u001b[1;33m,\u001b[0m \u001b[0mreference\u001b[0m\u001b[1;33m=\u001b[0m\u001b[1;36m1\u001b[0m\u001b[1;33m)\u001b[0m\u001b[1;33m\u001b[0m\u001b[1;33m\u001b[0m\u001b[0m\n\u001b[0;32m    309\u001b[0m     (lhs, rhs) = _do_highlevel_design(formula_like, data, eval_env,\n\u001b[1;32m--> 310\u001b[1;33m                                       NA_action, return_type)\n\u001b[0m\u001b[0;32m    311\u001b[0m     \u001b[1;32mif\u001b[0m \u001b[0mlhs\u001b[0m\u001b[1;33m.\u001b[0m\u001b[0mshape\u001b[0m\u001b[1;33m[\u001b[0m\u001b[1;36m1\u001b[0m\u001b[1;33m]\u001b[0m \u001b[1;33m==\u001b[0m \u001b[1;36m0\u001b[0m\u001b[1;33m:\u001b[0m\u001b[1;33m\u001b[0m\u001b[1;33m\u001b[0m\u001b[0m\n\u001b[0;32m    312\u001b[0m         \u001b[1;32mraise\u001b[0m \u001b[0mPatsyError\u001b[0m\u001b[1;33m(\u001b[0m\u001b[1;34m\"model is missing required outcome variables\"\u001b[0m\u001b[1;33m)\u001b[0m\u001b[1;33m\u001b[0m\u001b[1;33m\u001b[0m\u001b[0m\n",
      "\u001b[1;32m~\\Anaconda3\\envs\\test\\lib\\site-packages\\patsy\\highlevel.py\u001b[0m in \u001b[0;36m_do_highlevel_design\u001b[1;34m(formula_like, data, eval_env, NA_action, return_type)\u001b[0m\n\u001b[0;32m    163\u001b[0m         \u001b[1;32mreturn\u001b[0m \u001b[0miter\u001b[0m\u001b[1;33m(\u001b[0m\u001b[1;33m[\u001b[0m\u001b[0mdata\u001b[0m\u001b[1;33m]\u001b[0m\u001b[1;33m)\u001b[0m\u001b[1;33m\u001b[0m\u001b[1;33m\u001b[0m\u001b[0m\n\u001b[0;32m    164\u001b[0m     design_infos = _try_incr_builders(formula_like, data_iter_maker, eval_env,\n\u001b[1;32m--> 165\u001b[1;33m                                       NA_action)\n\u001b[0m\u001b[0;32m    166\u001b[0m     \u001b[1;32mif\u001b[0m \u001b[0mdesign_infos\u001b[0m \u001b[1;32mis\u001b[0m \u001b[1;32mnot\u001b[0m \u001b[1;32mNone\u001b[0m\u001b[1;33m:\u001b[0m\u001b[1;33m\u001b[0m\u001b[1;33m\u001b[0m\u001b[0m\n\u001b[0;32m    167\u001b[0m         return build_design_matrices(design_infos, data,\n",
      "\u001b[1;32m~\\Anaconda3\\envs\\test\\lib\\site-packages\\patsy\\highlevel.py\u001b[0m in \u001b[0;36m_try_incr_builders\u001b[1;34m(formula_like, data_iter_maker, eval_env, NA_action)\u001b[0m\n\u001b[0;32m     68\u001b[0m                                       \u001b[0mdata_iter_maker\u001b[0m\u001b[1;33m,\u001b[0m\u001b[1;33m\u001b[0m\u001b[1;33m\u001b[0m\u001b[0m\n\u001b[0;32m     69\u001b[0m                                       \u001b[0meval_env\u001b[0m\u001b[1;33m,\u001b[0m\u001b[1;33m\u001b[0m\u001b[1;33m\u001b[0m\u001b[0m\n\u001b[1;32m---> 70\u001b[1;33m                                       NA_action)\n\u001b[0m\u001b[0;32m     71\u001b[0m     \u001b[1;32melse\u001b[0m\u001b[1;33m:\u001b[0m\u001b[1;33m\u001b[0m\u001b[1;33m\u001b[0m\u001b[0m\n\u001b[0;32m     72\u001b[0m         \u001b[1;32mreturn\u001b[0m \u001b[1;32mNone\u001b[0m\u001b[1;33m\u001b[0m\u001b[1;33m\u001b[0m\u001b[0m\n",
      "\u001b[1;32m~\\Anaconda3\\envs\\test\\lib\\site-packages\\patsy\\build.py\u001b[0m in \u001b[0;36mdesign_matrix_builders\u001b[1;34m(termlists, data_iter_maker, eval_env, NA_action)\u001b[0m\n\u001b[0;32m    694\u001b[0m                                                    \u001b[0mfactor_states\u001b[0m\u001b[1;33m,\u001b[0m\u001b[1;33m\u001b[0m\u001b[1;33m\u001b[0m\u001b[0m\n\u001b[0;32m    695\u001b[0m                                                    \u001b[0mdata_iter_maker\u001b[0m\u001b[1;33m,\u001b[0m\u001b[1;33m\u001b[0m\u001b[1;33m\u001b[0m\u001b[0m\n\u001b[1;32m--> 696\u001b[1;33m                                                    NA_action)\n\u001b[0m\u001b[0;32m    697\u001b[0m     \u001b[1;31m# Now we need the factor infos, which encapsulate the knowledge of\u001b[0m\u001b[1;33m\u001b[0m\u001b[1;33m\u001b[0m\u001b[1;33m\u001b[0m\u001b[0m\n\u001b[0;32m    698\u001b[0m     \u001b[1;31m# how to turn any given factor into a chunk of data:\u001b[0m\u001b[1;33m\u001b[0m\u001b[1;33m\u001b[0m\u001b[1;33m\u001b[0m\u001b[0m\n",
      "\u001b[1;32m~\\Anaconda3\\envs\\test\\lib\\site-packages\\patsy\\build.py\u001b[0m in \u001b[0;36m_examine_factor_types\u001b[1;34m(factors, factor_states, data_iter_maker, NA_action)\u001b[0m\n\u001b[0;32m    441\u001b[0m     \u001b[1;32mfor\u001b[0m \u001b[0mdata\u001b[0m \u001b[1;32min\u001b[0m \u001b[0mdata_iter_maker\u001b[0m\u001b[1;33m(\u001b[0m\u001b[1;33m)\u001b[0m\u001b[1;33m:\u001b[0m\u001b[1;33m\u001b[0m\u001b[1;33m\u001b[0m\u001b[0m\n\u001b[0;32m    442\u001b[0m         \u001b[1;32mfor\u001b[0m \u001b[0mfactor\u001b[0m \u001b[1;32min\u001b[0m \u001b[0mlist\u001b[0m\u001b[1;33m(\u001b[0m\u001b[0mexamine_needed\u001b[0m\u001b[1;33m)\u001b[0m\u001b[1;33m:\u001b[0m\u001b[1;33m\u001b[0m\u001b[1;33m\u001b[0m\u001b[0m\n\u001b[1;32m--> 443\u001b[1;33m             \u001b[0mvalue\u001b[0m \u001b[1;33m=\u001b[0m \u001b[0mfactor\u001b[0m\u001b[1;33m.\u001b[0m\u001b[0meval\u001b[0m\u001b[1;33m(\u001b[0m\u001b[0mfactor_states\u001b[0m\u001b[1;33m[\u001b[0m\u001b[0mfactor\u001b[0m\u001b[1;33m]\u001b[0m\u001b[1;33m,\u001b[0m \u001b[0mdata\u001b[0m\u001b[1;33m)\u001b[0m\u001b[1;33m\u001b[0m\u001b[1;33m\u001b[0m\u001b[0m\n\u001b[0m\u001b[0;32m    444\u001b[0m             \u001b[1;32mif\u001b[0m \u001b[0mfactor\u001b[0m \u001b[1;32min\u001b[0m \u001b[0mcat_sniffers\u001b[0m \u001b[1;32mor\u001b[0m \u001b[0mguess_categorical\u001b[0m\u001b[1;33m(\u001b[0m\u001b[0mvalue\u001b[0m\u001b[1;33m)\u001b[0m\u001b[1;33m:\u001b[0m\u001b[1;33m\u001b[0m\u001b[1;33m\u001b[0m\u001b[0m\n\u001b[0;32m    445\u001b[0m                 \u001b[1;32mif\u001b[0m \u001b[0mfactor\u001b[0m \u001b[1;32mnot\u001b[0m \u001b[1;32min\u001b[0m \u001b[0mcat_sniffers\u001b[0m\u001b[1;33m:\u001b[0m\u001b[1;33m\u001b[0m\u001b[1;33m\u001b[0m\u001b[0m\n",
      "\u001b[1;32m~\\Anaconda3\\envs\\test\\lib\\site-packages\\patsy\\eval.py\u001b[0m in \u001b[0;36meval\u001b[1;34m(self, memorize_state, data)\u001b[0m\n\u001b[0;32m    564\u001b[0m         return self._eval(memorize_state[\"eval_code\"],\n\u001b[0;32m    565\u001b[0m                           \u001b[0mmemorize_state\u001b[0m\u001b[1;33m,\u001b[0m\u001b[1;33m\u001b[0m\u001b[1;33m\u001b[0m\u001b[0m\n\u001b[1;32m--> 566\u001b[1;33m                           data)\n\u001b[0m\u001b[0;32m    567\u001b[0m \u001b[1;33m\u001b[0m\u001b[0m\n\u001b[0;32m    568\u001b[0m     \u001b[0m__getstate__\u001b[0m \u001b[1;33m=\u001b[0m \u001b[0mno_pickling\u001b[0m\u001b[1;33m\u001b[0m\u001b[1;33m\u001b[0m\u001b[0m\n",
      "\u001b[1;32m~\\Anaconda3\\envs\\test\\lib\\site-packages\\patsy\\eval.py\u001b[0m in \u001b[0;36m_eval\u001b[1;34m(self, code, memorize_state, data)\u001b[0m\n\u001b[0;32m    549\u001b[0m                                  \u001b[0mmemorize_state\u001b[0m\u001b[1;33m[\u001b[0m\u001b[1;34m\"eval_env\"\u001b[0m\u001b[1;33m]\u001b[0m\u001b[1;33m.\u001b[0m\u001b[0meval\u001b[0m\u001b[1;33m,\u001b[0m\u001b[1;33m\u001b[0m\u001b[1;33m\u001b[0m\u001b[0m\n\u001b[0;32m    550\u001b[0m                                  \u001b[0mcode\u001b[0m\u001b[1;33m,\u001b[0m\u001b[1;33m\u001b[0m\u001b[1;33m\u001b[0m\u001b[0m\n\u001b[1;32m--> 551\u001b[1;33m                                  inner_namespace=inner_namespace)\n\u001b[0m\u001b[0;32m    552\u001b[0m \u001b[1;33m\u001b[0m\u001b[0m\n\u001b[0;32m    553\u001b[0m     \u001b[1;32mdef\u001b[0m \u001b[0mmemorize_chunk\u001b[0m\u001b[1;33m(\u001b[0m\u001b[0mself\u001b[0m\u001b[1;33m,\u001b[0m \u001b[0mstate\u001b[0m\u001b[1;33m,\u001b[0m \u001b[0mwhich_pass\u001b[0m\u001b[1;33m,\u001b[0m \u001b[0mdata\u001b[0m\u001b[1;33m)\u001b[0m\u001b[1;33m:\u001b[0m\u001b[1;33m\u001b[0m\u001b[1;33m\u001b[0m\u001b[0m\n",
      "\u001b[1;32m~\\Anaconda3\\envs\\test\\lib\\site-packages\\patsy\\compat.py\u001b[0m in \u001b[0;36mcall_and_wrap_exc\u001b[1;34m(msg, origin, f, *args, **kwargs)\u001b[0m\n\u001b[0;32m     41\u001b[0m                                  origin)\n\u001b[0;32m     42\u001b[0m             \u001b[1;31m# Use 'exec' to hide this syntax from the Python 2 parser:\u001b[0m\u001b[1;33m\u001b[0m\u001b[1;33m\u001b[0m\u001b[1;33m\u001b[0m\u001b[0m\n\u001b[1;32m---> 43\u001b[1;33m             \u001b[0mexec\u001b[0m\u001b[1;33m(\u001b[0m\u001b[1;34m\"raise new_exc from e\"\u001b[0m\u001b[1;33m)\u001b[0m\u001b[1;33m\u001b[0m\u001b[1;33m\u001b[0m\u001b[0m\n\u001b[0m\u001b[0;32m     44\u001b[0m         \u001b[1;32melse\u001b[0m\u001b[1;33m:\u001b[0m\u001b[1;33m\u001b[0m\u001b[1;33m\u001b[0m\u001b[0m\n\u001b[0;32m     45\u001b[0m             \u001b[1;31m# In python 2, we just let the original exception escape -- better\u001b[0m\u001b[1;33m\u001b[0m\u001b[1;33m\u001b[0m\u001b[1;33m\u001b[0m\u001b[0m\n",
      "\u001b[1;32m~\\Anaconda3\\envs\\test\\lib\\site-packages\\patsy\\compat.py\u001b[0m in \u001b[0;36m<module>\u001b[1;34m\u001b[0m\n",
      "\u001b[1;31mPatsyError\u001b[0m: Error evaluating factor: NameError: no data named 'brand_HYDROMORPHONE HCL TAB 2 MG' found\n    constant ~rx_cost*Q(\"brand_ACETAMINOPHEN W/ CODEINE SOLN 120-12 MG/5ML\") + rx_cost*Q(\"brand_ACETAMINOPHEN W/ CODEINE TAB 300-15 MG\") + rx_cost*Q(\"brand_ACETAMINOPHEN W/ CODEINE TAB 300-30 MG\") + rx_cost*Q(\"brand_ACETAMINOPHEN W/ CODEINE TAB 300-60 MG\") + rx_cost*Q(\"brand_ACETAMINOPHEN-CAFFEINE-DIHYDROCODEINE CAP 320.5-30-16 MG\") + rx_cost*Q(\"brand_BUPRENORPHINE HCL BUCCAL FILM 150 MCG (BASE EQUIVALENT)\") + rx_cost*Q(\"brand_BUPRENORPHINE HCL BUCCAL FILM 300 MCG (BASE EQUIVALENT)\") + rx_cost*Q(\"brand_BUPRENORPHINE HCL BUCCAL FILM 450 MCG (BASE EQUIVALENT)\") + rx_cost*Q(\"brand_BUPRENORPHINE HCL BUCCAL FILM 600 MCG (BASE EQUIVALENT)\") + rx_cost*Q(\"brand_BUPRENORPHINE HCL BUCCAL FILM 75 MCG (BASE EQUIVALENT)\") + rx_cost*Q(\"brand_BUPRENORPHINE HCL BUCCAL FILM 750 MCG (BASE EQUIVALENT)\") + rx_cost*Q(\"brand_BUPRENORPHINE HCL BUCCAL FILM 900 MCG (BASE EQUIVALENT)\") + rx_cost*Q(\"brand_BUPRENORPHINE HCL SL TAB 2 MG (BASE EQUIV)\") + rx_cost*Q(\"brand_BUPRENORPHINE HCL SL TAB 8 MG (BASE EQUIV)\") + rx_cost*Q(\"brand_BUPRENORPHINE HCL-NALOXONE HCL SL FILM 12-3 MG (BASE EQUIV)\") + rx_cost*Q(\"brand_BUPRENORPHINE HCL-NALOXONE HCL SL FILM 2-0.5 MG (BASE EQUIV)\") + rx_cost*Q(\"brand_BUPRENORPHINE HCL-NALOXONE HCL SL FILM 4-1 MG (BASE EQUIV)\") + rx_cost*Q(\"brand_BUPRENORPHINE HCL-NALOXONE HCL SL FILM 8-2 MG (BASE EQUIV)\") + rx_cost*Q(\"brand_BUPRENORPHINE HCL-NALOXONE HCL SL TAB 0.7-0.18 MG (BASE EQ)\") + rx_cost*Q(\"brand_BUPRENORPHINE HCL-NALOXONE HCL SL TAB 1.4-0.36 MG (BASE EQ)\") + rx_cost*Q(\"brand_BUPRENORPHINE HCL-NALOXONE HCL SL TAB 2-0.5 MG (BASE EQUIV)\") + rx_cost*Q(\"brand_BUPRENORPHINE HCL-NALOXONE HCL SL TAB 2.9-0.71 MG (BASE EQ)\") + rx_cost*Q(\"brand_BUPRENORPHINE HCL-NALOXONE HCL SL TAB 5.7-1.4 MG (BASE EQ)\") + rx_cost*Q(\"brand_BUPRENORPHINE HCL-NALOXONE HCL SL TAB 8-2 MG (BASE EQUIV)\") + rx_cost*Q(\"brand_BUPRENORPHINE HCL-NALOXONE HCL SL TAB 8.6-2.1 MG (BASE EQ)\") + rx_cost*Q(\"brand_BUPRENORPHINE TD PATCH WEEKLY 10 MCG/HR\") + rx_cost*Q(\"brand_BUPRENORPHINE TD PATCH WEEKLY 15 MCG/HR\") + rx_cost*Q(\"brand_BUPRENORPHINE TD PATCH WEEKLY 20 MCG/HR\") + rx_cost*Q(\"brand_BUPRENORPHINE TD PATCH WEEKLY 5 MCG/HR\") + rx_cost*Q(\"brand_BUPRENORPHINE TD PATCH WEEKLY 7.5 MCG/HR\") + rx_cost*Q(\"brand_BUTALBITAL-ACETAMINOPHEN-CAFF W/ COD CAP 50-300-40-30 MG\") + rx_cost*Q(\"brand_BUTALBITAL-ACETAMINOPHEN-CAFF W/ COD CAP 50-325-40-30 MG\") + rx_cost*Q(\"brand_BUTALBITAL-ASPIRIN-CAFF W/ CODEINE CAP 50-325-40-30 MG\") + rx_cost*Q(\"brand_BUTORPHANOL TARTRATE NASAL SOLN 10 MG/ML\") + rx_cost*Q(\"brand_CODEINE SULFATE TAB 15 MG\") + rx_cost*Q(\"brand_CODEINE SULFATE TAB 30 MG\") + rx_cost*Q(\"brand_CODEINE SULFATE TAB 60 MG\") + rx_cost*Q(\"brand_FENTANYL SUBLINGUAL SPRAY 100 MCG\") + rx_cost*Q(\"brand_FENTANYL SUBLINGUAL SPRAY 1200 MCG (600 MCG X 2)\") + rx_cost*Q(\"brand_FENTANYL SUBLINGUAL SPRAY 200 MCG\") + rx_cost*Q(\"brand_FENTANYL SUBLINGUAL SPRAY 600 MCG\") + rx_cost*Q(\"brand_FENTANYL SUBLINGUAL SPRAY 800 MCG\") + rx_cost*Q(\"brand_FENTANYL TD PATCH 72HR 100 MCG/HR\") + rx_cost*Q(\"brand_FENTANYL TD PATCH 72HR 12 MCG/HR\") + rx_cost*Q(\"brand_FENTANYL TD PATCH 72HR 25 MCG/HR\") + rx_cost*Q(\"brand_FENTANYL TD PATCH 72HR 37.5 MCG/HR\") + rx_cost*Q(\"brand_FENTANYL TD PATCH 72HR 50 MCG/HR\") + rx_cost*Q(\"brand_FENTANYL TD PATCH 72HR 75 MCG/HR\") + rx_cost*Q(\"brand_FENTANYL TD PATCH 72HR 87.5 MCG/HR\") + rx_cost*Q(\"brand_HYDROCODONE BITARTRATE CAP ER 12HR ABUSE-DETERRENT 10 MG\") + rx_cost*Q(\"brand_HYDROCODONE BITARTRATE CAP ER 12HR ABUSE-DETERRENT 15 MG\") + rx_cost*Q(\"brand_HYDROCODONE BITARTRATE CAP ER 12HR ABUSE-DETERRENT 30 MG\") + rx_cost*Q(\"brand_HYDROCODONE BITARTRATE CAP SR 12HR 20 MG\") + rx_cost*Q(\"brand_HYDROCODONE BITARTRATE CAP SR 12HR ABUSE-DETERRENT 50 MG\") + rx_cost*Q(\"brand_HYDROCODONE BITARTRATE TAB ER 24HR DETER 20 MG\") + rx_cost*Q(\"brand_HYDROCODONE BITARTRATE TAB ER 24HR DETER 30 MG\") + rx_cost*Q(\"brand_HYDROCODONE BITARTRATE TAB ER 24HR DETER 40 MG\") + rx_cost*Q(\"brand_HYDROCODONE BITARTRATE TAB ER 24HR DETER 60 MG\") + rx_cost*Q(\"brand_HYDROCODONE BITARTRATE TAB ER 24HR DETER 80 MG\") + rx_cost*Q(\"brand_HYDROCODONE-ACETAMINOPHEN SOLN 10-300 MG/15ML\") + rx_cost*Q(\"brand_HYDROCODONE-ACETAMINOPHEN SOLN 7.5-325 MG/15ML\") + rx_cost*Q(\"brand_HYDROCODONE-ACETAMINOPHEN TAB 10-300 MG\") + rx_cost*Q(\"brand_HYDROCODONE-ACETAMINOPHEN TAB 10-325 MG\") + rx_cost*Q(\"brand_HYDROCODONE-ACETAMINOPHEN TAB 2.5-325 MG\") + rx_cost*Q(\"brand_HYDROCODONE-ACETAMINOPHEN TAB 5-300 MG\") + rx_cost*Q(\"brand_HYDROCODONE-ACETAMINOPHEN TAB 5-325 MG\") + rx_cost*Q(\"brand_HYDROCODONE-ACETAMINOPHEN TAB 5-500 MG\") + rx_cost*Q(\"brand_HYDROCODONE-ACETAMINOPHEN TAB 7.5-300 MG\") + rx_cost*Q(\"brand_HYDROCODONE-ACETAMINOPHEN TAB 7.5-325 MG\") + rx_cost*Q(\"brand_HYDROCODONE-IBUPROFEN TAB 10-200 MG\") + rx_cost*Q(\"brand_HYDROCODONE-IBUPROFEN TAB 5-200 MG\") + rx_cost*Q(\"brand_HYDROCODONE-IBUPROFEN TAB 7.5-200 MG\") + rx_cost*Q(\"brand_HYDROMORPHONE HCL LIQD 1 MG/ML\") + rx_cost*Q(\"brand_HYDROMORPHONE HCL TAB 2 MG\") + rx_cost*Q(\"brand_HYDROMORPHONE HCL TAB 4 MG\") + rx_cost*Q(\"brand_HYDROMORPHONE HCL TAB 8 MG\") + rx_cost*Q(\"brand_HYDROMORPHONE HCL TAB ER 24HR DETER 12 MG\") + rx_cost*Q(\"brand_HYDROMORPHONE HCL TAB ER 24HR DETER 16 MG\") + rx_cost*Q(\"brand_HYDROMORPHONE HCL TAB ER 24HR DETER 32 MG\") + rx_cost*Q(\"brand_HYDROMORPHONE HCL TAB ER 24HR DETER 8 MG\") + rx_cost*Q(\"brand_LEVORPHANOL TARTRATE TAB 2 MG\") + rx_cost*Q(\"brand_MEPERIDINE HCL TAB 100 MG\") + rx_cost*Q(\"brand_MEPERIDINE HCL TAB 50 MG\") + rx_cost*Q(\"brand_METHADONE HCL CONC 10 MG/ML\") + rx_cost*Q(\"brand_METHADONE HCL SOLN 10 MG/5ML\") + rx_cost*Q(\"brand_METHADONE HCL SOLN 5 MG/5ML\") + rx_cost*Q(\"brand_METHADONE HCL TAB 10 MG\") + rx_cost*Q(\"brand_METHADONE HCL TAB 5 MG\") + rx_cost*Q(\"brand_MORPHINE SULFATE BEADS CAP ER 24HR 30 MG\") + rx_cost*Q(\"brand_MORPHINE SULFATE BEADS CAP ER 24HR 45 MG\") + rx_cost*Q(\"brand_MORPHINE SULFATE BEADS CAP SR 24HR 30 MG\") + rx_cost*Q(\"brand_MORPHINE SULFATE BEADS CAP SR 24HR 45 MG\") + rx_cost*Q(\"brand_MORPHINE SULFATE BEADS CAP SR 24HR 60 MG\") + rx_cost*Q(\"brand_MORPHINE SULFATE CAP ER 24HR 10 MG\") + rx_cost*Q(\"brand_MORPHINE SULFATE CAP ER 24HR 20 MG\") + rx_cost*Q(\"brand_MORPHINE SULFATE CAP ER 24HR 30 MG\") + rx_cost*Q(\"brand_MORPHINE SULFATE CAP ER 24HR 50 MG\") + rx_cost*Q(\"brand_MORPHINE SULFATE CAP ER 24HR 60 MG\") + rx_cost*Q(\"brand_MORPHINE SULFATE CAP SR 24HR 10 MG\") + rx_cost*Q(\"brand_MORPHINE SULFATE CAP SR 24HR 100 MG\") + rx_cost*Q(\"brand_MORPHINE SULFATE CAP SR 24HR 20 MG\") + rx_cost*Q(\"brand_MORPHINE SULFATE CAP SR 24HR 30 MG\") + rx_cost*Q(\"brand_MORPHINE SULFATE CAP SR 24HR 50 MG\") + rx_cost*Q(\"brand_MORPHINE SULFATE CAP SR 24HR 60 MG\") + rx_cost*Q(\"brand_MORPHINE SULFATE CAP SR 24HR 80 MG\") + rx_cost*Q(\"brand_MORPHINE SULFATE ORAL SOLN 10 MG/5ML\") + rx_cost*Q(\"brand_MORPHINE SULFATE ORAL SOLN 100 MG/5ML (20 MG/ML)\") + rx_cost*Q(\"brand_MORPHINE SULFATE ORAL SOLN 20 MG/5ML\") + rx_cost*Q(\"brand_MORPHINE SULFATE TAB 15 MG\") + rx_cost*Q(\"brand_MORPHINE SULFATE TAB 30 MG\") + rx_cost*Q(\"brand_MORPHINE SULFATE TAB CR 100 MG\") + rx_cost*Q(\"brand_MORPHINE SULFATE TAB CR 15 MG\") + rx_cost*Q(\"brand_MORPHINE SULFATE TAB CR 200 MG\") + rx_cost*Q(\"brand_MORPHINE SULFATE TAB CR 30 MG\") + rx_cost*Q(\"brand_MORPHINE SULFATE TAB CR 60 MG\") + rx_cost*Q(\"brand_MORPHINE SULFATE TAB ER 100 MG\") + rx_cost*Q(\"brand_MORPHINE SULFATE TAB ER 12HR DETER 30 MG\") + rx_cost*Q(\"brand_MORPHINE SULFATE TAB ER 15 MG\") + rx_cost*Q(\"brand_MORPHINE SULFATE TAB ER 200 MG\") + rx_cost*Q(\"brand_MORPHINE SULFATE TAB ER 30 MG\") + rx_cost*Q(\"brand_MORPHINE SULFATE TAB ER 60 MG\") + rx_cost*Q(\"brand_MORPHINE-NALTREXONE CAP CR 20-0.8 MG\") + rx_cost*Q(\"brand_MORPHINE-NALTREXONE CAP CR 30-1.2 MG\") + rx_cost*Q(\"brand_MORPHINE-NALTREXONE CAP ER 20-0.8 MG\") + rx_cost*Q(\"brand_MORPHINE-NALTREXONE CAP ER 30-1.2 MG\") + rx_cost*Q(\"brand_MORPHINE-NALTREXONE CAP ER 50-2 MG\") + rx_cost*Q(\"brand_MORPHINE-NALTREXONE CAP ER 60-2.4 MG\") + rx_cost*Q(\"brand_MORPHINE-NALTREXONE CAP ER 80-3.2 MG\") + rx_cost*Q(\"brand_NALOXONE HCL INJ 0.4 MG/ML\") + rx_cost*Q(\"brand_NALOXONE HCL INJ 1 MG/ML\") + rx_cost*Q(\"brand_NALOXONE HCL NASAL SPRAY 4 MG/0.1ML\") + rx_cost*Q(\"brand_NALOXONE HCL SOLN CARTRIDGE 0.4 MG/ML\") + rx_cost*Q(\"brand_NALOXONE HCL SOLN PREFILLED SYRINGE 2 MG/2ML\") + rx_cost*Q(\"brand_NALOXONE HCL SOLUTION AUTO-INJECTOR 0.4 MG/0.4ML\") + rx_cost*Q(\"brand_NALOXONE HCL SOLUTION AUTO-INJECTOR 2 MG/0.4ML\") + rx_cost*Q(\"brand_NALTREXONE FOR IM EXTENDED RELEASE SUSP 380 MG\") + rx_cost*Q(\"brand_NALTREXONE HCL TAB 50 MG\") + rx_cost*Q(\"brand_OPIUM TINCTURE 1% (10 MG/ML) (MORPHINE EQUIV)\") + rx_cost*Q(\"brand_OXYCODONE CAP ER 12HR ABUSE-DETERRENT 13.5 MG\") + rx_cost*Q(\"brand_OXYCODONE CAP ER 12HR ABUSE-DETERRENT 18 MG\") + rx_cost*Q(\"brand_OXYCODONE CAP ER 12HR ABUSE-DETERRENT 27 MG\") + rx_cost*Q(\"brand_OXYCODONE CAP ER 12HR ABUSE-DETERRENT 36 MG\") + rx_cost*Q(\"brand_OXYCODONE CAP ER 12HR ABUSE-DETERRENT 9 MG\") + rx_cost*Q(\"brand_OXYCODONE HCL CAP 5 MG\") + rx_cost*Q(\"brand_OXYCODONE HCL CONC 100 MG/5ML (20 MG/ML)\") + rx_cost*Q(\"brand_OXYCODONE HCL SOLN 5 MG/5ML\") + rx_cost*Q(\"brand_OXYCODONE HCL TAB 10 MG\") + rx_cost*Q(\"brand_OXYCODONE HCL TAB 15 MG\") + rx_cost*Q(\"brand_OXYCODONE HCL TAB 20 MG\") + rx_cost*Q(\"brand_OXYCODONE HCL TAB 30 MG\") + rx_cost*Q(\"brand_OXYCODONE HCL TAB 5 MG\") + rx_cost*Q(\"brand_OXYCODONE HCL TAB ER 12HR DETER 10 MG\") + rx_cost*Q(\"brand_OXYCODONE HCL TAB ER 12HR DETER 15 MG\") + rx_cost*Q(\"brand_OXYCODONE HCL TAB ER 12HR DETER 20 MG\") + rx_cost*Q(\"brand_OXYCODONE HCL TAB ER 12HR DETER 30 MG\") + rx_cost*Q(\"brand_OXYCODONE HCL TAB ER 12HR DETER 40 MG\") + rx_cost*Q(\"brand_OXYCODONE HCL TAB ER 12HR DETER 60 MG\") + rx_cost*Q(\"brand_OXYCODONE HCL TAB ER 12HR DETER 80 MG\") + rx_cost*Q(\"brand_OXYCODONE W/ ACETAMINOPHEN TAB 10-325 MG\") + rx_cost*Q(\"brand_OXYCODONE W/ ACETAMINOPHEN TAB 2.5-325 MG\") + rx_cost*Q(\"brand_OXYCODONE W/ ACETAMINOPHEN TAB 5-325 MG\") + rx_cost*Q(\"brand_OXYCODONE W/ ACETAMINOPHEN TAB 7.5-325 MG\") + rx_cost*Q(\"brand_OXYCODONE W/ ACETAMINOPHEN TAB CR 7.5-325 MG\") + rx_cost*Q(\"brand_OXYCODONE-ASPIRIN TAB 4.8355-325 MG\") + rx_cost*Q(\"brand_OXYCODONE-IBUPROFEN TAB 5-400 MG\") + rx_cost*Q(\"brand_OXYMORPHONE HCL TAB 10 MG\") + rx_cost*Q(\"brand_OXYMORPHONE HCL TAB 5 MG\") + rx_cost*Q(\"brand_OXYMORPHONE HCL TAB ER 12HR 10 MG\") + rx_cost*Q(\"brand_OXYMORPHONE HCL TAB ER 12HR 15 MG\") + rx_cost*Q(\"brand_OXYMORPHONE HCL TAB ER 12HR 20 MG\") + rx_cost*Q(\"brand_OXYMORPHONE HCL TAB ER 12HR 30 MG\") + rx_cost*Q(\"brand_OXYMORPHONE HCL TAB ER 12HR 40 MG\") + rx_cost*Q(\"brand_OXYMORPHONE HCL TAB ER 12HR 5 MG\") + rx_cost*Q(\"brand_OXYMORPHONE HCL TAB ER 12HR 7.5 MG\") + rx_cost*Q(\"brand_OXYMORPHONE HCL TAB ER 12HR DETER 10 MG\") + rx_cost*Q(\"brand_OXYMORPHONE HCL TAB ER 12HR DETER 15 MG\") + rx_cost*Q(\"brand_OXYMORPHONE HCL TAB ER 12HR DETER 20 MG\") + rx_cost*Q(\"brand_OXYMORPHONE HCL TAB ER 12HR DETER 30 MG\") + rx_cost*Q(\"brand_OXYMORPHONE HCL TAB ER 12HR DETER 40 MG\") + rx_cost*Q(\"brand_OXYMORPHONE HCL TAB ER 12HR DETER 5 MG\") + rx_cost*Q(\"brand_OXYMORPHONE HCL TAB ER 12HR DETER 7.5 MG\") + rx_cost*Q(\"brand_OXYMORPHONE HCL TAB SR 12HR 10 MG\") + rx_cost*Q(\"brand_OXYMORPHONE HCL TAB SR 12HR 15 MG\") + rx_cost*Q(\"brand_OXYMORPHONE HCL TAB SR 12HR 20 MG\") + rx_cost*Q(\"brand_OXYMORPHONE HCL TAB SR 12HR 30 MG\") + rx_cost*Q(\"brand_OXYMORPHONE HCL TAB SR 12HR 40 MG\") + rx_cost*Q(\"brand_OXYMORPHONE HCL TAB SR 12HR 5 MG\") + rx_cost*Q(\"brand_PENTAZOCINE W/ NALOXONE TAB 50-0.5 MG\") + rx_cost*Q(\"brand_TAPENTADOL HCL TAB 100 MG\") + rx_cost*Q(\"brand_TAPENTADOL HCL TAB 50 MG\") + rx_cost*Q(\"brand_TAPENTADOL HCL TAB 75 MG\") + rx_cost*Q(\"brand_TAPENTADOL HCL TAB ER 12HR 100 MG\") + rx_cost*Q(\"brand_TAPENTADOL HCL TAB ER 12HR 150 MG\") + rx_cost*Q(\"brand_TAPENTADOL HCL TAB ER 12HR 200 MG\") + rx_cost*Q(\"brand_TAPENTADOL HCL TAB ER 12HR 50 MG\") + rx_cost*Q(\"brand_TAPENTADOL HCL TAB SR 12HR 100 MG\") + rx_cost*Q(\"brand_TAPENTADOL HCL TAB SR 12HR 150 MG\") + rx_cost*Q(\"brand_TAPENTADOL HCL TAB SR 12HR 50 MG\") + rx_cost*Q(\"brand_TRAMADOL HCL CAP ER 24HR BIPHASIC RELEASE 100 MG\") + rx_cost*Q(\"brand_TRAMADOL HCL CAP ER 24HR BIPHASIC RELEASE 200 MG\") + rx_cost*Q(\"brand_TRAMADOL HCL CAP SR 24HR BIPHASIC RELEASE 100 MG\") + rx_cost*Q(\"brand_TRAMADOL HCL CAP SR 24HR BIPHASIC RELEASE 200 MG\") + rx_cost*Q(\"brand_TRAMADOL HCL TAB 50 MG\") + rx_cost*Q(\"brand_TRAMADOL HCL TAB ER 24HR 100 MG\") + rx_cost*Q(\"brand_TRAMADOL HCL TAB ER 24HR 200 MG\") + rx_cost*Q(\"brand_TRAMADOL HCL TAB ER 24HR 300 MG\") + rx_cost*Q(\"brand_TRAMADOL HCL TAB ER 24HR BIPHASIC RELEASE 100 MG\") + rx_cost*Q(\"brand_TRAMADOL HCL TAB ER 24HR BIPHASIC RELEASE 200 MG\") + rx_cost*Q(\"brand_TRAMADOL HCL TAB ER 24HR BIPHASIC RELEASE 300 MG\") + rx_cost*Q(\"brand_TRAMADOL HCL TAB SR 24HR 100 MG\") + rx_cost*Q(\"brand_TRAMADOL HCL TAB SR 24HR 200 MG\") + rx_cost*Q(\"brand_TRAMADOL HCL TAB SR 24HR 300 MG\") + rx_cost*Q(\"brand_TRAMADOL-ACETAMINOPHEN TAB 37.5-325 MG\")\n                                                                                                                                                                                                                                                                                                                                                                                                                                                                                                                                                                                                                                                                                                                                                                                                                                                                                                                                                                                                                                                                                                                                                                                                                                                                                                                                                                                                                                                                                                                                                                                                                                                                                                                                                                                                                                                                                                                                                                                                                                                                                                                                                                                                                                                                                                                                                                                                                                                                                                                                                                                                                                                                                                                                                                                                                                                                                                                                                                                                                                                                                                                                                                                                                                                                                                                                                                                                                                                                                                                                                                                                                                                                                                                                                                                                                                                                                                                                                                                                                                                                                                                                                                                                                                                                                                                                                                                                                                                                                                                                                                                                                                                                                                                                                                                                                                                                                                                                                                                                                                                                      ^^^^^^^^^^^^^^^^^^^^^^^^^^^^^^^^^^^^^"
     ]
    }
   ],
   "source": [
    "#### Try to use linear regression to fill PAYABLE_QTY: more PAYABLE_QTY, more rx_cost\n",
    "# 1. features: brand_names, rx_cost\n",
    "# 2. labels: PAYABLE_QTY\n",
    "\n",
    "# from patsy import dmatrices\n",
    "\n",
    "# # encode brand_names\n",
    "# from sklearn.preprocessing import OneHotEncoder\n",
    "# enc = OneHotEncoder(handle_unknown='ignore')\n",
    "# brand_name = true_opioid['generic_name'].values.reshape(-1, 1)\n",
    "# enc.fit(brand_name)\n",
    "\n",
    "# X_brand = pd.DataFrame(enc.transform(brand_name).toarray())\n",
    "# X_cost = true_opioid[['rx_cost']].reset_index(drop=True)\n",
    "# y = true_opioid[['PAYABLE_QTY']].reset_index(drop=True)\n",
    "# data = pd.concat([X_brand, X_cost, y], axis = 1, ignore_index=True)\n",
    "# data.columns = enc.get_feature_names(['name']).tolist() + ['rx_cost', 'PAYABLE_QTY']\n",
    "\n",
    "# y_tmp = pd.DataFrame([1]*data.shape[0])\n",
    "# data_for_dmatrice = pd.concat([X_brand, X_cost, y_tmp], axis = 1, ignore_index=True)\n",
    "# data_for_dmatrice.columns = enc.get_feature_names(['name']).tolist() + ['rx_cost', 'constant']\n",
    "\n",
    "# formula = 'constant ~' + ' '.join(['rx_cost*Q(\"{}\") +'.format(x) for x in enc.get_feature_names(['brand']).tolist()])[:-1]\n",
    "# Y, X = dmatrices(formula, data_for_dmatrice, return_type='dataframe')\n",
    "\n",
    "# train = true_opioid['PAYABLE_QTY'].reset_index(drop=True).notnull()\n",
    "# trainy = true_opioid['PAYABLE_QTY'].notnull()\n",
    "# tofill = true_opioid['PAYABLE_QTY'].reset_index(drop=True).isnull()\n",
    "\n",
    "# X_train = X[train]\n",
    "# y_train = true_opioid.loc[trainy, ['PAYABLE_QTY']]\n",
    "\n",
    "# X_tofill = X[tofill]\n",
    "\n",
    "# from sklearn.linear_model import LinearRegression\n",
    "# linear = LinearRegression()\n",
    "# linear.fit(X_train, y_train)\n",
    "# linear.score(X_train, y_train)\n",
    "\n",
    "# valuetofill = linear.predict(X_tofill)\n",
    "\n",
    "# valuetofill_list = [x[0] for x in valuetofill]\n",
    "\n",
    "# mask_to_fill = true_opioid['PAYABLE_QTY'].isnull()\n",
    "\n",
    "# true_opioid['PAYABLE_QTY'][mask_to_fill] = valuetofill_list\n",
    "\n",
    "# true_opioid[mask_to_fill].head()"
   ]
  },
  {
   "cell_type": "markdown",
   "metadata": {},
   "source": [
    "## features_matthew_v2\n",
    "supply_day, payable_qty, MME"
   ]
  },
  {
   "cell_type": "code",
   "execution_count": 605,
   "metadata": {},
   "outputs": [
    {
     "name": "stderr",
     "output_type": "stream",
     "text": [
      "C:\\Users\\spong\\Anaconda3\\envs\\test\\lib\\site-packages\\ipykernel_launcher.py:5: SettingWithCopyWarning: \n",
      "A value is trying to be set on a copy of a slice from a DataFrame.\n",
      "Try using .loc[row_indexer,col_indexer] = value instead\n",
      "\n",
      "See the caveats in the documentation: http://pandas.pydata.org/pandas-docs/stable/indexing.html#indexing-view-versus-copy\n",
      "  \"\"\"\n",
      "C:\\Users\\spong\\Anaconda3\\envs\\test\\lib\\site-packages\\ipykernel_launcher.py:6: SettingWithCopyWarning: \n",
      "A value is trying to be set on a copy of a slice from a DataFrame.\n",
      "Try using .loc[row_indexer,col_indexer] = value instead\n",
      "\n",
      "See the caveats in the documentation: http://pandas.pydata.org/pandas-docs/stable/indexing.html#indexing-view-versus-copy\n",
      "  \n"
     ]
    },
    {
     "name": "stdout",
     "output_type": "stream",
     "text": [
      "Wall time: 58.5 s\n"
     ]
    },
    {
     "data": {
      "text/html": [
       "<div>\n",
       "<style scoped>\n",
       "    .dataframe tbody tr th:only-of-type {\n",
       "        vertical-align: middle;\n",
       "    }\n",
       "\n",
       "    .dataframe tbody tr th {\n",
       "        vertical-align: top;\n",
       "    }\n",
       "\n",
       "    .dataframe thead th {\n",
       "        text-align: right;\n",
       "    }\n",
       "</style>\n",
       "<table border=\"1\" class=\"dataframe\">\n",
       "  <thead>\n",
       "    <tr style=\"text-align: right;\">\n",
       "      <th></th>\n",
       "      <th>MME_on_day0</th>\n",
       "      <th>SUPPLY_CNT_on_day0</th>\n",
       "      <th>PAYABLE_QTY_on_day0</th>\n",
       "      <th>max_MME_prior</th>\n",
       "      <th>avg_MME_prior</th>\n",
       "      <th>total_SUPPLY_CNT_prior</th>\n",
       "      <th>total_PAYABLE_QTY_prior</th>\n",
       "      <th>opioid_cost_on_day_0</th>\n",
       "      <th>opioid_net_payment_on_day_0</th>\n",
       "      <th>supply_times</th>\n",
       "      <th>...</th>\n",
       "      <th>total_cost_divide_SUPPLY_day_0</th>\n",
       "      <th>total_net_payment_divide_on_day_0</th>\n",
       "      <th>np_portion_divide_SUPPLY_day_0</th>\n",
       "      <th>oc_portion_divide_SUPPLY_day_0</th>\n",
       "      <th>max_MME_prior_divide_SUPPLY_day_0</th>\n",
       "      <th>avg_MME_prior_divide_SUPPLY_day_0</th>\n",
       "      <th>tsc_prior_divide_SUPPLY_day_0</th>\n",
       "      <th>tpa_prior_divide_SUPPLY_day_0</th>\n",
       "      <th>oc_day_0_divide_SUPPLY_day_0</th>\n",
       "      <th>np_day_0_divide_SUPPLY_day_0</th>\n",
       "    </tr>\n",
       "    <tr>\n",
       "      <th>key_0</th>\n",
       "      <th></th>\n",
       "      <th></th>\n",
       "      <th></th>\n",
       "      <th></th>\n",
       "      <th></th>\n",
       "      <th></th>\n",
       "      <th></th>\n",
       "      <th></th>\n",
       "      <th></th>\n",
       "      <th></th>\n",
       "      <th></th>\n",
       "      <th></th>\n",
       "      <th></th>\n",
       "      <th></th>\n",
       "      <th></th>\n",
       "      <th></th>\n",
       "      <th></th>\n",
       "      <th></th>\n",
       "      <th></th>\n",
       "      <th></th>\n",
       "      <th></th>\n",
       "    </tr>\n",
       "  </thead>\n",
       "  <tbody>\n",
       "    <tr>\n",
       "      <th>ID10010854159</th>\n",
       "      <td>15.0</td>\n",
       "      <td>5.0</td>\n",
       "      <td>15.0</td>\n",
       "      <td>0.0</td>\n",
       "      <td>0.000000</td>\n",
       "      <td>0.0</td>\n",
       "      <td>0.0</td>\n",
       "      <td>1.83</td>\n",
       "      <td>1.38</td>\n",
       "      <td>1</td>\n",
       "      <td>...</td>\n",
       "      <td>0.366000</td>\n",
       "      <td>0.276000</td>\n",
       "      <td>0.150820</td>\n",
       "      <td>0.200000</td>\n",
       "      <td>0.000000</td>\n",
       "      <td>0.000000</td>\n",
       "      <td>0.0</td>\n",
       "      <td>0.000000</td>\n",
       "      <td>0.366000</td>\n",
       "      <td>0.276000</td>\n",
       "    </tr>\n",
       "    <tr>\n",
       "      <th>ID10013863216</th>\n",
       "      <td>10.0</td>\n",
       "      <td>90.0</td>\n",
       "      <td>180.0</td>\n",
       "      <td>0.0</td>\n",
       "      <td>0.000000</td>\n",
       "      <td>0.0</td>\n",
       "      <td>0.0</td>\n",
       "      <td>11.05</td>\n",
       "      <td>0.00</td>\n",
       "      <td>1</td>\n",
       "      <td>...</td>\n",
       "      <td>0.435111</td>\n",
       "      <td>0.000000</td>\n",
       "      <td>0.000000</td>\n",
       "      <td>0.003135</td>\n",
       "      <td>0.000000</td>\n",
       "      <td>0.000000</td>\n",
       "      <td>0.0</td>\n",
       "      <td>0.000000</td>\n",
       "      <td>0.122778</td>\n",
       "      <td>0.000000</td>\n",
       "    </tr>\n",
       "    <tr>\n",
       "      <th>ID10024447278</th>\n",
       "      <td>50.0</td>\n",
       "      <td>3.0</td>\n",
       "      <td>20.0</td>\n",
       "      <td>22.5</td>\n",
       "      <td>20.000000</td>\n",
       "      <td>15.0</td>\n",
       "      <td>40.0</td>\n",
       "      <td>5.00</td>\n",
       "      <td>2.99</td>\n",
       "      <td>4</td>\n",
       "      <td>...</td>\n",
       "      <td>5.500000</td>\n",
       "      <td>3.163333</td>\n",
       "      <td>0.191717</td>\n",
       "      <td>0.101010</td>\n",
       "      <td>7.500000</td>\n",
       "      <td>6.666667</td>\n",
       "      <td>5.0</td>\n",
       "      <td>13.333333</td>\n",
       "      <td>1.666667</td>\n",
       "      <td>0.996667</td>\n",
       "    </tr>\n",
       "    <tr>\n",
       "      <th>ID1002482139</th>\n",
       "      <td>60.0</td>\n",
       "      <td>30.0</td>\n",
       "      <td>120.0</td>\n",
       "      <td>90.0</td>\n",
       "      <td>37.254464</td>\n",
       "      <td>789.0</td>\n",
       "      <td>2895.0</td>\n",
       "      <td>23.72</td>\n",
       "      <td>22.52</td>\n",
       "      <td>29</td>\n",
       "      <td>...</td>\n",
       "      <td>11.087667</td>\n",
       "      <td>10.924333</td>\n",
       "      <td>0.032842</td>\n",
       "      <td>0.002377</td>\n",
       "      <td>3.000000</td>\n",
       "      <td>1.241815</td>\n",
       "      <td>26.3</td>\n",
       "      <td>96.500000</td>\n",
       "      <td>0.790667</td>\n",
       "      <td>0.750667</td>\n",
       "    </tr>\n",
       "    <tr>\n",
       "      <th>ID1003386406</th>\n",
       "      <td>20.0</td>\n",
       "      <td>15.0</td>\n",
       "      <td>60.0</td>\n",
       "      <td>50.0</td>\n",
       "      <td>50.000000</td>\n",
       "      <td>3.0</td>\n",
       "      <td>20.0</td>\n",
       "      <td>7.60</td>\n",
       "      <td>7.60</td>\n",
       "      <td>2</td>\n",
       "      <td>...</td>\n",
       "      <td>0.506667</td>\n",
       "      <td>0.506667</td>\n",
       "      <td>0.066667</td>\n",
       "      <td>0.066667</td>\n",
       "      <td>3.333333</td>\n",
       "      <td>3.333333</td>\n",
       "      <td>0.2</td>\n",
       "      <td>1.333333</td>\n",
       "      <td>0.506667</td>\n",
       "      <td>0.506667</td>\n",
       "    </tr>\n",
       "  </tbody>\n",
       "</table>\n",
       "<p>5 rows × 25 columns</p>\n",
       "</div>"
      ],
      "text/plain": [
       "               MME_on_day0  SUPPLY_CNT_on_day0  PAYABLE_QTY_on_day0  max_MME_prior  avg_MME_prior  total_SUPPLY_CNT_prior  total_PAYABLE_QTY_prior  opioid_cost_on_day_0  opioid_net_payment_on_day_0  supply_times  ...  total_cost_divide_SUPPLY_day_0  total_net_payment_divide_on_day_0  np_portion_divide_SUPPLY_day_0  oc_portion_divide_SUPPLY_day_0  max_MME_prior_divide_SUPPLY_day_0  avg_MME_prior_divide_SUPPLY_day_0  tsc_prior_divide_SUPPLY_day_0  tpa_prior_divide_SUPPLY_day_0  oc_day_0_divide_SUPPLY_day_0  np_day_0_divide_SUPPLY_day_0\n",
       "key_0                                                                                                                                                                                                                ...                                                                                                                                                                                                                                                                                                                                   \n",
       "ID10010854159         15.0                 5.0                 15.0            0.0       0.000000                     0.0                      0.0                  1.83                         1.38             1  ...                        0.366000                           0.276000                        0.150820                        0.200000                           0.000000                           0.000000                            0.0                       0.000000                      0.366000                      0.276000\n",
       "ID10013863216         10.0                90.0                180.0            0.0       0.000000                     0.0                      0.0                 11.05                         0.00             1  ...                        0.435111                           0.000000                        0.000000                        0.003135                           0.000000                           0.000000                            0.0                       0.000000                      0.122778                      0.000000\n",
       "ID10024447278         50.0                 3.0                 20.0           22.5      20.000000                    15.0                     40.0                  5.00                         2.99             4  ...                        5.500000                           3.163333                        0.191717                        0.101010                           7.500000                           6.666667                            5.0                      13.333333                      1.666667                      0.996667\n",
       "ID1002482139          60.0                30.0                120.0           90.0      37.254464                   789.0                   2895.0                 23.72                        22.52            29  ...                       11.087667                          10.924333                        0.032842                        0.002377                           3.000000                           1.241815                           26.3                      96.500000                      0.790667                      0.750667\n",
       "ID1003386406          20.0                15.0                 60.0           50.0      50.000000                     3.0                     20.0                  7.60                         7.60             2  ...                        0.506667                           0.506667                        0.066667                        0.066667                           3.333333                           3.333333                            0.2                       1.333333                      0.506667                      0.506667\n",
       "\n",
       "[5 rows x 25 columns]"
      ]
     },
     "execution_count": 605,
     "metadata": {},
     "output_type": "execute_result"
    }
   ],
   "source": [
    "%%time\n",
    "######################################\n",
    "# code to generate features_matthew_v2\n",
    "######################################\n",
    "\n",
    "true_opioid['rx_cost'] = true_opioid['rx_cost'].map(float)\n",
    "true_opioid['net_paid_amount'] = true_opioid['net_paid_amount'].map(float)\n",
    "\n",
    "opioid_grouped = true_opioid.groupby(by=['id'])\n",
    "idtestlist = true_opioid['id'].drop_duplicates()\n",
    "\n",
    "features3 = pd.DataFrame()\n",
    "for ID in idtestlist:\n",
    "    tmp = opioid_grouped.get_group(ID)\n",
    "\n",
    "    # MME (per day) on day 0\n",
    "    # Suuply_CNT on day 0\n",
    "    on_day0 = tmp[tmp['Days'] == 0] \n",
    "    if not on_day0.empty:\n",
    "        MME0 = on_day0['MME'].values[0]\n",
    "        SC0 = on_day0['PAY_DAY_SUPPLY_CNT'].values[0]\n",
    "        PQ0 = on_day0['PAYABLE_QTY'].values[0]\n",
    "        RX0 = on_day0['rx_cost'].values[0]\n",
    "        NP0 = on_day0['net_paid_amount'].values[0]\n",
    "    else:\n",
    "        MME0 = 0\n",
    "        SC0 = 0\n",
    "        PQ0 = 0\n",
    "        RX0 = 0\n",
    "        NP0 = 0\n",
    "\n",
    "    # max MME (per day) prior to day 0\n",
    "    # average MME (per day) prior to day 0\n",
    "    # Total Supply_CNT prior to day 0\n",
    "    prior_day0 = tmp[tmp['Days'] < 0]\n",
    "    if not prior_day0.empty:\n",
    "        maxMME = np.nanmax(prior_day0['MME'].values)\n",
    "        avgMME = np.nanmean(prior_day0['MME'].values)\n",
    "        totalSC = np.nansum(prior_day0['PAY_DAY_SUPPLY_CNT'].values)\n",
    "        totalPQ = np.nansum(prior_day0['PAYABLE_QTY'].values)\n",
    "    else:\n",
    "        maxMME = 0\n",
    "        avgMME = 0\n",
    "        totalSC = 0\n",
    "        totalPQ = 0\n",
    "\n",
    "    output = pd.DataFrame({'MME_on_day0': MME0, \n",
    "                         'SUPPLY_CNT_on_day0': SC0,\n",
    "                           'PAYABLE_QTY_on_day0': PQ0,\n",
    "                         'max_MME_prior': maxMME,\n",
    "                         'avg_MME_prior': avgMME,\n",
    "                         'total_SUPPLY_CNT_prior': totalSC,\n",
    "                          'total_PAYABLE_QTY_prior': totalPQ,\n",
    "                          'opioid_cost_on_day_0': RX0,\n",
    "                          'opioid_net_payment_on_day_0':NP0},\n",
    "                          index = [ID])\n",
    "\n",
    "    features3 = features3.append(output, sort=False)\n",
    "\n",
    "# MME_on_day0, max_MME_prior, avg_MME_prior has some missing value, fill with medians\n",
    "features3['MME_on_day0'] = features3['MME_on_day0'].fillna(np.nanmedian(features3['MME_on_day0']))\n",
    "features3['max_MME_prior'] = features3['max_MME_prior'].fillna(np.nanmedian(features3['max_MME_prior']))\n",
    "features3['avg_MME_prior'] = features3['avg_MME_prior'].fillna(np.nanmedian(features3['avg_MME_prior']))\n",
    "\n",
    "# add one more feature: supply_times\n",
    "supply_times = true_opioid[true_opioid['Days']<=0].groupby(by=['id'])['PAY_DAY_SUPPLY_CNT'].count()\n",
    "supply_times = pd.DataFrame(supply_times)\n",
    "supply_times.columns = ['supply_times']\n",
    "features3 = features3.merge(supply_times, left_on=features3.index.values, right_on=supply_times.index.values)\n",
    "features3 = features3.set_index('key_0')\n",
    "\n",
    "rx_paid['rx_cost'] = rx_paid['rx_cost'].map(float)\n",
    "rx_paid['net_paid_amount'] = rx_paid['net_paid_amount'].map(float)\n",
    "\n",
    "# add total costs features\n",
    "total_costs_on_day_0 = rx_paid[rx_paid['Days']==0].groupby(by=['id'])['rx_cost'].agg(np.sum)\n",
    "total_net_payment_on_day_0 = rx_paid[rx_paid['Days']==0].groupby(by=['id'])['net_paid_amount'].agg(np.sum)\n",
    "\n",
    "features3['total_costs_on_day_0'] = total_costs_on_day_0\n",
    "features3['total_net_payment_on_day_0'] = total_net_payment_on_day_0\n",
    "features3['net_payment_portion_on_day_0'] = total_net_payment_on_day_0/total_costs_on_day_0\n",
    "features3['opioid_cost_portion_on_day_0'] = features3['opioid_cost_on_day_0']/features3['total_costs_on_day_0']\n",
    "\n",
    "# add some interaction\n",
    "features3['MME_times_SUPPLY_day_0'] = features3['MME_on_day0']*features3['SUPPLY_CNT_on_day0']\n",
    "features3['total_cost_divide_SUPPLY_day_0'] = features3['total_costs_on_day_0']/features3['SUPPLY_CNT_on_day0']\n",
    "features3['total_net_payment_divide_on_day_0'] = features3['total_net_payment_on_day_0']/features3['SUPPLY_CNT_on_day0']\n",
    "features3['np_portion_divide_SUPPLY_day_0'] = features3['net_payment_portion_on_day_0']/features3['SUPPLY_CNT_on_day0']\n",
    "features3['oc_portion_divide_SUPPLY_day_0'] = features3['opioid_cost_portion_on_day_0']/features3['SUPPLY_CNT_on_day0']\n",
    "\n",
    "features3['max_MME_prior_divide_SUPPLY_day_0'] = features3['max_MME_prior']/features3['SUPPLY_CNT_on_day0']\n",
    "features3['avg_MME_prior_divide_SUPPLY_day_0'] = features3['avg_MME_prior']/features3['SUPPLY_CNT_on_day0']\n",
    "features3['tsc_prior_divide_SUPPLY_day_0'] = features3['total_SUPPLY_CNT_prior']/features3['SUPPLY_CNT_on_day0']\n",
    "features3['tpa_prior_divide_SUPPLY_day_0'] = features3['total_PAYABLE_QTY_prior']/features3['SUPPLY_CNT_on_day0']\n",
    "features3['oc_day_0_divide_SUPPLY_day_0'] = features3['opioid_cost_on_day_0']/features3['SUPPLY_CNT_on_day0']\n",
    "features3['np_day_0_divide_SUPPLY_day_0'] = features3['opioid_net_payment_on_day_0']/features3['SUPPLY_CNT_on_day0']\n",
    "\n",
    "features3.to_csv('features_matthew_v2.csv')\n",
    "features3.head()"
   ]
  },
  {
   "cell_type": "code",
   "execution_count": 606,
   "metadata": {},
   "outputs": [
    {
     "data": {
      "text/plain": [
       "(13983, 25)"
      ]
     },
     "execution_count": 606,
     "metadata": {},
     "output_type": "execute_result"
    }
   ],
   "source": [
    "features3.shape"
   ]
  },
  {
   "cell_type": "code",
   "execution_count": 607,
   "metadata": {},
   "outputs": [
    {
     "data": {
      "text/html": [
       "<div>\n",
       "<style scoped>\n",
       "    .dataframe tbody tr th:only-of-type {\n",
       "        vertical-align: middle;\n",
       "    }\n",
       "\n",
       "    .dataframe tbody tr th {\n",
       "        vertical-align: top;\n",
       "    }\n",
       "\n",
       "    .dataframe thead th {\n",
       "        text-align: right;\n",
       "    }\n",
       "</style>\n",
       "<table border=\"1\" class=\"dataframe\">\n",
       "  <thead>\n",
       "    <tr style=\"text-align: right;\">\n",
       "      <th></th>\n",
       "      <th>MME_on_day0</th>\n",
       "      <th>SUPPLY_CNT_on_day0</th>\n",
       "      <th>PAYABLE_QTY_on_day0</th>\n",
       "      <th>max_MME_prior</th>\n",
       "      <th>avg_MME_prior</th>\n",
       "      <th>total_SUPPLY_CNT_prior</th>\n",
       "      <th>total_PAYABLE_QTY_prior</th>\n",
       "      <th>opioid_cost_on_day_0</th>\n",
       "      <th>opioid_net_payment_on_day_0</th>\n",
       "      <th>supply_times</th>\n",
       "      <th>...</th>\n",
       "      <th>total_cost_divide_SUPPLY_day_0</th>\n",
       "      <th>total_net_payment_divide_on_day_0</th>\n",
       "      <th>np_portion_divide_SUPPLY_day_0</th>\n",
       "      <th>oc_portion_divide_SUPPLY_day_0</th>\n",
       "      <th>max_MME_prior_divide_SUPPLY_day_0</th>\n",
       "      <th>avg_MME_prior_divide_SUPPLY_day_0</th>\n",
       "      <th>tsc_prior_divide_SUPPLY_day_0</th>\n",
       "      <th>tpa_prior_divide_SUPPLY_day_0</th>\n",
       "      <th>oc_day_0_divide_SUPPLY_day_0</th>\n",
       "      <th>np_day_0_divide_SUPPLY_day_0</th>\n",
       "    </tr>\n",
       "    <tr>\n",
       "      <th>key_0</th>\n",
       "      <th></th>\n",
       "      <th></th>\n",
       "      <th></th>\n",
       "      <th></th>\n",
       "      <th></th>\n",
       "      <th></th>\n",
       "      <th></th>\n",
       "      <th></th>\n",
       "      <th></th>\n",
       "      <th></th>\n",
       "      <th></th>\n",
       "      <th></th>\n",
       "      <th></th>\n",
       "      <th></th>\n",
       "      <th></th>\n",
       "      <th></th>\n",
       "      <th></th>\n",
       "      <th></th>\n",
       "      <th></th>\n",
       "      <th></th>\n",
       "      <th></th>\n",
       "    </tr>\n",
       "  </thead>\n",
       "  <tbody>\n",
       "    <tr>\n",
       "      <th>ID10010854159</th>\n",
       "      <td>15.0</td>\n",
       "      <td>5.0</td>\n",
       "      <td>15.0</td>\n",
       "      <td>0.0</td>\n",
       "      <td>0.000000</td>\n",
       "      <td>0.0</td>\n",
       "      <td>0.0</td>\n",
       "      <td>1.83</td>\n",
       "      <td>1.38</td>\n",
       "      <td>1</td>\n",
       "      <td>...</td>\n",
       "      <td>0.366000</td>\n",
       "      <td>0.276000</td>\n",
       "      <td>0.150820</td>\n",
       "      <td>0.200000</td>\n",
       "      <td>0.000000</td>\n",
       "      <td>0.000000</td>\n",
       "      <td>0.0</td>\n",
       "      <td>0.000000</td>\n",
       "      <td>0.366000</td>\n",
       "      <td>0.276000</td>\n",
       "    </tr>\n",
       "    <tr>\n",
       "      <th>ID10013863216</th>\n",
       "      <td>10.0</td>\n",
       "      <td>90.0</td>\n",
       "      <td>180.0</td>\n",
       "      <td>0.0</td>\n",
       "      <td>0.000000</td>\n",
       "      <td>0.0</td>\n",
       "      <td>0.0</td>\n",
       "      <td>11.05</td>\n",
       "      <td>0.00</td>\n",
       "      <td>1</td>\n",
       "      <td>...</td>\n",
       "      <td>0.435111</td>\n",
       "      <td>0.000000</td>\n",
       "      <td>0.000000</td>\n",
       "      <td>0.003135</td>\n",
       "      <td>0.000000</td>\n",
       "      <td>0.000000</td>\n",
       "      <td>0.0</td>\n",
       "      <td>0.000000</td>\n",
       "      <td>0.122778</td>\n",
       "      <td>0.000000</td>\n",
       "    </tr>\n",
       "    <tr>\n",
       "      <th>ID10024447278</th>\n",
       "      <td>50.0</td>\n",
       "      <td>3.0</td>\n",
       "      <td>20.0</td>\n",
       "      <td>22.5</td>\n",
       "      <td>20.000000</td>\n",
       "      <td>15.0</td>\n",
       "      <td>40.0</td>\n",
       "      <td>5.00</td>\n",
       "      <td>2.99</td>\n",
       "      <td>4</td>\n",
       "      <td>...</td>\n",
       "      <td>5.500000</td>\n",
       "      <td>3.163333</td>\n",
       "      <td>0.191717</td>\n",
       "      <td>0.101010</td>\n",
       "      <td>7.500000</td>\n",
       "      <td>6.666667</td>\n",
       "      <td>5.0</td>\n",
       "      <td>13.333333</td>\n",
       "      <td>1.666667</td>\n",
       "      <td>0.996667</td>\n",
       "    </tr>\n",
       "    <tr>\n",
       "      <th>ID1002482139</th>\n",
       "      <td>60.0</td>\n",
       "      <td>30.0</td>\n",
       "      <td>120.0</td>\n",
       "      <td>90.0</td>\n",
       "      <td>37.254464</td>\n",
       "      <td>789.0</td>\n",
       "      <td>2895.0</td>\n",
       "      <td>23.72</td>\n",
       "      <td>22.52</td>\n",
       "      <td>29</td>\n",
       "      <td>...</td>\n",
       "      <td>11.087667</td>\n",
       "      <td>10.924333</td>\n",
       "      <td>0.032842</td>\n",
       "      <td>0.002377</td>\n",
       "      <td>3.000000</td>\n",
       "      <td>1.241815</td>\n",
       "      <td>26.3</td>\n",
       "      <td>96.500000</td>\n",
       "      <td>0.790667</td>\n",
       "      <td>0.750667</td>\n",
       "    </tr>\n",
       "    <tr>\n",
       "      <th>ID1003386406</th>\n",
       "      <td>20.0</td>\n",
       "      <td>15.0</td>\n",
       "      <td>60.0</td>\n",
       "      <td>50.0</td>\n",
       "      <td>50.000000</td>\n",
       "      <td>3.0</td>\n",
       "      <td>20.0</td>\n",
       "      <td>7.60</td>\n",
       "      <td>7.60</td>\n",
       "      <td>2</td>\n",
       "      <td>...</td>\n",
       "      <td>0.506667</td>\n",
       "      <td>0.506667</td>\n",
       "      <td>0.066667</td>\n",
       "      <td>0.066667</td>\n",
       "      <td>3.333333</td>\n",
       "      <td>3.333333</td>\n",
       "      <td>0.2</td>\n",
       "      <td>1.333333</td>\n",
       "      <td>0.506667</td>\n",
       "      <td>0.506667</td>\n",
       "    </tr>\n",
       "  </tbody>\n",
       "</table>\n",
       "<p>5 rows × 25 columns</p>\n",
       "</div>"
      ],
      "text/plain": [
       "               MME_on_day0  SUPPLY_CNT_on_day0  PAYABLE_QTY_on_day0  max_MME_prior  avg_MME_prior  total_SUPPLY_CNT_prior  total_PAYABLE_QTY_prior  opioid_cost_on_day_0  opioid_net_payment_on_day_0  supply_times  ...  total_cost_divide_SUPPLY_day_0  total_net_payment_divide_on_day_0  np_portion_divide_SUPPLY_day_0  oc_portion_divide_SUPPLY_day_0  max_MME_prior_divide_SUPPLY_day_0  avg_MME_prior_divide_SUPPLY_day_0  tsc_prior_divide_SUPPLY_day_0  tpa_prior_divide_SUPPLY_day_0  oc_day_0_divide_SUPPLY_day_0  np_day_0_divide_SUPPLY_day_0\n",
       "key_0                                                                                                                                                                                                                ...                                                                                                                                                                                                                                                                                                                                   \n",
       "ID10010854159         15.0                 5.0                 15.0            0.0       0.000000                     0.0                      0.0                  1.83                         1.38             1  ...                        0.366000                           0.276000                        0.150820                        0.200000                           0.000000                           0.000000                            0.0                       0.000000                      0.366000                      0.276000\n",
       "ID10013863216         10.0                90.0                180.0            0.0       0.000000                     0.0                      0.0                 11.05                         0.00             1  ...                        0.435111                           0.000000                        0.000000                        0.003135                           0.000000                           0.000000                            0.0                       0.000000                      0.122778                      0.000000\n",
       "ID10024447278         50.0                 3.0                 20.0           22.5      20.000000                    15.0                     40.0                  5.00                         2.99             4  ...                        5.500000                           3.163333                        0.191717                        0.101010                           7.500000                           6.666667                            5.0                      13.333333                      1.666667                      0.996667\n",
       "ID1002482139          60.0                30.0                120.0           90.0      37.254464                   789.0                   2895.0                 23.72                        22.52            29  ...                       11.087667                          10.924333                        0.032842                        0.002377                           3.000000                           1.241815                           26.3                      96.500000                      0.790667                      0.750667\n",
       "ID1003386406          20.0                15.0                 60.0           50.0      50.000000                     3.0                     20.0                  7.60                         7.60             2  ...                        0.506667                           0.506667                        0.066667                        0.066667                           3.333333                           3.333333                            0.2                       1.333333                      0.506667                      0.506667\n",
       "\n",
       "[5 rows x 25 columns]"
      ]
     },
     "execution_count": 607,
     "metadata": {},
     "output_type": "execute_result"
    }
   ],
   "source": [
    "features_matthew_v2 = features3\n",
    "features_matthew_v2.head()"
   ]
  },
  {
   "cell_type": "markdown",
   "metadata": {},
   "source": [
    "## features_matthew_generic"
   ]
  },
  {
   "cell_type": "code",
   "execution_count": 271,
   "metadata": {},
   "outputs": [
    {
     "name": "stdout",
     "output_type": "stream",
     "text": [
      "Wall time: 5min 2s\n"
     ]
    }
   ],
   "source": [
    "# %%time\n",
    "# ############################################\n",
    "# # code to generate features_matthew_generic\n",
    "# ############################################\n",
    "\n",
    "# opioid2_grouped = true_opioid[true_opioid['Days'] == 0].groupby(by=['id'])\n",
    "\n",
    "# idtestlist = true_opioid[true_opioid['Days'] == 0]['id'].drop_duplicates()\n",
    "\n",
    "# ## those commented-out codes are used to get other entry values\n",
    "# # def product_sum(df):\n",
    "# #     return(df['MME'].values.dot(df['PAY_DAY_SUPPLY_CNT']e.values))\n",
    "\n",
    "# features = pd.DataFrame()\n",
    "# for ID in idtestlist:\n",
    "#     tmp = opioid2_grouped.get_group(ID)\n",
    "#     output = pd.DataFrame(tmp.groupby(by='generic_name')['PAY_DAY_SUPPLY_CNT'].agg(np.nansum)).T\n",
    "# #     output = output.iloc[0:1,:]\n",
    "#     output.index = [ID]\n",
    "#     # features = pd.concat([output, features], axis=1, sort=False)\n",
    "#     features = features.append(output, sort=False)\n",
    "\n",
    "# features = features.fillna(0)\n",
    "# # features.to_csv('features_matthew_generic_names.csv')"
   ]
  },
  {
   "cell_type": "code",
   "execution_count": 673,
   "metadata": {},
   "outputs": [],
   "source": [
    "features = pd.read_csv('features_matthew_generic_names.csv')\n",
    "features = features.set_index('Unnamed: 0')"
   ]
  },
  {
   "cell_type": "code",
   "execution_count": 674,
   "metadata": {},
   "outputs": [
    {
     "name": "stdout",
     "output_type": "stream",
     "text": [
      "[0.62794739 0.08259106 0.06615147 0.04182003 0.02824653 0.02293315\n",
      " 0.02171731 0.01886087 0.01036229 0.00762625]\n"
     ]
    },
    {
     "data": {
      "text/plain": [
       "0.9282563380182737"
      ]
     },
     "execution_count": 674,
     "metadata": {},
     "output_type": "execute_result"
    }
   ],
   "source": [
    "pca = PCA(n_components = 10) \n",
    "X10D = pca.fit_transform(features)\n",
    "print(pca.explained_variance_ratio_)\n",
    "sum(pca.explained_variance_ratio_)"
   ]
  },
  {
   "cell_type": "code",
   "execution_count": 675,
   "metadata": {},
   "outputs": [
    {
     "data": {
      "text/html": [
       "<div>\n",
       "<style scoped>\n",
       "    .dataframe tbody tr th:only-of-type {\n",
       "        vertical-align: middle;\n",
       "    }\n",
       "\n",
       "    .dataframe tbody tr th {\n",
       "        vertical-align: top;\n",
       "    }\n",
       "\n",
       "    .dataframe thead th {\n",
       "        text-align: right;\n",
       "    }\n",
       "</style>\n",
       "<table border=\"1\" class=\"dataframe\">\n",
       "  <thead>\n",
       "    <tr style=\"text-align: right;\">\n",
       "      <th></th>\n",
       "      <th>generic_pc0</th>\n",
       "      <th>generic_pc1</th>\n",
       "      <th>generic_pc2</th>\n",
       "      <th>generic_pc3</th>\n",
       "      <th>generic_pc4</th>\n",
       "      <th>generic_pc5</th>\n",
       "      <th>generic_pc6</th>\n",
       "      <th>generic_pc7</th>\n",
       "      <th>generic_pc8</th>\n",
       "      <th>generic_pc9</th>\n",
       "    </tr>\n",
       "  </thead>\n",
       "  <tbody>\n",
       "    <tr>\n",
       "      <th>ID10010854159</th>\n",
       "      <td>-5.971793</td>\n",
       "      <td>-1.614144</td>\n",
       "      <td>-2.656025</td>\n",
       "      <td>-1.964524</td>\n",
       "      <td>-0.980524</td>\n",
       "      <td>-0.237624</td>\n",
       "      <td>-0.197639</td>\n",
       "      <td>-1.948245</td>\n",
       "      <td>-0.518682</td>\n",
       "      <td>-0.377151</td>\n",
       "    </tr>\n",
       "    <tr>\n",
       "      <th>ID10013863216</th>\n",
       "      <td>78.735906</td>\n",
       "      <td>1.069676</td>\n",
       "      <td>1.642393</td>\n",
       "      <td>1.167419</td>\n",
       "      <td>0.471243</td>\n",
       "      <td>0.144658</td>\n",
       "      <td>0.077287</td>\n",
       "      <td>1.054565</td>\n",
       "      <td>0.264220</td>\n",
       "      <td>0.201637</td>\n",
       "    </tr>\n",
       "    <tr>\n",
       "      <th>ID10024447278</th>\n",
       "      <td>-11.004414</td>\n",
       "      <td>-1.851362</td>\n",
       "      <td>-3.089010</td>\n",
       "      <td>-2.442020</td>\n",
       "      <td>-1.466898</td>\n",
       "      <td>-0.723459</td>\n",
       "      <td>-1.952817</td>\n",
       "      <td>0.203388</td>\n",
       "      <td>-0.421223</td>\n",
       "      <td>-0.344804</td>\n",
       "    </tr>\n",
       "    <tr>\n",
       "      <th>ID1002482139</th>\n",
       "      <td>-11.091818</td>\n",
       "      <td>-1.960224</td>\n",
       "      <td>-3.295098</td>\n",
       "      <td>-2.648637</td>\n",
       "      <td>-1.491112</td>\n",
       "      <td>-0.421549</td>\n",
       "      <td>-0.412403</td>\n",
       "      <td>-3.473674</td>\n",
       "      <td>-2.260382</td>\n",
       "      <td>29.148094</td>\n",
       "    </tr>\n",
       "    <tr>\n",
       "      <th>ID1003386406</th>\n",
       "      <td>3.993819</td>\n",
       "      <td>-1.298400</td>\n",
       "      <td>-2.150329</td>\n",
       "      <td>-1.596060</td>\n",
       "      <td>-0.809728</td>\n",
       "      <td>-0.192650</td>\n",
       "      <td>-0.165295</td>\n",
       "      <td>-1.594973</td>\n",
       "      <td>-0.426576</td>\n",
       "      <td>-0.309059</td>\n",
       "    </tr>\n",
       "  </tbody>\n",
       "</table>\n",
       "</div>"
      ],
      "text/plain": [
       "               generic_pc0  generic_pc1  generic_pc2  generic_pc3  generic_pc4  generic_pc5  generic_pc6  generic_pc7  generic_pc8  generic_pc9\n",
       "ID10010854159    -5.971793    -1.614144    -2.656025    -1.964524    -0.980524    -0.237624    -0.197639    -1.948245    -0.518682    -0.377151\n",
       "ID10013863216    78.735906     1.069676     1.642393     1.167419     0.471243     0.144658     0.077287     1.054565     0.264220     0.201637\n",
       "ID10024447278   -11.004414    -1.851362    -3.089010    -2.442020    -1.466898    -0.723459    -1.952817     0.203388    -0.421223    -0.344804\n",
       "ID1002482139    -11.091818    -1.960224    -3.295098    -2.648637    -1.491112    -0.421549    -0.412403    -3.473674    -2.260382    29.148094\n",
       "ID1003386406      3.993819    -1.298400    -2.150329    -1.596060    -0.809728    -0.192650    -0.165295    -1.594973    -0.426576    -0.309059"
      ]
     },
     "execution_count": 675,
     "metadata": {},
     "output_type": "execute_result"
    }
   ],
   "source": [
    "features_matthew_generic = pd.DataFrame(X10D, index=features.index.values)\n",
    "features_matthew_generic.columns = ['generic_pc{}'.format(x) for x in features_matthew_generic.columns]\n",
    "features_matthew_generic.head()"
   ]
  },
  {
   "cell_type": "code",
   "execution_count": 676,
   "metadata": {},
   "outputs": [
    {
     "data": {
      "text/plain": [
       "(13979, 10)"
      ]
     },
     "execution_count": 676,
     "metadata": {},
     "output_type": "execute_result"
    }
   ],
   "source": [
    "features_matthew_generic.shape"
   ]
  },
  {
   "cell_type": "markdown",
   "metadata": {},
   "source": [
    "## Tried (no improvement): all prescriptioninformation on day 0\n",
    "I think what drugs are used with opioids contained a good portion of information. We can know what disease did this patient have. We can probably how severe the disease was."
   ]
  },
  {
   "cell_type": "markdown",
   "metadata": {},
   "source": [
    "#### I tried 5 catogories. Tried count and sum."
   ]
  },
  {
   "cell_type": "code",
   "execution_count": 25,
   "metadata": {
    "scrolled": true
   },
   "outputs": [
    {
     "data": {
      "text/plain": [
       "drug_group_description          28\n",
       "gpi_drug_class_description     437\n",
       "gpi_drug_group8_id            1278\n",
       "brand_name                    3288\n",
       "generic_name                  4186\n",
       "dtype: int64"
      ]
     },
     "execution_count": 25,
     "metadata": {},
     "output_type": "execute_result"
    }
   ],
   "source": [
    "# def unique_count(se):\n",
    "#     return(len(se.value_counts()))\n",
    "           \n",
    "# col = ['drug_group_description', 'gpi_drug_class_description', 'gpi_drug_group8_id', 'brand_name', 'generic_name']\n",
    "# rx_paid[col].apply(unique_count)"
   ]
  },
  {
   "cell_type": "code",
   "execution_count": 656,
   "metadata": {
    "collapsed": true
   },
   "outputs": [
    {
     "name": "stdout",
     "output_type": "stream",
     "text": [
      "[0.47776759 0.08588709 0.06017682 0.05753181 0.04338351 0.04282381\n",
      " 0.03248666 0.02957621 0.02165522 0.01260028]\n",
      "Wall time: 4min 54s\n"
     ]
    },
    {
     "data": {
      "text/html": [
       "<div>\n",
       "<style scoped>\n",
       "    .dataframe tbody tr th:only-of-type {\n",
       "        vertical-align: middle;\n",
       "    }\n",
       "\n",
       "    .dataframe tbody tr th {\n",
       "        vertical-align: top;\n",
       "    }\n",
       "\n",
       "    .dataframe thead th {\n",
       "        text-align: right;\n",
       "    }\n",
       "</style>\n",
       "<table border=\"1\" class=\"dataframe\">\n",
       "  <thead>\n",
       "    <tr style=\"text-align: right;\">\n",
       "      <th></th>\n",
       "      <th>generic_pc0</th>\n",
       "      <th>generic_pc1</th>\n",
       "      <th>generic_pc2</th>\n",
       "      <th>generic_pc3</th>\n",
       "      <th>generic_pc4</th>\n",
       "      <th>generic_pc5</th>\n",
       "      <th>generic_pc6</th>\n",
       "      <th>generic_pc7</th>\n",
       "      <th>generic_pc8</th>\n",
       "      <th>generic_pc9</th>\n",
       "    </tr>\n",
       "  </thead>\n",
       "  <tbody>\n",
       "    <tr>\n",
       "      <th>ID10010854159</th>\n",
       "      <td>-6.830901</td>\n",
       "      <td>-0.690358</td>\n",
       "      <td>-3.693415</td>\n",
       "      <td>-0.525387</td>\n",
       "      <td>-0.578493</td>\n",
       "      <td>-0.779209</td>\n",
       "      <td>-3.094555</td>\n",
       "      <td>-0.380824</td>\n",
       "      <td>-2.329505</td>\n",
       "      <td>-1.516843</td>\n",
       "    </tr>\n",
       "    <tr>\n",
       "      <th>ID10013863216</th>\n",
       "      <td>2.387983</td>\n",
       "      <td>-0.702197</td>\n",
       "      <td>-3.676438</td>\n",
       "      <td>-0.525798</td>\n",
       "      <td>-0.568166</td>\n",
       "      <td>-0.774384</td>\n",
       "      <td>-3.105419</td>\n",
       "      <td>-0.381204</td>\n",
       "      <td>-2.320422</td>\n",
       "      <td>-1.510979</td>\n",
       "    </tr>\n",
       "    <tr>\n",
       "      <th>ID10024447278</th>\n",
       "      <td>-8.670528</td>\n",
       "      <td>-0.684047</td>\n",
       "      <td>-3.705816</td>\n",
       "      <td>-0.532321</td>\n",
       "      <td>-0.573018</td>\n",
       "      <td>-0.776493</td>\n",
       "      <td>-3.067730</td>\n",
       "      <td>-0.377611</td>\n",
       "      <td>-2.333000</td>\n",
       "      <td>-1.568429</td>\n",
       "    </tr>\n",
       "    <tr>\n",
       "      <th>ID1002482139</th>\n",
       "      <td>15.128324</td>\n",
       "      <td>-0.856602</td>\n",
       "      <td>-0.551299</td>\n",
       "      <td>-0.660599</td>\n",
       "      <td>-0.906917</td>\n",
       "      <td>0.110526</td>\n",
       "      <td>5.890218</td>\n",
       "      <td>-0.855623</td>\n",
       "      <td>302.577612</td>\n",
       "      <td>0.661355</td>\n",
       "    </tr>\n",
       "    <tr>\n",
       "      <th>ID1003386406</th>\n",
       "      <td>-1.061000</td>\n",
       "      <td>-0.697169</td>\n",
       "      <td>-3.692515</td>\n",
       "      <td>-0.525132</td>\n",
       "      <td>-0.577378</td>\n",
       "      <td>-0.778557</td>\n",
       "      <td>-3.106768</td>\n",
       "      <td>-0.380224</td>\n",
       "      <td>-2.331144</td>\n",
       "      <td>-1.517022</td>\n",
       "    </tr>\n",
       "  </tbody>\n",
       "</table>\n",
       "</div>"
      ],
      "text/plain": [
       "               generic_pc0  generic_pc1  generic_pc2  generic_pc3  generic_pc4  generic_pc5  generic_pc6  generic_pc7  generic_pc8  generic_pc9\n",
       "ID10010854159    -6.830901    -0.690358    -3.693415    -0.525387    -0.578493    -0.779209    -3.094555    -0.380824    -2.329505    -1.516843\n",
       "ID10013863216     2.387983    -0.702197    -3.676438    -0.525798    -0.568166    -0.774384    -3.105419    -0.381204    -2.320422    -1.510979\n",
       "ID10024447278    -8.670528    -0.684047    -3.705816    -0.532321    -0.573018    -0.776493    -3.067730    -0.377611    -2.333000    -1.568429\n",
       "ID1002482139     15.128324    -0.856602    -0.551299    -0.660599    -0.906917     0.110526     5.890218    -0.855623   302.577612     0.661355\n",
       "ID1003386406     -1.061000    -0.697169    -3.692515    -0.525132    -0.577378    -0.778557    -3.106768    -0.380224    -2.331144    -1.517022"
      ]
     },
     "execution_count": 656,
     "metadata": {},
     "output_type": "execute_result"
    }
   ],
   "source": [
    "# %%time\n",
    "\n",
    "# rx_paid['rx_cost'] = rx_paid['rx_cost'].map(float)\n",
    "\n",
    "# grouped = rx_paid[rx_paid['Days'] == 0].groupby(by=['id'])\n",
    "\n",
    "# idtestlist = rx_paid[rx_paid['Days'] == 0]['id'].drop_duplicates()\n",
    "\n",
    "# ## those commented-out codes are used to get other entry values\n",
    "# # def product_sum(df):\n",
    "# #     return(df['MME'].values.dot(df['PAY_DAY_SUPPLY_CNT']e.values))\n",
    "\n",
    "# features = pd.DataFrame()\n",
    "# for ID in idtestlist:\n",
    "#     tmp = grouped.get_group(ID)\n",
    "#     output = pd.DataFrame(tmp.groupby(by='gpi_drug_class_description')['rx_cost'].agg(np.nansum)).T\n",
    "# #     output = output.iloc[0:1,:]\n",
    "#     output.index = [ID]\n",
    "#     # features = pd.concat([output, features], axis=1, sort=False)\n",
    "#     features = features.append(output, sort=False)\n",
    "\n",
    "# features = features.fillna(0)\n",
    "\n",
    "# pca = PCA(n_components = 10) \n",
    "# X10D = pca.fit_transform(features)\n",
    "# print(pca.explained_variance_ratio_)\n",
    "# sum(pca.explained_variance_ratio_)\n",
    "\n",
    "# features_matthew_generic = pd.DataFrame(X10D, index=features.index.values)\n",
    "# features_matthew_generic.columns = ['generic_pc{}'.format(x) for x in features_matthew_generic.columns]\n",
    "# features_matthew_generic.head()\n",
    "\n",
    "# # features_matthew_generic.to_csv('features_all_generic.csv')"
   ]
  },
  {
   "cell_type": "markdown",
   "metadata": {},
   "source": [
    "## pc_diagnosis"
   ]
  },
  {
   "cell_type": "code",
   "execution_count": 60,
   "metadata": {},
   "outputs": [
    {
     "data": {
      "text/html": [
       "<div>\n",
       "<style scoped>\n",
       "    .dataframe tbody tr th:only-of-type {\n",
       "        vertical-align: middle;\n",
       "    }\n",
       "\n",
       "    .dataframe tbody tr th {\n",
       "        vertical-align: top;\n",
       "    }\n",
       "\n",
       "    .dataframe thead th {\n",
       "        text-align: right;\n",
       "    }\n",
       "</style>\n",
       "<table border=\"1\" class=\"dataframe\">\n",
       "  <thead>\n",
       "    <tr style=\"text-align: right;\">\n",
       "      <th></th>\n",
       "      <th>PC 1</th>\n",
       "      <th>PC 2</th>\n",
       "      <th>PC 3</th>\n",
       "      <th>PC 4</th>\n",
       "      <th>PC 5</th>\n",
       "      <th>PC 6</th>\n",
       "      <th>PC 7</th>\n",
       "      <th>PC 8</th>\n",
       "      <th>PC 9</th>\n",
       "      <th>PC 10</th>\n",
       "    </tr>\n",
       "    <tr>\n",
       "      <th>id</th>\n",
       "      <th></th>\n",
       "      <th></th>\n",
       "      <th></th>\n",
       "      <th></th>\n",
       "      <th></th>\n",
       "      <th></th>\n",
       "      <th></th>\n",
       "      <th></th>\n",
       "      <th></th>\n",
       "      <th></th>\n",
       "    </tr>\n",
       "  </thead>\n",
       "  <tbody>\n",
       "    <tr>\n",
       "      <th>ID10010854159</th>\n",
       "      <td>0.008840</td>\n",
       "      <td>0.006021</td>\n",
       "      <td>0.001393</td>\n",
       "      <td>0.003137</td>\n",
       "      <td>-0.000543</td>\n",
       "      <td>-0.000012</td>\n",
       "      <td>-0.002715</td>\n",
       "      <td>0.000189</td>\n",
       "      <td>-0.002999</td>\n",
       "      <td>0.000369</td>\n",
       "    </tr>\n",
       "    <tr>\n",
       "      <th>ID10013863216</th>\n",
       "      <td>0.004783</td>\n",
       "      <td>-0.004110</td>\n",
       "      <td>0.009211</td>\n",
       "      <td>0.006220</td>\n",
       "      <td>-0.000302</td>\n",
       "      <td>-0.001218</td>\n",
       "      <td>-0.004039</td>\n",
       "      <td>0.003508</td>\n",
       "      <td>-0.007012</td>\n",
       "      <td>0.007118</td>\n",
       "    </tr>\n",
       "    <tr>\n",
       "      <th>ID10024447278</th>\n",
       "      <td>0.007123</td>\n",
       "      <td>0.018349</td>\n",
       "      <td>-0.002873</td>\n",
       "      <td>0.001940</td>\n",
       "      <td>-0.000999</td>\n",
       "      <td>0.001292</td>\n",
       "      <td>0.000691</td>\n",
       "      <td>-0.000391</td>\n",
       "      <td>-0.000094</td>\n",
       "      <td>-0.002040</td>\n",
       "    </tr>\n",
       "    <tr>\n",
       "      <th>ID1002482139</th>\n",
       "      <td>-0.003584</td>\n",
       "      <td>-0.004210</td>\n",
       "      <td>0.000235</td>\n",
       "      <td>-0.003246</td>\n",
       "      <td>-0.001197</td>\n",
       "      <td>0.002330</td>\n",
       "      <td>0.000364</td>\n",
       "      <td>-0.001483</td>\n",
       "      <td>0.000771</td>\n",
       "      <td>-0.001723</td>\n",
       "    </tr>\n",
       "    <tr>\n",
       "      <th>ID1003386406</th>\n",
       "      <td>0.001259</td>\n",
       "      <td>-0.000543</td>\n",
       "      <td>-0.000644</td>\n",
       "      <td>-0.003560</td>\n",
       "      <td>-0.000509</td>\n",
       "      <td>-0.003400</td>\n",
       "      <td>-0.002201</td>\n",
       "      <td>-0.008570</td>\n",
       "      <td>0.005852</td>\n",
       "      <td>0.004095</td>\n",
       "    </tr>\n",
       "  </tbody>\n",
       "</table>\n",
       "</div>"
      ],
      "text/plain": [
       "                   PC 1      PC 2      PC 3      PC 4      PC 5      PC 6      PC 7      PC 8      PC 9     PC 10\n",
       "id                                                                                                               \n",
       "ID10010854159  0.008840  0.006021  0.001393  0.003137 -0.000543 -0.000012 -0.002715  0.000189 -0.002999  0.000369\n",
       "ID10013863216  0.004783 -0.004110  0.009211  0.006220 -0.000302 -0.001218 -0.004039  0.003508 -0.007012  0.007118\n",
       "ID10024447278  0.007123  0.018349 -0.002873  0.001940 -0.000999  0.001292  0.000691 -0.000391 -0.000094 -0.002040\n",
       "ID1002482139  -0.003584 -0.004210  0.000235 -0.003246 -0.001197  0.002330  0.000364 -0.001483  0.000771 -0.001723\n",
       "ID1003386406   0.001259 -0.000543 -0.000644 -0.003560 -0.000509 -0.003400 -0.002201 -0.008570  0.005852  0.004095"
      ]
     },
     "execution_count": 60,
     "metadata": {},
     "output_type": "execute_result"
    }
   ],
   "source": [
    "pc_diagnosis = pd.read_csv('pc_diagnosis.csv')\n",
    "pc_diagnosis = pc_diagnosis.set_index('id')\n",
    "pc_diagnosis.head()"
   ]
  },
  {
   "cell_type": "markdown",
   "metadata": {},
   "source": [
    "9 ppl have no diagnosis data"
   ]
  },
  {
   "cell_type": "code",
   "execution_count": 61,
   "metadata": {},
   "outputs": [
    {
     "data": {
      "text/plain": [
       "(13991, 10)"
      ]
     },
     "execution_count": 61,
     "metadata": {},
     "output_type": "execute_result"
    }
   ],
   "source": [
    "pc_diagnosis.shape"
   ]
  },
  {
   "cell_type": "markdown",
   "metadata": {},
   "source": [
    "## jake_features"
   ]
  },
  {
   "cell_type": "code",
   "execution_count": 328,
   "metadata": {
    "collapsed": true
   },
   "outputs": [
    {
     "data": {
      "text/html": [
       "<div>\n",
       "<style scoped>\n",
       "    .dataframe tbody tr th:only-of-type {\n",
       "        vertical-align: middle;\n",
       "    }\n",
       "\n",
       "    .dataframe tbody tr th {\n",
       "        vertical-align: top;\n",
       "    }\n",
       "\n",
       "    .dataframe thead th {\n",
       "        text-align: right;\n",
       "    }\n",
       "</style>\n",
       "<table border=\"1\" class=\"dataframe\">\n",
       "  <thead>\n",
       "    <tr style=\"text-align: right;\">\n",
       "      <th></th>\n",
       "      <th>LIS LETTERS</th>\n",
       "      <th>COB DISCREPANCY</th>\n",
       "      <th>max_diagnoses_at once</th>\n",
       "      <th>num_drugs_10_denied</th>\n",
       "      <th>num_drugs_denied</th>\n",
       "      <th>new_provider_count</th>\n",
       "      <th>charge_amount</th>\n",
       "      <th>net_paid_amount</th>\n",
       "      <th>member_responsible_amount</th>\n",
       "    </tr>\n",
       "    <tr>\n",
       "      <th>id</th>\n",
       "      <th></th>\n",
       "      <th></th>\n",
       "      <th></th>\n",
       "      <th></th>\n",
       "      <th></th>\n",
       "      <th></th>\n",
       "      <th></th>\n",
       "      <th></th>\n",
       "      <th></th>\n",
       "    </tr>\n",
       "  </thead>\n",
       "  <tbody>\n",
       "    <tr>\n",
       "      <th>ID10010854159</th>\n",
       "      <td>0.0</td>\n",
       "      <td>0.0</td>\n",
       "      <td>0.0</td>\n",
       "      <td>0.0</td>\n",
       "      <td>0.0</td>\n",
       "      <td>8.0</td>\n",
       "      <td>2314.00</td>\n",
       "      <td>619.08</td>\n",
       "      <td>250.0</td>\n",
       "    </tr>\n",
       "    <tr>\n",
       "      <th>ID10013863216</th>\n",
       "      <td>0.0</td>\n",
       "      <td>0.0</td>\n",
       "      <td>0.0</td>\n",
       "      <td>0.0</td>\n",
       "      <td>0.0</td>\n",
       "      <td>6.0</td>\n",
       "      <td>12337.42</td>\n",
       "      <td>1396.98</td>\n",
       "      <td>275.0</td>\n",
       "    </tr>\n",
       "    <tr>\n",
       "      <th>ID10024447278</th>\n",
       "      <td>0.0</td>\n",
       "      <td>0.0</td>\n",
       "      <td>0.0</td>\n",
       "      <td>0.0</td>\n",
       "      <td>0.0</td>\n",
       "      <td>6.0</td>\n",
       "      <td>0.00</td>\n",
       "      <td>0.00</td>\n",
       "      <td>0.0</td>\n",
       "    </tr>\n",
       "    <tr>\n",
       "      <th>ID1002482139</th>\n",
       "      <td>0.0</td>\n",
       "      <td>0.0</td>\n",
       "      <td>2.0</td>\n",
       "      <td>0.0</td>\n",
       "      <td>0.0</td>\n",
       "      <td>20.0</td>\n",
       "      <td>50042.33</td>\n",
       "      <td>13697.74</td>\n",
       "      <td>1776.0</td>\n",
       "    </tr>\n",
       "    <tr>\n",
       "      <th>ID1003386406</th>\n",
       "      <td>0.0</td>\n",
       "      <td>0.0</td>\n",
       "      <td>0.0</td>\n",
       "      <td>0.0</td>\n",
       "      <td>0.0</td>\n",
       "      <td>12.0</td>\n",
       "      <td>0.00</td>\n",
       "      <td>0.00</td>\n",
       "      <td>0.0</td>\n",
       "    </tr>\n",
       "  </tbody>\n",
       "</table>\n",
       "</div>"
      ],
      "text/plain": [
       "               LIS LETTERS  COB DISCREPANCY  max_diagnoses_at once  num_drugs_10_denied  num_drugs_denied  new_provider_count  charge_amount  net_paid_amount  member_responsible_amount\n",
       "id                                                                                                                                                                                      \n",
       "ID10010854159          0.0              0.0                    0.0                  0.0               0.0                 8.0        2314.00           619.08                      250.0\n",
       "ID10013863216          0.0              0.0                    0.0                  0.0               0.0                 6.0       12337.42          1396.98                      275.0\n",
       "ID10024447278          0.0              0.0                    0.0                  0.0               0.0                 6.0           0.00             0.00                        0.0\n",
       "ID1002482139           0.0              0.0                    2.0                  0.0               0.0                20.0       50042.33         13697.74                     1776.0\n",
       "ID1003386406           0.0              0.0                    0.0                  0.0               0.0                12.0           0.00             0.00                        0.0"
      ]
     },
     "execution_count": 328,
     "metadata": {},
     "output_type": "execute_result"
    }
   ],
   "source": [
    "# jake_features = pd.read_csv('jake_features.csv')\n",
    "# jake_features = jake_features.set_index('id')\n",
    "# jake_features.head()\n",
    "\n",
    "# # scaler = MinMaxScaler()\n",
    "# # scaler.fit(jake_features)\n",
    "# # jake_features_scale = scaler.transform(jake_features)\n",
    "# # jake_features_scale = pd.DataFrame(jake_features_scale, index=jake_features.index.values, columns=jake_features.columns)\n",
    "\n",
    "# # pca_jake = PCA(n_components = 4) \n",
    "# # X10D_jake = pca_jake.fit_transform(jake_features_scale)\n",
    "# # print(pca_jake.explained_variance_ratio_) \n",
    "\n",
    "# # print(sum(pca_jake.explained_variance_ratio_))\n",
    "\n",
    "# # jake_features = pd.DataFrame(X10D_jake, index=jake_features.index.values)\n",
    "# # jake_features.columns = ['Jake_ '+ str(x) for x in jake_features.columns]\n",
    "# jake_features = jake_features[['LIS LETTERS', 'COB DISCREPANCY']]\n",
    "# jake_features.head()"
   ]
  },
  {
   "cell_type": "markdown",
   "metadata": {},
   "source": [
    "## Response variables"
   ]
  },
  {
   "cell_type": "code",
   "execution_count": 62,
   "metadata": {},
   "outputs": [
    {
     "data": {
      "text/html": [
       "<div>\n",
       "<style scoped>\n",
       "    .dataframe tbody tr th:only-of-type {\n",
       "        vertical-align: middle;\n",
       "    }\n",
       "\n",
       "    .dataframe tbody tr th {\n",
       "        vertical-align: top;\n",
       "    }\n",
       "\n",
       "    .dataframe thead th {\n",
       "        text-align: right;\n",
       "    }\n",
       "</style>\n",
       "<table border=\"1\" class=\"dataframe\">\n",
       "  <thead>\n",
       "    <tr style=\"text-align: right;\">\n",
       "      <th></th>\n",
       "      <th>naive</th>\n",
       "      <th>LTOT_v2</th>\n",
       "    </tr>\n",
       "    <tr>\n",
       "      <th>id</th>\n",
       "      <th></th>\n",
       "      <th></th>\n",
       "    </tr>\n",
       "  </thead>\n",
       "  <tbody>\n",
       "    <tr>\n",
       "      <th>ID10010854159</th>\n",
       "      <td>[0, 706]</td>\n",
       "      <td>False</td>\n",
       "    </tr>\n",
       "    <tr>\n",
       "      <th>ID10013863216</th>\n",
       "      <td>[0]</td>\n",
       "      <td>True</td>\n",
       "    </tr>\n",
       "    <tr>\n",
       "      <th>ID10024447278</th>\n",
       "      <td>[0]</td>\n",
       "      <td>True</td>\n",
       "    </tr>\n",
       "    <tr>\n",
       "      <th>ID1002482139</th>\n",
       "      <td>[0]</td>\n",
       "      <td>True</td>\n",
       "    </tr>\n",
       "    <tr>\n",
       "      <th>ID1003386406</th>\n",
       "      <td>[0]</td>\n",
       "      <td>False</td>\n",
       "    </tr>\n",
       "  </tbody>\n",
       "</table>\n",
       "</div>"
      ],
      "text/plain": [
       "                  naive LTOT_v2\n",
       "id                             \n",
       "ID10010854159  [0, 706]   False\n",
       "ID10013863216       [0]    True\n",
       "ID10024447278       [0]    True\n",
       "ID1002482139        [0]    True\n",
       "ID1003386406        [0]   False"
      ]
     },
     "execution_count": 62,
     "metadata": {},
     "output_type": "execute_result"
    }
   ],
   "source": [
    "response_variable = pd.read_csv('response_variable_v2.csv')\n",
    "response_variable = response_variable.dropna()\n",
    "response_variable = response_variable.set_index('id')\n",
    "response_variable.head()"
   ]
  },
  {
   "cell_type": "markdown",
   "metadata": {},
   "source": [
    "52 ppl have no PAY_SUPPLY_CNT data on days >= 0"
   ]
  },
  {
   "cell_type": "code",
   "execution_count": 63,
   "metadata": {},
   "outputs": [
    {
     "data": {
      "text/plain": [
       "(13948, 2)"
      ]
     },
     "execution_count": 63,
     "metadata": {},
     "output_type": "execute_result"
    }
   ],
   "source": [
    "response_variable.shape"
   ]
  },
  {
   "cell_type": "markdown",
   "metadata": {},
   "source": [
    "## Merge all features and response variables"
   ]
  },
  {
   "cell_type": "code",
   "execution_count": 680,
   "metadata": {},
   "outputs": [
    {
     "data": {
      "text/html": [
       "<div>\n",
       "<style scoped>\n",
       "    .dataframe tbody tr th:only-of-type {\n",
       "        vertical-align: middle;\n",
       "    }\n",
       "\n",
       "    .dataframe tbody tr th {\n",
       "        vertical-align: top;\n",
       "    }\n",
       "\n",
       "    .dataframe thead th {\n",
       "        text-align: right;\n",
       "    }\n",
       "</style>\n",
       "<table border=\"1\" class=\"dataframe\">\n",
       "  <thead>\n",
       "    <tr style=\"text-align: right;\">\n",
       "      <th></th>\n",
       "      <th>LTOT_v2</th>\n",
       "      <th>MME_on_day0</th>\n",
       "      <th>SUPPLY_CNT_on_day0</th>\n",
       "      <th>PAYABLE_QTY_on_day0</th>\n",
       "      <th>max_MME_prior</th>\n",
       "      <th>avg_MME_prior</th>\n",
       "      <th>total_SUPPLY_CNT_prior</th>\n",
       "      <th>total_PAYABLE_QTY_prior</th>\n",
       "      <th>opioid_cost_on_day_0</th>\n",
       "      <th>opioid_net_payment_on_day_0</th>\n",
       "      <th>...</th>\n",
       "      <th>generic_pc0</th>\n",
       "      <th>generic_pc1</th>\n",
       "      <th>generic_pc2</th>\n",
       "      <th>generic_pc3</th>\n",
       "      <th>generic_pc4</th>\n",
       "      <th>generic_pc5</th>\n",
       "      <th>generic_pc6</th>\n",
       "      <th>generic_pc7</th>\n",
       "      <th>generic_pc8</th>\n",
       "      <th>generic_pc9</th>\n",
       "    </tr>\n",
       "  </thead>\n",
       "  <tbody>\n",
       "    <tr>\n",
       "      <th>ID10010854159</th>\n",
       "      <td>False</td>\n",
       "      <td>15.0</td>\n",
       "      <td>5.0</td>\n",
       "      <td>15.0</td>\n",
       "      <td>0.0</td>\n",
       "      <td>0.000000</td>\n",
       "      <td>0.0</td>\n",
       "      <td>0.0</td>\n",
       "      <td>1.83</td>\n",
       "      <td>1.38</td>\n",
       "      <td>...</td>\n",
       "      <td>-5.971793</td>\n",
       "      <td>-1.614144</td>\n",
       "      <td>-2.656025</td>\n",
       "      <td>-1.964524</td>\n",
       "      <td>-0.980524</td>\n",
       "      <td>-0.237624</td>\n",
       "      <td>-0.197639</td>\n",
       "      <td>-1.948245</td>\n",
       "      <td>-0.518682</td>\n",
       "      <td>-0.377151</td>\n",
       "    </tr>\n",
       "    <tr>\n",
       "      <th>ID10013863216</th>\n",
       "      <td>True</td>\n",
       "      <td>10.0</td>\n",
       "      <td>90.0</td>\n",
       "      <td>180.0</td>\n",
       "      <td>0.0</td>\n",
       "      <td>0.000000</td>\n",
       "      <td>0.0</td>\n",
       "      <td>0.0</td>\n",
       "      <td>11.05</td>\n",
       "      <td>0.00</td>\n",
       "      <td>...</td>\n",
       "      <td>78.735906</td>\n",
       "      <td>1.069676</td>\n",
       "      <td>1.642393</td>\n",
       "      <td>1.167419</td>\n",
       "      <td>0.471243</td>\n",
       "      <td>0.144658</td>\n",
       "      <td>0.077287</td>\n",
       "      <td>1.054565</td>\n",
       "      <td>0.264220</td>\n",
       "      <td>0.201637</td>\n",
       "    </tr>\n",
       "    <tr>\n",
       "      <th>ID10024447278</th>\n",
       "      <td>True</td>\n",
       "      <td>50.0</td>\n",
       "      <td>3.0</td>\n",
       "      <td>20.0</td>\n",
       "      <td>22.5</td>\n",
       "      <td>20.000000</td>\n",
       "      <td>15.0</td>\n",
       "      <td>40.0</td>\n",
       "      <td>5.00</td>\n",
       "      <td>2.99</td>\n",
       "      <td>...</td>\n",
       "      <td>-11.004414</td>\n",
       "      <td>-1.851362</td>\n",
       "      <td>-3.089010</td>\n",
       "      <td>-2.442020</td>\n",
       "      <td>-1.466898</td>\n",
       "      <td>-0.723459</td>\n",
       "      <td>-1.952817</td>\n",
       "      <td>0.203388</td>\n",
       "      <td>-0.421223</td>\n",
       "      <td>-0.344804</td>\n",
       "    </tr>\n",
       "    <tr>\n",
       "      <th>ID1002482139</th>\n",
       "      <td>True</td>\n",
       "      <td>60.0</td>\n",
       "      <td>30.0</td>\n",
       "      <td>120.0</td>\n",
       "      <td>90.0</td>\n",
       "      <td>37.254464</td>\n",
       "      <td>789.0</td>\n",
       "      <td>2895.0</td>\n",
       "      <td>23.72</td>\n",
       "      <td>22.52</td>\n",
       "      <td>...</td>\n",
       "      <td>-11.091818</td>\n",
       "      <td>-1.960224</td>\n",
       "      <td>-3.295098</td>\n",
       "      <td>-2.648637</td>\n",
       "      <td>-1.491112</td>\n",
       "      <td>-0.421549</td>\n",
       "      <td>-0.412403</td>\n",
       "      <td>-3.473674</td>\n",
       "      <td>-2.260382</td>\n",
       "      <td>29.148094</td>\n",
       "    </tr>\n",
       "    <tr>\n",
       "      <th>ID1003386406</th>\n",
       "      <td>False</td>\n",
       "      <td>20.0</td>\n",
       "      <td>15.0</td>\n",
       "      <td>60.0</td>\n",
       "      <td>50.0</td>\n",
       "      <td>50.000000</td>\n",
       "      <td>3.0</td>\n",
       "      <td>20.0</td>\n",
       "      <td>7.60</td>\n",
       "      <td>7.60</td>\n",
       "      <td>...</td>\n",
       "      <td>3.993819</td>\n",
       "      <td>-1.298400</td>\n",
       "      <td>-2.150329</td>\n",
       "      <td>-1.596060</td>\n",
       "      <td>-0.809728</td>\n",
       "      <td>-0.192650</td>\n",
       "      <td>-0.165295</td>\n",
       "      <td>-1.594973</td>\n",
       "      <td>-0.426576</td>\n",
       "      <td>-0.309059</td>\n",
       "    </tr>\n",
       "  </tbody>\n",
       "</table>\n",
       "<p>5 rows × 46 columns</p>\n",
       "</div>"
      ],
      "text/plain": [
       "              LTOT_v2  MME_on_day0  SUPPLY_CNT_on_day0  PAYABLE_QTY_on_day0  max_MME_prior  avg_MME_prior  total_SUPPLY_CNT_prior  total_PAYABLE_QTY_prior  opioid_cost_on_day_0  opioid_net_payment_on_day_0  ...  generic_pc0  generic_pc1  generic_pc2  generic_pc3  generic_pc4  generic_pc5  generic_pc6  generic_pc7  generic_pc8  generic_pc9\n",
       "ID10010854159   False         15.0                 5.0                 15.0            0.0       0.000000                     0.0                      0.0                  1.83                         1.38  ...    -5.971793    -1.614144    -2.656025    -1.964524    -0.980524    -0.237624    -0.197639    -1.948245    -0.518682    -0.377151\n",
       "ID10013863216    True         10.0                90.0                180.0            0.0       0.000000                     0.0                      0.0                 11.05                         0.00  ...    78.735906     1.069676     1.642393     1.167419     0.471243     0.144658     0.077287     1.054565     0.264220     0.201637\n",
       "ID10024447278    True         50.0                 3.0                 20.0           22.5      20.000000                    15.0                     40.0                  5.00                         2.99  ...   -11.004414    -1.851362    -3.089010    -2.442020    -1.466898    -0.723459    -1.952817     0.203388    -0.421223    -0.344804\n",
       "ID1002482139     True         60.0                30.0                120.0           90.0      37.254464                   789.0                   2895.0                 23.72                        22.52  ...   -11.091818    -1.960224    -3.295098    -2.648637    -1.491112    -0.421549    -0.412403    -3.473674    -2.260382    29.148094\n",
       "ID1003386406    False         20.0                15.0                 60.0           50.0      50.000000                     3.0                     20.0                  7.60                         7.60  ...     3.993819    -1.298400    -2.150329    -1.596060    -0.809728    -0.192650    -0.165295    -1.594973    -0.426576    -0.309059\n",
       "\n",
       "[5 rows x 46 columns]"
      ]
     },
     "execution_count": 680,
     "metadata": {},
     "output_type": "execute_result"
    }
   ],
   "source": [
    "df2 = pd.concat([response_variable[['LTOT_v2']], features_matthew_v2, pc_diagnosis, features_matthew_generic], \n",
    "                axis=1, join='inner')\n",
    "\n",
    "df2.head()"
   ]
  },
  {
   "cell_type": "code",
   "execution_count": 681,
   "metadata": {},
   "outputs": [
    {
     "data": {
      "text/plain": [
       "LTOT_v2                              0\n",
       "MME_on_day0                          0\n",
       "SUPPLY_CNT_on_day0                   0\n",
       "PAYABLE_QTY_on_day0                  0\n",
       "max_MME_prior                        0\n",
       "avg_MME_prior                        0\n",
       "total_SUPPLY_CNT_prior               0\n",
       "total_PAYABLE_QTY_prior              0\n",
       "opioid_cost_on_day_0                 0\n",
       "opioid_net_payment_on_day_0          0\n",
       "supply_times                         0\n",
       "total_costs_on_day_0                 0\n",
       "total_net_payment_on_day_0           0\n",
       "net_payment_portion_on_day_0         0\n",
       "opioid_cost_portion_on_day_0         0\n",
       "MME_times_SUPPLY_day_0               0\n",
       "total_cost_divide_SUPPLY_day_0       0\n",
       "total_net_payment_divide_on_day_0    0\n",
       "np_portion_divide_SUPPLY_day_0       0\n",
       "oc_portion_divide_SUPPLY_day_0       0\n",
       "max_MME_prior_divide_SUPPLY_day_0    0\n",
       "avg_MME_prior_divide_SUPPLY_day_0    0\n",
       "tsc_prior_divide_SUPPLY_day_0        0\n",
       "tpa_prior_divide_SUPPLY_day_0        0\n",
       "oc_day_0_divide_SUPPLY_day_0         0\n",
       "np_day_0_divide_SUPPLY_day_0         0\n",
       "PC 1                                 0\n",
       "PC 2                                 0\n",
       "PC 3                                 0\n",
       "PC 4                                 0\n",
       "PC 5                                 0\n",
       "PC 6                                 0\n",
       "PC 7                                 0\n",
       "PC 8                                 0\n",
       "PC 9                                 0\n",
       "PC 10                                0\n",
       "generic_pc0                          0\n",
       "generic_pc1                          0\n",
       "generic_pc2                          0\n",
       "generic_pc3                          0\n",
       "generic_pc4                          0\n",
       "generic_pc5                          0\n",
       "generic_pc6                          0\n",
       "generic_pc7                          0\n",
       "generic_pc8                          0\n",
       "generic_pc9                          0\n",
       "dtype: int64"
      ]
     },
     "execution_count": 681,
     "metadata": {},
     "output_type": "execute_result"
    }
   ],
   "source": [
    "df2.isnull().apply(sum)"
   ]
  },
  {
   "cell_type": "code",
   "execution_count": 682,
   "metadata": {},
   "outputs": [],
   "source": [
    "# # Used to check missing value\n",
    "# df2[df2['total_SUPPLY_CNT_prior'].isnull()]\n",
    "\n",
    "# mask = (true_opioid['id'] == 'ID14009496762') & (true_opioid['Days']<=0)\n",
    "# true_opioid[mask]"
   ]
  },
  {
   "cell_type": "code",
   "execution_count": 683,
   "metadata": {},
   "outputs": [
    {
     "data": {
      "text/plain": [
       "(13924, 46)"
      ]
     },
     "execution_count": 683,
     "metadata": {},
     "output_type": "execute_result"
    }
   ],
   "source": [
    "df2.shape"
   ]
  },
  {
   "cell_type": "code",
   "execution_count": 684,
   "metadata": {},
   "outputs": [
    {
     "data": {
      "text/plain": [
       "0.505530020109164"
      ]
     },
     "execution_count": 684,
     "metadata": {},
     "output_type": "execute_result"
    }
   ],
   "source": [
    "# Base line\n",
    "df2['LTOT_v2'].value_counts()[False]/sum(df2['LTOT_v2'].value_counts())"
   ]
  },
  {
   "cell_type": "code",
   "execution_count": 685,
   "metadata": {},
   "outputs": [],
   "source": [
    "X = df2.iloc[:,1:]\n",
    "y = df2.iloc[:,0].map(lambda x: 1 if x == True else 0 )\n",
    "X_train, X_test, y_train, y_test = train_test_split(X, y, test_size=0.33, random_state=33)"
   ]
  },
  {
   "cell_type": "markdown",
   "metadata": {},
   "source": [
    "## Issue to be discussed: 16 ppl in holdout data has no supply_day values"
   ]
  },
  {
   "cell_type": "code",
   "execution_count": 686,
   "metadata": {},
   "outputs": [],
   "source": [
    "# df_hould_out = pd.read_csv('C:/Users/spong/Desktop/Humana/HMAHCC_HOLDOUT.csv')\n",
    "# opioid_hold_out = df_hould_out[df_hould_out['PAY_DAY_SUPPLY_CNT'].notnull()]\n",
    "# len(opioid_hold_out['ID'].drop_duplicates())"
   ]
  },
  {
   "cell_type": "markdown",
   "metadata": {},
   "source": [
    "## Models"
   ]
  },
  {
   "cell_type": "markdown",
   "metadata": {},
   "source": [
    "### Logistics"
   ]
  },
  {
   "cell_type": "code",
   "execution_count": 687,
   "metadata": {},
   "outputs": [
    {
     "name": "stderr",
     "output_type": "stream",
     "text": [
      "C:\\Users\\spong\\Anaconda3\\envs\\test\\lib\\site-packages\\sklearn\\linear_model\\logistic.py:432: FutureWarning: Default solver will be changed to 'lbfgs' in 0.22. Specify a solver to silence this warning.\n",
      "  FutureWarning)\n",
      "C:\\Users\\spong\\Anaconda3\\envs\\test\\lib\\site-packages\\sklearn\\linear_model\\logistic.py:432: FutureWarning: Default solver will be changed to 'lbfgs' in 0.22. Specify a solver to silence this warning.\n",
      "  FutureWarning)\n",
      "C:\\Users\\spong\\Anaconda3\\envs\\test\\lib\\site-packages\\sklearn\\linear_model\\logistic.py:432: FutureWarning: Default solver will be changed to 'lbfgs' in 0.22. Specify a solver to silence this warning.\n",
      "  FutureWarning)\n"
     ]
    },
    {
     "name": "stdout",
     "output_type": "stream",
     "text": [
      "train roc_auc:  0.8602015976368177\n"
     ]
    },
    {
     "name": "stderr",
     "output_type": "stream",
     "text": [
      "C:\\Users\\spong\\Anaconda3\\envs\\test\\lib\\site-packages\\sklearn\\linear_model\\logistic.py:432: FutureWarning: Default solver will be changed to 'lbfgs' in 0.22. Specify a solver to silence this warning.\n",
      "  FutureWarning)\n"
     ]
    },
    {
     "name": "stdout",
     "output_type": "stream",
     "text": [
      "test roc_auc:  0.8746848335898619\n",
      "Wall time: 2.98 s\n"
     ]
    }
   ],
   "source": [
    "%%time\n",
    "\n",
    "logit_model = LogisticRegression()\n",
    "\n",
    "cv_results = cross_validate(logit_model, X_train, y_train, cv=3,\n",
    "                            scoring= 'roc_auc',\n",
    "                            return_train_score=True)\n",
    "\n",
    "print('train roc_auc: ', np.mean(cv_results['test_score']))\n",
    "\n",
    "logit_model.fit(X_train, y_train)\n",
    "prediction_on_X_test = logit_model.predict_proba(X_test)\n",
    "print('test roc_auc: ', roc_auc_score(y_test, prediction_on_X_test[:,1]))"
   ]
  },
  {
   "cell_type": "markdown",
   "metadata": {},
   "source": [
    "### RF tuned on max_depth"
   ]
  },
  {
   "cell_type": "code",
   "execution_count": 688,
   "metadata": {},
   "outputs": [],
   "source": [
    "### don't run! It takes an hour\n",
    "\n",
    "# %%time\n",
    "# parameters = {'max_depth': list(range(5, 20 ,1)),\n",
    "#              'n_estimators': [100, 300, 500],\n",
    "#              'n_jobs': [3],\n",
    "#              'min_samples_leaf': [1,3,5], #default 1\n",
    "#              'max_features': ['auto', 0.5]}\n",
    "# rf = RandomForestClassifier()\n",
    "# rf_grid = GridSearchCV(rf, parameters, scoring='roc_auc', cv=2)\n",
    "# rf_grid.fit(X_train, y_train)\n",
    "\n",
    "# rf_grid.best_params_"
   ]
  },
  {
   "cell_type": "code",
   "execution_count": 689,
   "metadata": {},
   "outputs": [
    {
     "name": "stdout",
     "output_type": "stream",
     "text": [
      "train roc_auc:  0.8790390404304065\n",
      "test roc_auc:  0.8979088182936339\n",
      "Wall time: 33.9 s\n"
     ]
    }
   ],
   "source": [
    "%%time\n",
    "rf_model = RandomForestClassifier(n_estimators=300, \n",
    "                                  max_depth=10,\n",
    "                                  max_features = 0.5,\n",
    "                                  min_samples_leaf = 5,\n",
    "                                  random_state=100)\n",
    "\n",
    "cv_results = cross_validate(rf_model, X_train, y_train, cv=2,\n",
    "                            scoring= 'roc_auc',\n",
    "                            return_train_score=True,\n",
    "                            return_estimator =True)\n",
    "\n",
    "print('train roc_auc: ', np.mean(cv_results['test_score']))\n",
    "\n",
    "rf_model.fit(X_train, y_train)\n",
    "prediction_on_X_test = rf_model.predict_proba(X_test)\n",
    "print('test roc_auc: ', roc_auc_score(y_test, prediction_on_X_test[:,1]))"
   ]
  },
  {
   "cell_type": "code",
   "execution_count": 690,
   "metadata": {},
   "outputs": [],
   "source": [
    "# parameters we can use to tune RF\n",
    "# parameters = {'n_estimators':list(range(100,2100,100)),\n",
    "#               'max_depth': [10, 20, 30, 40, 50, 60, 70, 80, 90, 100, None],\n",
    "#               'min_samples_split': [2, 5, 10],\n",
    "#               'min_samples_leaf': [1, 2, 4],\n",
    "#               'max_features': ['auto', 'sqrt']}"
   ]
  },
  {
   "cell_type": "markdown",
   "metadata": {},
   "source": [
    "#### RF features importance"
   ]
  },
  {
   "cell_type": "code",
   "execution_count": 691,
   "metadata": {
    "scrolled": false
   },
   "outputs": [
    {
     "name": "stdout",
     "output_type": "stream",
     "text": [
      "Features sorted by their score for estimator 0:\n",
      "===================================\n",
      "                                   importance\n",
      "SUPPLY_CNT_on_day0                   0.246982\n",
      "oc_portion_divide_SUPPLY_day_0       0.115450\n",
      "total_SUPPLY_CNT_prior               0.061124\n",
      "generic_pc9                          0.052239\n",
      "total_PAYABLE_QTY_prior              0.044810\n",
      "PC 5                                 0.038277\n",
      "PC 6                                 0.031625\n",
      "MME_times_SUPPLY_day_0               0.030737\n",
      "opioid_cost_on_day_0                 0.029714\n",
      "PC 10                                0.019908\n",
      "PC 4                                 0.018623\n",
      "PC 3                                 0.017360\n",
      "PC 9                                 0.015967\n",
      "oc_day_0_divide_SUPPLY_day_0         0.015414\n",
      "PC 8                                 0.015195\n",
      "PC 7                                 0.015151\n",
      "supply_times                         0.015086\n",
      "tsc_prior_divide_SUPPLY_day_0        0.015006\n",
      "PC 2                                 0.014811\n",
      "PC 1                                 0.014505\n",
      "PAYABLE_QTY_on_day0                  0.013079\n",
      "tpa_prior_divide_SUPPLY_day_0        0.011482\n",
      "MME_on_day0                          0.010422\n",
      "opioid_net_payment_on_day_0          0.009805\n",
      "total_cost_divide_SUPPLY_day_0       0.009649\n",
      "total_costs_on_day_0                 0.008853\n",
      "net_payment_portion_on_day_0         0.008213\n",
      "avg_MME_prior                        0.008185\n",
      "np_portion_divide_SUPPLY_day_0       0.007476\n",
      "avg_MME_prior_divide_SUPPLY_day_0    0.006944\n",
      "generic_pc0                          0.006912\n",
      "np_day_0_divide_SUPPLY_day_0         0.006093\n",
      "generic_pc1                          0.006039\n",
      "generic_pc8                          0.006012\n",
      "generic_pc2                          0.005677\n",
      "total_net_payment_on_day_0           0.005660\n",
      "max_MME_prior                        0.005266\n",
      "total_net_payment_divide_on_day_0    0.005128\n",
      "max_MME_prior_divide_SUPPLY_day_0    0.004842\n",
      "opioid_cost_portion_on_day_0         0.004725\n",
      "generic_pc7                          0.004587\n",
      "generic_pc3                          0.004489\n",
      "generic_pc5                          0.004308\n",
      "generic_pc6                          0.004109\n",
      "generic_pc4                          0.004063\n",
      "Features sorted by their score for estimator 1:\n",
      "===================================\n",
      "                                   importance\n",
      "SUPPLY_CNT_on_day0                   0.263649\n",
      "total_SUPPLY_CNT_prior               0.103259\n",
      "oc_portion_divide_SUPPLY_day_0       0.080837\n",
      "generic_pc9                          0.070685\n",
      "total_PAYABLE_QTY_prior              0.043425\n",
      "PC 5                                 0.038528\n",
      "PC 6                                 0.028435\n",
      "tsc_prior_divide_SUPPLY_day_0        0.021235\n",
      "PC 10                                0.018620\n",
      "PC 3                                 0.018315\n",
      "opioid_cost_on_day_0                 0.018143\n",
      "PC 4                                 0.017490\n",
      "PC 7                                 0.017059\n",
      "MME_times_SUPPLY_day_0               0.016228\n",
      "PC 1                                 0.015589\n",
      "PC 2                                 0.015425\n",
      "PC 9                                 0.015033\n",
      "PC 8                                 0.013879\n",
      "tpa_prior_divide_SUPPLY_day_0        0.012693\n",
      "oc_day_0_divide_SUPPLY_day_0         0.010995\n",
      "total_costs_on_day_0                 0.010854\n",
      "generic_pc8                          0.010853\n",
      "total_cost_divide_SUPPLY_day_0       0.010051\n",
      "supply_times                         0.009456\n",
      "np_portion_divide_SUPPLY_day_0       0.008824\n",
      "MME_on_day0                          0.008398\n",
      "net_payment_portion_on_day_0         0.008378\n",
      "PAYABLE_QTY_on_day0                  0.008346\n",
      "opioid_net_payment_on_day_0          0.007653\n",
      "generic_pc0                          0.007609\n",
      "generic_pc1                          0.007477\n",
      "generic_pc7                          0.005613\n",
      "np_day_0_divide_SUPPLY_day_0         0.005418\n",
      "generic_pc2                          0.004956\n",
      "max_MME_prior_divide_SUPPLY_day_0    0.004776\n",
      "avg_MME_prior                        0.004756\n",
      "total_net_payment_on_day_0           0.004738\n",
      "avg_MME_prior_divide_SUPPLY_day_0    0.004725\n",
      "total_net_payment_divide_on_day_0    0.004370\n",
      "generic_pc6                          0.004162\n",
      "generic_pc3                          0.004138\n",
      "opioid_cost_portion_on_day_0         0.003946\n",
      "generic_pc4                          0.003677\n",
      "max_MME_prior                        0.003670\n",
      "generic_pc5                          0.003634\n"
     ]
    }
   ],
   "source": [
    "for idx,estimator in enumerate(cv_results['estimator']):\n",
    "    print(\"Features sorted by their score for estimator {}:\".format(idx))\n",
    "    feature_importances = pd.DataFrame(estimator.feature_importances_,\n",
    "                                       index = X.columns,\n",
    "                                        columns=['importance']).sort_values('importance', ascending=False)\n",
    "    print('===================================')\n",
    "    print(feature_importances)"
   ]
  },
  {
   "cell_type": "markdown",
   "metadata": {},
   "source": [
    "#### Code to visualize the effect of different hyperparameters of RF"
   ]
  },
  {
   "cell_type": "code",
   "execution_count": 692,
   "metadata": {},
   "outputs": [],
   "source": [
    "# grid = list(range(1,31,1))\n",
    "# train_accuracy = list()\n",
    "# test_accuracy = list()\n",
    "# for i in grid:\n",
    "#     rf_model = RandomForestClassifier(n_estimators=100, max_depth=i,\n",
    "#                                       random_state=0)\n",
    "#     cv_results = cross_validate(rf_model, X_train, y_train, cv=3,\n",
    "#                             scoring= 'accuracy',\n",
    "#                             return_train_score=True)\n",
    "\n",
    "#     train_accuracy.append(np.mean(cv_results['train_score']))\n",
    "#     test_accuracy.append(np.mean(cv_results['test_score']))\n",
    "\n",
    "# test_res = pd.DataFrame([train_accuracy, test_accuracy], index = ['train_accuracy', 'test_accuracy']).T\n",
    "# test_res.set_index = grid\n",
    "# test_res.plot()\n",
    "# plt.ylabel('Accuracy')\n",
    "# plt.xlabel('max_depth')"
   ]
  },
  {
   "cell_type": "markdown",
   "metadata": {},
   "source": [
    "### Neural Network"
   ]
  },
  {
   "cell_type": "code",
   "execution_count": 693,
   "metadata": {},
   "outputs": [],
   "source": [
    "scaler = MinMaxScaler()\n",
    "scaler.fit(X)\n",
    "X_scale = scaler.transform(X)\n",
    "y_array = y.values\n",
    "X_train_s, X_test_s, y_train, y_test = train_test_split(X_scale, y_array, test_size=0.33, random_state=33)"
   ]
  },
  {
   "cell_type": "code",
   "execution_count": 694,
   "metadata": {
    "scrolled": true
   },
   "outputs": [
    {
     "name": "stdout",
     "output_type": "stream",
     "text": [
      "Wall time: 1min 37s\n"
     ]
    }
   ],
   "source": [
    "%%time\n",
    "from keras import optimizers\n",
    "\n",
    "model = Sequential()\n",
    "model.add(Dense(512, activation='relu', kernel_initializer='random_normal', input_dim=X_train.shape[1]))\n",
    "model.add(Dense(128, activation='relu', kernel_initializer='random_normal'))\n",
    "model.add(Dense(1, activation='sigmoid', kernel_initializer='random_normal'))\n",
    "\n",
    "adam = optimizers.Adam(learning_rate=0.001, beta_1=0.9, beta_2=0.999, amsgrad=False)\n",
    "\n",
    "model.compile(optimizer=adam,\n",
    "              loss='binary_crossentropy',\n",
    "              metrics=['accuracy'])\n",
    "\n",
    "# add early stop to prevent overfitting\n",
    "es = EarlyStopping(monitor='val_loss', mode='min', verbose=0, patience=30)\n",
    "mc = ModelCheckpoint('best_model2.h5', monitor='val_loss', mode='min', verbose=0, save_best_only=True)\n",
    "\n",
    "history = model.fit(X_train_s, y_train,\n",
    "                    validation_split = 0.15,\n",
    "                    epochs=1000, verbose=0, callbacks=[es, mc])\n",
    "\n",
    "saved_model = load_model('best_model2.h5')"
   ]
  },
  {
   "cell_type": "code",
   "execution_count": 695,
   "metadata": {},
   "outputs": [
    {
     "name": "stdout",
     "output_type": "stream",
     "text": [
      "roc_auc on train:  0.8944225195002492\n",
      "roc_auc on test:  0.8967949840133804\n"
     ]
    }
   ],
   "source": [
    "prediction_on_X_train = saved_model.predict_proba(X_train_s)\n",
    "prediction_on_X_train = [x[0] for x in prediction_on_X_train]\n",
    "print('roc_auc on train: ', roc_auc_score(y_train, prediction_on_X_train))\n",
    "\n",
    "prediction_on_X_test = saved_model.predict_proba(X_test_s)\n",
    "prediction_on_X_test = [x[0] for x in prediction_on_X_test]\n",
    "print('roc_auc on test: ', roc_auc_score(y_test, prediction_on_X_test))"
   ]
  },
  {
   "cell_type": "code",
   "execution_count": 696,
   "metadata": {},
   "outputs": [],
   "source": [
    "## Just for sanity check\n",
    "\n",
    "# prediction_on_X_test = saved_model.predict(X_test_s)\n",
    "# prediction_on_X_test = [x[0] for x in prediction_on_X_test]\n",
    "# def bina_trans(x):\n",
    "#     if x > 0.5:\n",
    "#         x = 1\n",
    "#     else:\n",
    "#         x = 0\n",
    "#     return(x)\n",
    "\n",
    "# prediction_on_X_test = [ bina_trans(x) for x in prediction_on_X_test]\n",
    "# print('roc_auc on test: ', accuracy_score(y_test, prediction_on_X_test))"
   ]
  },
  {
   "cell_type": "markdown",
   "metadata": {},
   "source": [
    "### LightGBM"
   ]
  },
  {
   "cell_type": "code",
   "execution_count": 697,
   "metadata": {},
   "outputs": [],
   "source": [
    "import lightgbm as lgb\n",
    "\n",
    "X = df2.iloc[:,1:]\n",
    "y = df2.iloc[:,0].map(lambda x: 1 if x == True else 0 )\n",
    "X_train, X_test, y_train, y_test = train_test_split(X, y, test_size=0.33, random_state=33)\n",
    "X_train_lgb, X_val_lgb, y_train_lgb, y_val_lgb = train_test_split(X_train, y_train, test_size=0.15, random_state=33)"
   ]
  },
  {
   "cell_type": "code",
   "execution_count": 698,
   "metadata": {},
   "outputs": [],
   "source": [
    "## Tuning process\n",
    "\n",
    "# %%time\n",
    "# parameters = {'num_leaves': range(2,16),\n",
    "#          'feature_fraction': [0.3, 0.5,1],\n",
    "#          'n_estimators': [1000],\n",
    "#          'learning_rate': [0.005, 0.01, 0.05, 0.1],\n",
    "#          'metric': ['auc'],\n",
    "#          'objective': ['binary'],\n",
    "#          'boosting_type': ['gbdt']\n",
    "#          }\n",
    "\n",
    "# bst = lgb.LGBMClassifier()\n",
    "# bst_grid = GridSearchCV(bst, parameters, scoring='roc_auc', cv=3)\n",
    "# bst_grid.fit(X_train_lgb.values, y_train_lgb.values, \n",
    "#              eval_set=[(X_val_lgb.values, y_val_lgb.values)],\n",
    "#             verbose = False, early_stopping_rounds = 50)\n",
    "\n",
    "# bst_grid.best_params_"
   ]
  },
  {
   "cell_type": "code",
   "execution_count": 699,
   "metadata": {},
   "outputs": [
    {
     "name": "stdout",
     "output_type": "stream",
     "text": [
      "train roc_auc:  0.9465516147365053\n",
      "test roc_auc:  0.8996944770946866\n"
     ]
    }
   ],
   "source": [
    "bst = lgb.LGBMClassifier(boosting_type= 'gbdt',\n",
    "                        objective = 'binary',\n",
    "                         metric = 'auc',\n",
    "                        num_leaves = 20,\n",
    "                        n_estimators = 1000,\n",
    "                        feature_fraction = 0.3,\n",
    "                         learning_rate = 0.01\n",
    "                         )\n",
    "\n",
    "bst.fit(X_train.values, y_train.values)\n",
    "\n",
    "prediction_on_X_train = bst.predict_proba(X_train)\n",
    "print('train roc_auc: ', roc_auc_score(y_train, prediction_on_X_train[:,1]))\n",
    "\n",
    "prediction_on_X_test = bst.predict_proba(X_test)\n",
    "print('test roc_auc: ', roc_auc_score(y_test, prediction_on_X_test[:,1]))"
   ]
  },
  {
   "cell_type": "markdown",
   "metadata": {},
   "source": [
    "#### Combine NN, RF and LightGB"
   ]
  },
  {
   "cell_type": "code",
   "execution_count": 700,
   "metadata": {},
   "outputs": [
    {
     "name": "stdout",
     "output_type": "stream",
     "text": [
      "test roc_auc:  0.9014394020344954\n"
     ]
    }
   ],
   "source": [
    "NN_predict = saved_model.predict_proba(X_test_s)\n",
    "bst_predict = bst.predict_proba(X_test)\n",
    "rf_predict = rf_model.predict_proba(X_test)\n",
    "\n",
    "nn_prob = np.array([ x[0] for x in NN_predict])\n",
    "bst_prob = bst_predict[:,1]\n",
    "rf_prob = rf_predict[:,1]\n",
    "\n",
    "avg = (nn_prob+bst_prob+rf_prob)/3\n",
    "\n",
    "print('test roc_auc: ', roc_auc_score(y_test, avg))"
   ]
  }
 ],
 "metadata": {
  "kernelspec": {
   "display_name": "Python 3",
   "language": "python",
   "name": "python3"
  },
  "language_info": {
   "codemirror_mode": {
    "name": "ipython",
    "version": 3
   },
   "file_extension": ".py",
   "mimetype": "text/x-python",
   "name": "python",
   "nbconvert_exporter": "python",
   "pygments_lexer": "ipython3",
   "version": "3.6.8"
  }
 },
 "nbformat": 4,
 "nbformat_minor": 2
}
