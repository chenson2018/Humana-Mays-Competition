{
 "cells": [
  {
   "cell_type": "code",
   "execution_count": 1,
   "metadata": {},
   "outputs": [
    {
     "name": "stderr",
     "output_type": "stream",
     "text": [
      "<string>:2: DtypeWarning: Columns (8) have mixed types. Specify dtype option on import or set low_memory=False.\n"
     ]
    },
    {
     "name": "stdout",
     "output_type": "stream",
     "text": [
      "Wall time: 34.1 s\n"
     ]
    }
   ],
   "source": [
    "%%time\n",
    "import pandas as pd\n",
    "df = pd.read_csv('HMAHCC_COMP.csv')"
   ]
  },
  {
   "cell_type": "markdown",
   "metadata": {},
   "source": [
    "##### Summary\n",
    "1. Opioid drugs have 77 brand names, and 213 generic names\n",
    "2. People who use stronger drugs on day 0 are more likely to get LTOT\n",
    "\n",
    "##### Next Step\n",
    "1. Build features based on usage history of 213 generic names. \n",
    "2. The entries of these features can be binary numbers, total dosage or usage frequency."
   ]
  },
  {
   "cell_type": "code",
   "execution_count": 2,
   "metadata": {},
   "outputs": [],
   "source": [
    "pd.set_option('display.width', 1000)\n",
    "pd.set_option('display.max_rows', 1000)"
   ]
  },
  {
   "cell_type": "code",
   "execution_count": 3,
   "metadata": {},
   "outputs": [],
   "source": [
    "rx_paid = df[df['event_descr']=='RX Claim - Paid']\n",
    "\n",
    "rx_paid = rx_paid.drop(['event_attr2',\n",
    "                        'event_attr7'],\n",
    "                         axis = 1)\n",
    "\n",
    "rx_paid.columns = ['id',\n",
    "                   'event_descr',\n",
    "                   'gpi_drug_class_description',\n",
    "                   'rx_cost',\n",
    "                   'net_paid_amount',\n",
    "                   'brand_name',\n",
    "                   'drug_group_description',\n",
    "                   'generic_name',\n",
    "                   'member_responsible_amount',\n",
    "                   'gpi_drug_group8_id',\n",
    "                   'Days',\n",
    "                   'PAY_DAY_SUPPLY_CNT',\n",
    "                   'PAYABLE_QTY',\n",
    "                   'MME',\n",
    "                   'DRUG_TYPE',\n",
    "                   'Specialty',\n",
    "                   'Specialty2',\n",
    "                   'Specialty3']"
   ]
  },
  {
   "cell_type": "code",
   "execution_count": 4,
   "metadata": {},
   "outputs": [
    {
     "data": {
      "text/html": [
       "<div>\n",
       "<style scoped>\n",
       "    .dataframe tbody tr th:only-of-type {\n",
       "        vertical-align: middle;\n",
       "    }\n",
       "\n",
       "    .dataframe tbody tr th {\n",
       "        vertical-align: top;\n",
       "    }\n",
       "\n",
       "    .dataframe thead th {\n",
       "        text-align: right;\n",
       "    }\n",
       "</style>\n",
       "<table border=\"1\" class=\"dataframe\">\n",
       "  <thead>\n",
       "    <tr style=\"text-align: right;\">\n",
       "      <th></th>\n",
       "      <th>id</th>\n",
       "      <th>LTOT</th>\n",
       "    </tr>\n",
       "  </thead>\n",
       "  <tbody>\n",
       "    <tr>\n",
       "      <th>0</th>\n",
       "      <td>ID10010854159</td>\n",
       "      <td>False</td>\n",
       "    </tr>\n",
       "    <tr>\n",
       "      <th>1</th>\n",
       "      <td>ID10013863216</td>\n",
       "      <td>True</td>\n",
       "    </tr>\n",
       "    <tr>\n",
       "      <th>2</th>\n",
       "      <td>ID10024447278</td>\n",
       "      <td>True</td>\n",
       "    </tr>\n",
       "    <tr>\n",
       "      <th>3</th>\n",
       "      <td>ID1002482139</td>\n",
       "      <td>True</td>\n",
       "    </tr>\n",
       "    <tr>\n",
       "      <th>4</th>\n",
       "      <td>ID1003386406</td>\n",
       "      <td>False</td>\n",
       "    </tr>\n",
       "  </tbody>\n",
       "</table>\n",
       "</div>"
      ],
      "text/plain": [
       "              id   LTOT\n",
       "0  ID10010854159  False\n",
       "1  ID10013863216   True\n",
       "2  ID10024447278   True\n",
       "3   ID1002482139   True\n",
       "4   ID1003386406  False"
      ]
     },
     "execution_count": 4,
     "metadata": {},
     "output_type": "execute_result"
    }
   ],
   "source": [
    "# read in response_variable\n",
    "response_variable = pd.read_csv('response_variable.csv')\n",
    "response_variable = response_variable.iloc[:,:2]\n",
    "response_variable.head()"
   ]
  },
  {
   "cell_type": "code",
   "execution_count": 5,
   "metadata": {},
   "outputs": [],
   "source": [
    "opioid_col = ['id',\n",
    "              'gpi_drug_class_description',\n",
    "              'brand_name',\n",
    "              'drug_group_description',\n",
    "              'generic_name',\n",
    "              'gpi_drug_group8_id',\n",
    "              'PAY_DAY_SUPPLY_CNT',\n",
    "              'Specialty',\n",
    "              'Specialty2',\n",
    "              'Specialty3',\n",
    "              'Days']\n",
    "\n",
    "opioid = rx_paid[ (rx_paid['PAY_DAY_SUPPLY_CNT'].notnull())][opioid_col]"
   ]
  },
  {
   "cell_type": "code",
   "execution_count": 6,
   "metadata": {},
   "outputs": [
    {
     "data": {
      "text/plain": [
       "77"
      ]
     },
     "execution_count": 6,
     "metadata": {},
     "output_type": "execute_result"
    }
   ],
   "source": [
    "len(opioid['brand_name'].value_counts())"
   ]
  },
  {
   "cell_type": "code",
   "execution_count": 7,
   "metadata": {},
   "outputs": [
    {
     "data": {
      "text/plain": [
       "213"
      ]
     },
     "execution_count": 7,
     "metadata": {},
     "output_type": "execute_result"
    }
   ],
   "source": [
    "len(opioid['generic_name'].value_counts())"
   ]
  },
  {
   "cell_type": "code",
   "execution_count": 8,
   "metadata": {},
   "outputs": [
    {
     "data": {
      "text/plain": [
       "HYDROCODONE/ACETAMINOPHEN    86388\n",
       "TRAMADOL HCL                 62296\n",
       "OXYCODONE/ACETAMINOPHEN      33180\n",
       "OXYCODONE HCL                19977\n",
       "MORPHINE SULFATE ER           9850\n",
       "Name: brand_name, dtype: int64"
      ]
     },
     "execution_count": 8,
     "metadata": {},
     "output_type": "execute_result"
    }
   ],
   "source": [
    "# top 5 most used brands\n",
    "opioid['brand_name'].value_counts().head()"
   ]
  },
  {
   "cell_type": "markdown",
   "metadata": {},
   "source": [
    "#### My hypothesis is that ppl who take stronger drug on day 0 are more likely to get LTOT\n",
    "\n",
    "I look at HYDROCODONE/ACETAMINOPHEN first, because it's the most used opioid drug in this dataset"
   ]
  },
  {
   "cell_type": "code",
   "execution_count": 9,
   "metadata": {},
   "outputs": [
    {
     "data": {
      "text/plain": [
       "HYDROCODONE-ACETAMINOPHEN TAB 5-325 MG      3107\n",
       "HYDROCODONE-ACETAMINOPHEN TAB 7.5-325 MG    1204\n",
       "HYDROCODONE-ACETAMINOPHEN TAB 10-325 MG     1140\n",
       "Name: generic_name, dtype: int64"
      ]
     },
     "execution_count": 9,
     "metadata": {},
     "output_type": "execute_result"
    }
   ],
   "source": [
    "HYD = opioid[ (opioid['brand_name'] == 'HYDROCODONE/ACETAMINOPHEN') & (opioid['Days'] == 0)]\n",
    "HYD['generic_name'].value_counts()\n",
    "# there are 3 different dosages for HYD"
   ]
  },
  {
   "cell_type": "code",
   "execution_count": 10,
   "metadata": {},
   "outputs": [
    {
     "data": {
      "text/html": [
       "<div>\n",
       "<style scoped>\n",
       "    .dataframe tbody tr th:only-of-type {\n",
       "        vertical-align: middle;\n",
       "    }\n",
       "\n",
       "    .dataframe tbody tr th {\n",
       "        vertical-align: top;\n",
       "    }\n",
       "\n",
       "    .dataframe thead th {\n",
       "        text-align: right;\n",
       "    }\n",
       "</style>\n",
       "<table border=\"1\" class=\"dataframe\">\n",
       "  <thead>\n",
       "    <tr style=\"text-align: right;\">\n",
       "      <th></th>\n",
       "      <th>id</th>\n",
       "      <th>gpi_drug_class_description</th>\n",
       "      <th>brand_name</th>\n",
       "      <th>drug_group_description</th>\n",
       "      <th>generic_name</th>\n",
       "      <th>gpi_drug_group8_id</th>\n",
       "      <th>PAY_DAY_SUPPLY_CNT</th>\n",
       "      <th>Specialty</th>\n",
       "      <th>Specialty2</th>\n",
       "      <th>Specialty3</th>\n",
       "      <th>Days</th>\n",
       "      <th>LTOT</th>\n",
       "    </tr>\n",
       "  </thead>\n",
       "  <tbody>\n",
       "    <tr>\n",
       "      <th>0</th>\n",
       "      <td>ID10036289882</td>\n",
       "      <td>OPIOID COMBINATIONS</td>\n",
       "      <td>HYDROCODONE/ACETAMINOPHEN</td>\n",
       "      <td>PAIN</td>\n",
       "      <td>HYDROCODONE-ACETAMINOPHEN TAB 5-325 MG</td>\n",
       "      <td>65991702.0</td>\n",
       "      <td>2.0</td>\n",
       "      <td>Emergency</td>\n",
       "      <td>Emergency Medicine Emergency Med Svcs</td>\n",
       "      <td>HOSPICE &amp; PALLIATIVE MEDICINE</td>\n",
       "      <td>0</td>\n",
       "      <td>False</td>\n",
       "    </tr>\n",
       "    <tr>\n",
       "      <th>1</th>\n",
       "      <td>ID10036954381</td>\n",
       "      <td>OPIOID COMBINATIONS</td>\n",
       "      <td>HYDROCODONE/ACETAMINOPHEN</td>\n",
       "      <td>PAIN</td>\n",
       "      <td>HYDROCODONE-ACETAMINOPHEN TAB 5-325 MG</td>\n",
       "      <td>65991702.0</td>\n",
       "      <td>2.0</td>\n",
       "      <td>Orthopaedic Surgery</td>\n",
       "      <td>Orthopaedic Surgery Hand Surgery</td>\n",
       "      <td>NaN</td>\n",
       "      <td>0</td>\n",
       "      <td>False</td>\n",
       "    </tr>\n",
       "    <tr>\n",
       "      <th>2</th>\n",
       "      <td>ID10055739763</td>\n",
       "      <td>OPIOID COMBINATIONS</td>\n",
       "      <td>HYDROCODONE/ACETAMINOPHEN</td>\n",
       "      <td>PAIN</td>\n",
       "      <td>HYDROCODONE-ACETAMINOPHEN TAB 5-325 MG</td>\n",
       "      <td>65991702.0</td>\n",
       "      <td>5.0</td>\n",
       "      <td>Emergency</td>\n",
       "      <td>Family Practice</td>\n",
       "      <td>Emergency Medicine Emergency Med Svcs</td>\n",
       "      <td>0</td>\n",
       "      <td>True</td>\n",
       "    </tr>\n",
       "    <tr>\n",
       "      <th>3</th>\n",
       "      <td>ID10074598346</td>\n",
       "      <td>OPIOID COMBINATIONS</td>\n",
       "      <td>HYDROCODONE/ACETAMINOPHEN</td>\n",
       "      <td>PAIN</td>\n",
       "      <td>HYDROCODONE-ACETAMINOPHEN TAB 5-325 MG</td>\n",
       "      <td>65991702.0</td>\n",
       "      <td>5.0</td>\n",
       "      <td>STUDENT IN ORGANIZED HEALTHCARE EDU/TRAI</td>\n",
       "      <td>NaN</td>\n",
       "      <td>NaN</td>\n",
       "      <td>0</td>\n",
       "      <td>False</td>\n",
       "    </tr>\n",
       "    <tr>\n",
       "      <th>4</th>\n",
       "      <td>ID10081072715</td>\n",
       "      <td>OPIOID COMBINATIONS</td>\n",
       "      <td>HYDROCODONE/ACETAMINOPHEN</td>\n",
       "      <td>PAIN</td>\n",
       "      <td>HYDROCODONE-ACETAMINOPHEN TAB 5-325 MG</td>\n",
       "      <td>65991702.0</td>\n",
       "      <td>5.0</td>\n",
       "      <td>Emergency Medicine Undersea/Hyperbaric</td>\n",
       "      <td>Emergency</td>\n",
       "      <td>Emergency Medicine Emergency Med Svcs</td>\n",
       "      <td>0</td>\n",
       "      <td>False</td>\n",
       "    </tr>\n",
       "  </tbody>\n",
       "</table>\n",
       "</div>"
      ],
      "text/plain": [
       "              id gpi_drug_class_description                 brand_name drug_group_description                            generic_name  gpi_drug_group8_id  PAY_DAY_SUPPLY_CNT                                 Specialty                             Specialty2                             Specialty3  Days   LTOT\n",
       "0  ID10036289882        OPIOID COMBINATIONS  HYDROCODONE/ACETAMINOPHEN                   PAIN  HYDROCODONE-ACETAMINOPHEN TAB 5-325 MG          65991702.0                 2.0                                 Emergency  Emergency Medicine Emergency Med Svcs          HOSPICE & PALLIATIVE MEDICINE     0  False\n",
       "1  ID10036954381        OPIOID COMBINATIONS  HYDROCODONE/ACETAMINOPHEN                   PAIN  HYDROCODONE-ACETAMINOPHEN TAB 5-325 MG          65991702.0                 2.0                       Orthopaedic Surgery       Orthopaedic Surgery Hand Surgery                                    NaN     0  False\n",
       "2  ID10055739763        OPIOID COMBINATIONS  HYDROCODONE/ACETAMINOPHEN                   PAIN  HYDROCODONE-ACETAMINOPHEN TAB 5-325 MG          65991702.0                 5.0                                 Emergency                        Family Practice  Emergency Medicine Emergency Med Svcs     0   True\n",
       "3  ID10074598346        OPIOID COMBINATIONS  HYDROCODONE/ACETAMINOPHEN                   PAIN  HYDROCODONE-ACETAMINOPHEN TAB 5-325 MG          65991702.0                 5.0  STUDENT IN ORGANIZED HEALTHCARE EDU/TRAI                                    NaN                                    NaN     0  False\n",
       "4  ID10081072715        OPIOID COMBINATIONS  HYDROCODONE/ACETAMINOPHEN                   PAIN  HYDROCODONE-ACETAMINOPHEN TAB 5-325 MG          65991702.0                 5.0    Emergency Medicine Undersea/Hyperbaric                              Emergency  Emergency Medicine Emergency Med Svcs     0  False"
      ]
     },
     "execution_count": 10,
     "metadata": {},
     "output_type": "execute_result"
    }
   ],
   "source": [
    "HYD2 = pd.merge(HYD, response_variable, on = 'id')\n",
    "HYD2.head()"
   ]
  },
  {
   "cell_type": "code",
   "execution_count": 11,
   "metadata": {},
   "outputs": [
    {
     "data": {
      "text/html": [
       "<div>\n",
       "<style scoped>\n",
       "    .dataframe tbody tr th:only-of-type {\n",
       "        vertical-align: middle;\n",
       "    }\n",
       "\n",
       "    .dataframe tbody tr th {\n",
       "        vertical-align: top;\n",
       "    }\n",
       "\n",
       "    .dataframe thead th {\n",
       "        text-align: right;\n",
       "    }\n",
       "</style>\n",
       "<table border=\"1\" class=\"dataframe\">\n",
       "  <thead>\n",
       "    <tr style=\"text-align: right;\">\n",
       "      <th>LTOT</th>\n",
       "      <th>False</th>\n",
       "      <th>True</th>\n",
       "    </tr>\n",
       "  </thead>\n",
       "  <tbody>\n",
       "    <tr>\n",
       "      <th>HYDROCODONE-ACETAMINOPHEN TAB 10-325 MG</th>\n",
       "      <td>0.297368</td>\n",
       "      <td>0.702632</td>\n",
       "    </tr>\n",
       "    <tr>\n",
       "      <th>HYDROCODONE-ACETAMINOPHEN TAB 5-325 MG</th>\n",
       "      <td>0.670743</td>\n",
       "      <td>0.329257</td>\n",
       "    </tr>\n",
       "    <tr>\n",
       "      <th>HYDROCODONE-ACETAMINOPHEN TAB 7.5-325 MG</th>\n",
       "      <td>0.537375</td>\n",
       "      <td>0.462625</td>\n",
       "    </tr>\n",
       "  </tbody>\n",
       "</table>\n",
       "</div>"
      ],
      "text/plain": [
       "LTOT                                         False     True \n",
       "HYDROCODONE-ACETAMINOPHEN TAB 10-325 MG   0.297368  0.702632\n",
       "HYDROCODONE-ACETAMINOPHEN TAB 5-325 MG    0.670743  0.329257\n",
       "HYDROCODONE-ACETAMINOPHEN TAB 7.5-325 MG  0.537375  0.462625"
      ]
     },
     "execution_count": 11,
     "metadata": {},
     "output_type": "execute_result"
    }
   ],
   "source": [
    "(HYD2.groupby(by=['generic_name', 'LTOT'])['LTOT'].count().unstack().T/HYD['generic_name'].value_counts()).T"
   ]
  },
  {
   "cell_type": "markdown",
   "metadata": {},
   "source": [
    "Next I looked at other drug to further support my view"
   ]
  },
  {
   "cell_type": "code",
   "execution_count": 12,
   "metadata": {},
   "outputs": [
    {
     "data": {
      "text/plain": [
       "OXYCODONE W/ ACETAMINOPHEN TAB 5-325 MG      1049\n",
       "OXYCODONE W/ ACETAMINOPHEN TAB 10-325 MG      388\n",
       "OXYCODONE W/ ACETAMINOPHEN TAB 7.5-325 MG     184\n",
       "OXYCODONE W/ ACETAMINOPHEN TAB 2.5-325 MG       1\n",
       "Name: generic_name, dtype: int64"
      ]
     },
     "execution_count": 12,
     "metadata": {},
     "output_type": "execute_result"
    }
   ],
   "source": [
    "OXY = opioid[ (opioid['brand_name'] == 'OXYCODONE/ACETAMINOPHEN') & (opioid['Days'] == 0)]\n",
    "OXY['generic_name'].value_counts()"
   ]
  },
  {
   "cell_type": "code",
   "execution_count": 13,
   "metadata": {},
   "outputs": [
    {
     "data": {
      "text/html": [
       "<div>\n",
       "<style scoped>\n",
       "    .dataframe tbody tr th:only-of-type {\n",
       "        vertical-align: middle;\n",
       "    }\n",
       "\n",
       "    .dataframe tbody tr th {\n",
       "        vertical-align: top;\n",
       "    }\n",
       "\n",
       "    .dataframe thead th {\n",
       "        text-align: right;\n",
       "    }\n",
       "</style>\n",
       "<table border=\"1\" class=\"dataframe\">\n",
       "  <thead>\n",
       "    <tr style=\"text-align: right;\">\n",
       "      <th></th>\n",
       "      <th>id</th>\n",
       "      <th>gpi_drug_class_description</th>\n",
       "      <th>brand_name</th>\n",
       "      <th>drug_group_description</th>\n",
       "      <th>generic_name</th>\n",
       "      <th>gpi_drug_group8_id</th>\n",
       "      <th>PAY_DAY_SUPPLY_CNT</th>\n",
       "      <th>Specialty</th>\n",
       "      <th>Specialty2</th>\n",
       "      <th>Specialty3</th>\n",
       "      <th>Days</th>\n",
       "      <th>LTOT</th>\n",
       "    </tr>\n",
       "  </thead>\n",
       "  <tbody>\n",
       "    <tr>\n",
       "      <th>0</th>\n",
       "      <td>ID10024447278</td>\n",
       "      <td>OPIOID COMBINATIONS</td>\n",
       "      <td>OXYCODONE/ACETAMINOPHEN</td>\n",
       "      <td>PAIN</td>\n",
       "      <td>OXYCODONE W/ ACETAMINOPHEN TAB 5-325 MG</td>\n",
       "      <td>65990002.0</td>\n",
       "      <td>3.0</td>\n",
       "      <td>Emergency</td>\n",
       "      <td>Emergency Medicine Emergency Med Svcs</td>\n",
       "      <td>Family Practice</td>\n",
       "      <td>0</td>\n",
       "      <td>True</td>\n",
       "    </tr>\n",
       "    <tr>\n",
       "      <th>1</th>\n",
       "      <td>ID1013630023</td>\n",
       "      <td>OPIOID COMBINATIONS</td>\n",
       "      <td>OXYCODONE/ACETAMINOPHEN</td>\n",
       "      <td>PAIN</td>\n",
       "      <td>OXYCODONE W/ ACETAMINOPHEN TAB 10-325 MG</td>\n",
       "      <td>65990002.0</td>\n",
       "      <td>15.0</td>\n",
       "      <td>Internal Medicine</td>\n",
       "      <td>Hospitalist</td>\n",
       "      <td>Family Practice</td>\n",
       "      <td>0</td>\n",
       "      <td>True</td>\n",
       "    </tr>\n",
       "    <tr>\n",
       "      <th>2</th>\n",
       "      <td>ID10166893764</td>\n",
       "      <td>OPIOID COMBINATIONS</td>\n",
       "      <td>OXYCODONE/ACETAMINOPHEN</td>\n",
       "      <td>PAIN</td>\n",
       "      <td>OXYCODONE W/ ACETAMINOPHEN TAB 10-325 MG</td>\n",
       "      <td>65990002.0</td>\n",
       "      <td>30.0</td>\n",
       "      <td>Family Practice</td>\n",
       "      <td>General Practice</td>\n",
       "      <td>NaN</td>\n",
       "      <td>0</td>\n",
       "      <td>True</td>\n",
       "    </tr>\n",
       "    <tr>\n",
       "      <th>3</th>\n",
       "      <td>ID1020688098</td>\n",
       "      <td>OPIOID COMBINATIONS</td>\n",
       "      <td>OXYCODONE/ACETAMINOPHEN</td>\n",
       "      <td>PAIN</td>\n",
       "      <td>OXYCODONE W/ ACETAMINOPHEN TAB 5-325 MG</td>\n",
       "      <td>65990002.0</td>\n",
       "      <td>4.0</td>\n",
       "      <td>Obstetrics &amp; Gynecology</td>\n",
       "      <td>Obstetrics &amp; Gynecology Gynecology</td>\n",
       "      <td>Obstetrics &amp; Gynecology Obstetrics</td>\n",
       "      <td>0</td>\n",
       "      <td>False</td>\n",
       "    </tr>\n",
       "    <tr>\n",
       "      <th>4</th>\n",
       "      <td>ID10230809175</td>\n",
       "      <td>OPIOID COMBINATIONS</td>\n",
       "      <td>OXYCODONE/ACETAMINOPHEN</td>\n",
       "      <td>PAIN</td>\n",
       "      <td>OXYCODONE W/ ACETAMINOPHEN TAB 10-325 MG</td>\n",
       "      <td>65990002.0</td>\n",
       "      <td>30.0</td>\n",
       "      <td>Anesthesiology</td>\n",
       "      <td>NaN</td>\n",
       "      <td>NaN</td>\n",
       "      <td>0</td>\n",
       "      <td>True</td>\n",
       "    </tr>\n",
       "  </tbody>\n",
       "</table>\n",
       "</div>"
      ],
      "text/plain": [
       "              id gpi_drug_class_description               brand_name drug_group_description                              generic_name  gpi_drug_group8_id  PAY_DAY_SUPPLY_CNT                Specialty                             Specialty2                          Specialty3  Days   LTOT\n",
       "0  ID10024447278        OPIOID COMBINATIONS  OXYCODONE/ACETAMINOPHEN                   PAIN   OXYCODONE W/ ACETAMINOPHEN TAB 5-325 MG          65990002.0                 3.0                Emergency  Emergency Medicine Emergency Med Svcs                     Family Practice     0   True\n",
       "1   ID1013630023        OPIOID COMBINATIONS  OXYCODONE/ACETAMINOPHEN                   PAIN  OXYCODONE W/ ACETAMINOPHEN TAB 10-325 MG          65990002.0                15.0        Internal Medicine                            Hospitalist                     Family Practice     0   True\n",
       "2  ID10166893764        OPIOID COMBINATIONS  OXYCODONE/ACETAMINOPHEN                   PAIN  OXYCODONE W/ ACETAMINOPHEN TAB 10-325 MG          65990002.0                30.0          Family Practice                       General Practice                                 NaN     0   True\n",
       "3   ID1020688098        OPIOID COMBINATIONS  OXYCODONE/ACETAMINOPHEN                   PAIN   OXYCODONE W/ ACETAMINOPHEN TAB 5-325 MG          65990002.0                 4.0  Obstetrics & Gynecology     Obstetrics & Gynecology Gynecology  Obstetrics & Gynecology Obstetrics     0  False\n",
       "4  ID10230809175        OPIOID COMBINATIONS  OXYCODONE/ACETAMINOPHEN                   PAIN  OXYCODONE W/ ACETAMINOPHEN TAB 10-325 MG          65990002.0                30.0           Anesthesiology                                    NaN                                 NaN     0   True"
      ]
     },
     "execution_count": 13,
     "metadata": {},
     "output_type": "execute_result"
    }
   ],
   "source": [
    "OXY = pd.merge(OXY, response_variable, on = 'id')\n",
    "OXY.head()"
   ]
  },
  {
   "cell_type": "code",
   "execution_count": 14,
   "metadata": {},
   "outputs": [
    {
     "data": {
      "text/html": [
       "<div>\n",
       "<style scoped>\n",
       "    .dataframe tbody tr th:only-of-type {\n",
       "        vertical-align: middle;\n",
       "    }\n",
       "\n",
       "    .dataframe tbody tr th {\n",
       "        vertical-align: top;\n",
       "    }\n",
       "\n",
       "    .dataframe thead th {\n",
       "        text-align: right;\n",
       "    }\n",
       "</style>\n",
       "<table border=\"1\" class=\"dataframe\">\n",
       "  <thead>\n",
       "    <tr style=\"text-align: right;\">\n",
       "      <th>LTOT</th>\n",
       "      <th>False</th>\n",
       "      <th>True</th>\n",
       "    </tr>\n",
       "  </thead>\n",
       "  <tbody>\n",
       "    <tr>\n",
       "      <th>OXYCODONE W/ ACETAMINOPHEN TAB 10-325 MG</th>\n",
       "      <td>0.195876</td>\n",
       "      <td>0.804124</td>\n",
       "    </tr>\n",
       "    <tr>\n",
       "      <th>OXYCODONE W/ ACETAMINOPHEN TAB 2.5-325 MG</th>\n",
       "      <td>1.000000</td>\n",
       "      <td>NaN</td>\n",
       "    </tr>\n",
       "    <tr>\n",
       "      <th>OXYCODONE W/ ACETAMINOPHEN TAB 5-325 MG</th>\n",
       "      <td>0.668255</td>\n",
       "      <td>0.331745</td>\n",
       "    </tr>\n",
       "    <tr>\n",
       "      <th>OXYCODONE W/ ACETAMINOPHEN TAB 7.5-325 MG</th>\n",
       "      <td>0.369565</td>\n",
       "      <td>0.630435</td>\n",
       "    </tr>\n",
       "  </tbody>\n",
       "</table>\n",
       "</div>"
      ],
      "text/plain": [
       "LTOT                                          False     True \n",
       "OXYCODONE W/ ACETAMINOPHEN TAB 10-325 MG   0.195876  0.804124\n",
       "OXYCODONE W/ ACETAMINOPHEN TAB 2.5-325 MG  1.000000       NaN\n",
       "OXYCODONE W/ ACETAMINOPHEN TAB 5-325 MG    0.668255  0.331745\n",
       "OXYCODONE W/ ACETAMINOPHEN TAB 7.5-325 MG  0.369565  0.630435"
      ]
     },
     "execution_count": 14,
     "metadata": {},
     "output_type": "execute_result"
    }
   ],
   "source": [
    "(OXY.groupby(by=['generic_name', 'LTOT'])['LTOT'].count().unstack().T/OXY['generic_name'].value_counts()).T"
   ]
  }
 ],
 "metadata": {
  "kernelspec": {
   "display_name": "Python 3",
   "language": "python",
   "name": "python3"
  },
  "language_info": {
   "codemirror_mode": {
    "name": "ipython",
    "version": 3
   },
   "file_extension": ".py",
   "mimetype": "text/x-python",
   "name": "python",
   "nbconvert_exporter": "python",
   "pygments_lexer": "ipython3",
   "version": "3.6.8"
  }
 },
 "nbformat": 4,
 "nbformat_minor": 2
}
